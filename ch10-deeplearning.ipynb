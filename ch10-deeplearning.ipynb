{
 "cells": [
  {
   "cell_type": "code",
   "execution_count": 1,
   "metadata": {},
   "outputs": [],
   "source": [
    "from sklearn.datasets import fetch_openml"
   ]
  },
  {
   "cell_type": "code",
   "execution_count": 2,
   "metadata": {},
   "outputs": [],
   "source": [
    "import tensorflow.keras.datasets as tfds"
   ]
  },
  {
   "cell_type": "code",
   "execution_count": 3,
   "metadata": {},
   "outputs": [],
   "source": [
    "import ssl\n",
    "ssl._create_default_https_context = ssl._create_unverified_context\n",
    "\n",
    "(x_train, y_train), (x_test, y_test) = tfds.fashion_mnist.load_data()"
   ]
  },
  {
   "cell_type": "markdown",
   "metadata": {},
   "source": [
    "## Using basic ML first to observe the performance"
   ]
  },
  {
   "cell_type": "code",
   "execution_count": 4,
   "metadata": {},
   "outputs": [],
   "source": [
    "from sklearn.svm import SVC\n",
    "from sklearn.ensemble import RandomForestClassifier\n",
    "from sklearn.decomposition import PCA"
   ]
  },
  {
   "cell_type": "code",
   "execution_count": 5,
   "metadata": {},
   "outputs": [
    {
     "name": "stdout",
     "output_type": "stream",
     "text": [
      "(60000, 28, 28)\n",
      "255\n",
      "uint8\n",
      "[9 0 0 ... 3 0 5]\n"
     ]
    }
   ],
   "source": [
    "print(x_train.shape)\n",
    "print(x_train.max())\n",
    "print(x_train.dtype)\n",
    "print(y_train)"
   ]
  },
  {
   "cell_type": "code",
   "execution_count": 6,
   "metadata": {},
   "outputs": [
    {
     "name": "stdout",
     "output_type": "stream",
     "text": [
      "(60000, 28, 28)\n",
      "0.2860405969887955\n",
      "float64\n"
     ]
    }
   ],
   "source": [
    "x_train_scale = x_train/255.0\n",
    "print(x_train_scale.shape)\n",
    "print(x_train_scale.mean())\n",
    "print(x_train_scale.dtype)"
   ]
  },
  {
   "cell_type": "code",
   "execution_count": 11,
   "metadata": {},
   "outputs": [],
   "source": [
    "pca = PCA(0.95)"
   ]
  },
  {
   "cell_type": "code",
   "execution_count": 12,
   "metadata": {},
   "outputs": [],
   "source": [
    "x_train_scale_vec = x_train_scale.reshape(x_train.shape[0], -1)\n",
    "x_train_scale_pca = pca.fit_transform(x_train_scale_vec)"
   ]
  },
  {
   "cell_type": "code",
   "execution_count": 13,
   "metadata": {},
   "outputs": [
    {
     "name": "stdout",
     "output_type": "stream",
     "text": [
      "(60000, 187)\n",
      "-4.2613138211185833e-16\n",
      "float64\n"
     ]
    }
   ],
   "source": [
    "print(x_train_scale_pca.shape)\n",
    "print(x_train_scale_pca.mean())\n",
    "print(x_train_scale_pca.dtype)"
   ]
  },
  {
   "cell_type": "code",
   "execution_count": 14,
   "metadata": {},
   "outputs": [],
   "source": [
    "models = {}\n",
    "models['svc'] = SVC()\n",
    "models['forest'] = RandomForestClassifier()"
   ]
  },
  {
   "cell_type": "code",
   "execution_count": 15,
   "metadata": {},
   "outputs": [
    {
     "data": {
      "text/plain": [
       "SVC()"
      ]
     },
     "execution_count": 15,
     "metadata": {},
     "output_type": "execute_result"
    }
   ],
   "source": [
    "models['svc'].fit(x_train_scale_pca, y_train)"
   ]
  },
  {
   "cell_type": "code",
   "execution_count": 16,
   "metadata": {},
   "outputs": [],
   "source": [
    "x_test_scale = x_test/255.0\n",
    "x_test_scale_vec = x_test_scale.reshape(x_test.shape[0], -1)\n",
    "x_test_scale_pca = pca.transform(x_test_scale_vec)"
   ]
  },
  {
   "cell_type": "code",
   "execution_count": 17,
   "metadata": {},
   "outputs": [
    {
     "data": {
      "text/plain": [
       "0.886"
      ]
     },
     "execution_count": 17,
     "metadata": {},
     "output_type": "execute_result"
    }
   ],
   "source": [
    "models['svc'].score(x_test_scale_pca, y_test)"
   ]
  },
  {
   "cell_type": "code",
   "execution_count": 19,
   "metadata": {},
   "outputs": [
    {
     "data": {
      "text/plain": [
       "19959"
      ]
     },
     "execution_count": 19,
     "metadata": {},
     "output_type": "execute_result"
    }
   ],
   "source": [
    "models['svc'].n_support_.sum()"
   ]
  },
  {
   "cell_type": "markdown",
   "metadata": {},
   "source": [
    "**Let's try on RandomForest**"
   ]
  },
  {
   "cell_type": "code",
   "execution_count": 20,
   "metadata": {},
   "outputs": [
    {
     "data": {
      "text/plain": [
       "RandomForestClassifier()"
      ]
     },
     "execution_count": 20,
     "metadata": {},
     "output_type": "execute_result"
    }
   ],
   "source": [
    "models['forest'].fit(x_train_scale_pca, y_train)"
   ]
  },
  {
   "cell_type": "code",
   "execution_count": 21,
   "metadata": {},
   "outputs": [
    {
     "data": {
      "text/plain": [
       "0.8579"
      ]
     },
     "execution_count": 21,
     "metadata": {},
     "output_type": "execute_result"
    }
   ],
   "source": [
    "models['forest'].score(x_test_scale_pca, y_test)"
   ]
  },
  {
   "cell_type": "code",
   "execution_count": 25,
   "metadata": {},
   "outputs": [],
   "source": [
    "import os\n",
    "import pickle\n",
    "from shutil import copyfileobj\n",
    "\n",
    "SAVE_PATH = './saved_model/ch10-deeplearning'\n",
    "os.makedirs(SAVE_PATH)\n",
    "\n",
    "with open(SAVE_PATH + '/basic-ml-models', 'wb') as f:\n",
    "    serial = pickle.dumps(models)\n",
    "    f.write(serial)"
   ]
  },
  {
   "cell_type": "markdown",
   "metadata": {},
   "source": [
    "**We can see that the basic-ml model cannot reach 90% in this task (note that we reduce the dimension of the data making it loss the information about 5%)**"
   ]
  },
  {
   "cell_type": "markdown",
   "metadata": {},
   "source": [
    "## Test on deep learning model !"
   ]
  },
  {
   "cell_type": "code",
   "execution_count": 34,
   "metadata": {},
   "outputs": [],
   "source": [
    "from tensorflow.keras.models import Sequential\n",
    "from tensorflow.keras.layers import Dense, Flatten\n",
    "import tensorflow as tf"
   ]
  },
  {
   "cell_type": "code",
   "execution_count": 45,
   "metadata": {},
   "outputs": [],
   "source": [
    "tf.keras.backend.clear_session()\n",
    "\n",
    "dnn = Sequential([\n",
    "    Flatten(input_shape=[28, 28]),\n",
    "    Dense(150, activation='relu'),\n",
    "    Dense(150, activation='relu'),\n",
    "    Dense(10, activation = 'softmax')\n",
    "])\n",
    "\n",
    "dnn.compile(loss = 'sparse_categorical_crossentropy', optimizer = 'adam', metrics=['accuracy'])"
   ]
  },
  {
   "cell_type": "code",
   "execution_count": 46,
   "metadata": {},
   "outputs": [
    {
     "name": "stdout",
     "output_type": "stream",
     "text": [
      "Model: \"sequential\"\n",
      "_________________________________________________________________\n",
      "Layer (type)                 Output Shape              Param #   \n",
      "=================================================================\n",
      "flatten (Flatten)            (None, 784)               0         \n",
      "_________________________________________________________________\n",
      "dense (Dense)                (None, 150)               117750    \n",
      "_________________________________________________________________\n",
      "dense_1 (Dense)              (None, 150)               22650     \n",
      "_________________________________________________________________\n",
      "dense_2 (Dense)              (None, 10)                1510      \n",
      "=================================================================\n",
      "Total params: 141,910\n",
      "Trainable params: 141,910\n",
      "Non-trainable params: 0\n",
      "_________________________________________________________________\n"
     ]
    }
   ],
   "source": [
    "dnn.summary()"
   ]
  },
  {
   "cell_type": "code",
   "execution_count": 47,
   "metadata": {},
   "outputs": [
    {
     "name": "stdout",
     "output_type": "stream",
     "text": [
      "Epoch 1/20\n",
      "1875/1875 [==============================] - 6s 3ms/step - loss: 0.4800 - accuracy: 0.8283 - val_loss: 0.4333 - val_accuracy: 0.8422\n",
      "Epoch 2/20\n",
      "1875/1875 [==============================] - 5s 3ms/step - loss: 0.3609 - accuracy: 0.8683 - val_loss: 0.3712 - val_accuracy: 0.8625\n",
      "Epoch 3/20\n",
      "1875/1875 [==============================] - 5s 2ms/step - loss: 0.3281 - accuracy: 0.8795 - val_loss: 0.3542 - val_accuracy: 0.8706\n",
      "Epoch 4/20\n",
      "1875/1875 [==============================] - 5s 3ms/step - loss: 0.3053 - accuracy: 0.8868 - val_loss: 0.3369 - val_accuracy: 0.8774\n",
      "Epoch 5/20\n",
      "1875/1875 [==============================] - 5s 3ms/step - loss: 0.2855 - accuracy: 0.8935 - val_loss: 0.3416 - val_accuracy: 0.8759\n",
      "Epoch 6/20\n",
      "1875/1875 [==============================] - 5s 3ms/step - loss: 0.2721 - accuracy: 0.8978 - val_loss: 0.3355 - val_accuracy: 0.8806\n",
      "Epoch 7/20\n",
      "1875/1875 [==============================] - 5s 3ms/step - loss: 0.2594 - accuracy: 0.9035 - val_loss: 0.3287 - val_accuracy: 0.8847\n",
      "Epoch 8/20\n",
      "1875/1875 [==============================] - 6s 3ms/step - loss: 0.2471 - accuracy: 0.9082 - val_loss: 0.3488 - val_accuracy: 0.8778\n",
      "Epoch 9/20\n",
      "1875/1875 [==============================] - 7s 3ms/step - loss: 0.2374 - accuracy: 0.9101 - val_loss: 0.3242 - val_accuracy: 0.8866\n",
      "Epoch 10/20\n",
      "1875/1875 [==============================] - 5s 3ms/step - loss: 0.2290 - accuracy: 0.9136 - val_loss: 0.3942 - val_accuracy: 0.8750\n",
      "Epoch 11/20\n",
      "1875/1875 [==============================] - 6s 3ms/step - loss: 0.2194 - accuracy: 0.9165 - val_loss: 0.3449 - val_accuracy: 0.8845\n",
      "Epoch 12/20\n",
      "1875/1875 [==============================] - 7s 3ms/step - loss: 0.2119 - accuracy: 0.9186 - val_loss: 0.3380 - val_accuracy: 0.8843\n",
      "Epoch 13/20\n",
      "1875/1875 [==============================] - 7s 4ms/step - loss: 0.2045 - accuracy: 0.9218 - val_loss: 0.3487 - val_accuracy: 0.8848\n",
      "Epoch 14/20\n",
      "1875/1875 [==============================] - 6s 3ms/step - loss: 0.1962 - accuracy: 0.9248 - val_loss: 0.3628 - val_accuracy: 0.8864\n",
      "Epoch 15/20\n",
      "1875/1875 [==============================] - 6s 3ms/step - loss: 0.1916 - accuracy: 0.9277 - val_loss: 0.3666 - val_accuracy: 0.8887\n",
      "Epoch 16/20\n",
      "1875/1875 [==============================] - 6s 3ms/step - loss: 0.1851 - accuracy: 0.9294 - val_loss: 0.3456 - val_accuracy: 0.8894\n",
      "Epoch 17/20\n",
      "1875/1875 [==============================] - 6s 3ms/step - loss: 0.1792 - accuracy: 0.9314 - val_loss: 0.3813 - val_accuracy: 0.8816\n",
      "Epoch 18/20\n",
      "1875/1875 [==============================] - 7s 4ms/step - loss: 0.1747 - accuracy: 0.9324 - val_loss: 0.3788 - val_accuracy: 0.8913\n",
      "Epoch 19/20\n",
      "1875/1875 [==============================] - 6s 3ms/step - loss: 0.1677 - accuracy: 0.9348 - val_loss: 0.3816 - val_accuracy: 0.8873\n",
      "Epoch 20/20\n",
      "1875/1875 [==============================] - 6s 3ms/step - loss: 0.1630 - accuracy: 0.9379 - val_loss: 0.4205 - val_accuracy: 0.8823\n"
     ]
    },
    {
     "data": {
      "text/plain": [
       "<tensorflow.python.keras.callbacks.History at 0x7f86264259d0>"
      ]
     },
     "execution_count": 47,
     "metadata": {},
     "output_type": "execute_result"
    }
   ],
   "source": [
    "dnn.fit(x_train_scale, y_train, epochs = 20, validation_data=(x_test_scale, y_test))"
   ]
  },
  {
   "cell_type": "code",
   "execution_count": 55,
   "metadata": {},
   "outputs": [
    {
     "name": "stdout",
     "output_type": "stream",
     "text": [
      "[9 2 1 1 6 1 4 6 5 7 4 5 5 3 4 1 2 2 8 0]\n",
      "[9 2 1 1 6 1 4 6 5 7 4 5 7 3 4 1 2 4 8 0]\n"
     ]
    }
   ],
   "source": [
    "import numpy as np\n",
    "\n",
    "print(np.argmax(dnn.predict(x_test_scale[:20]), axis = 1))\n",
    "print(y_test[:20])"
   ]
  },
  {
   "cell_type": "code",
   "execution_count": 59,
   "metadata": {},
   "outputs": [
    {
     "name": "stdout",
     "output_type": "stream",
     "text": [
      "INFO:tensorflow:Assets written to: ./saved_model/ch10-deeplearning/plain-dnn/assets\n"
     ]
    }
   ],
   "source": [
    "dnn.save(SAVE_PATH+'/plain-dnn')"
   ]
  },
  {
   "cell_type": "code",
   "execution_count": 62,
   "metadata": {},
   "outputs": [],
   "source": [
    "dnn.save(SAVE_PATH+'/plain-dnn-h5.h5')"
   ]
  },
  {
   "cell_type": "markdown",
   "metadata": {},
   "source": [
    "## Question 3  \n",
    "Logistics regression have a few hyper parameters to tweak and thus it is easier to implement in practice.  \n",
    "Actually, it is a multilayer perceptron with one hidden layer and one neuron."
   ]
  },
  {
   "cell_type": "markdown",
   "metadata": {},
   "source": [
    "## Question 4  \n",
    "Logistics regression always have a slop in any point of X, thus, it can be converged by gradient descent.  \n",
    "In contrast, the step function doesn't contain the slop so the Gradient descent is not moved at all."
   ]
  },
  {
   "cell_type": "markdown",
   "metadata": {},
   "source": [
    "## Question 5 \n",
    "1. Rectifier linear unit  \n",
    "2. Sigmoid  \n",
    "3. Hyperbolic tangent (tanh)  \n",
    "4. Leaky Relu"
   ]
  },
  {
   "cell_type": "markdown",
   "metadata": {},
   "source": [
    "## Question 6  \n",
    "* X shape is (m, 10). --> m is number of samples and n is the number of features. \n",
    "* W1 shape is (50, 10), b1 shape is (1, 50).  \n",
    "* Wo shape is (3, 50), bo shape is (1, 3).  \n",
    "* Y shape is (m, 3).  \n",
    "* Y = activation(activation(X\\*W1' + b1)\\*Wo + bo))"
   ]
  },
  {
   "cell_type": "markdown",
   "metadata": {},
   "source": [
    "## Question 7. \n",
    "1. For email spam classification, we need only one neuron with sigmoid or tahnh function.  \n",
    "2. For multilabel application like MNIST, we have to use number of output neurons equal to number of classes. Activation should be softmax).  \n",
    "3. For regression task, we only need one output neuron without activation function."
   ]
  },
  {
   "cell_type": "markdown",
   "metadata": {},
   "source": [
    "## Question 8. \n",
    "In computation steps, reverse mode autodiff and backpropagation is the same. However, the concept of reverse mode autodiff is just to calculate gradient of each variable. While backpropagation is the whole process to update each parameter of neural network using Gradient Descent."
   ]
  },
  {
   "cell_type": "markdown",
   "metadata": {},
   "source": [
    "## Question 9. \n",
    "There are many hyperparameters for MLPs to be tuned, such as  \n",
    "1. Number of layers  \n",
    "2. Number of neurons in each layer \n",
    "3. Learning rate \n",
    "4. Regularization  \n",
    "5. Type of activation function"
   ]
  },
  {
   "cell_type": "markdown",
   "metadata": {},
   "source": [
    "## Question 10. \n",
    "Try tunig neural network to predict MNIST with accuracy of 98%!"
   ]
  },
  {
   "cell_type": "code",
   "execution_count": 132,
   "metadata": {},
   "outputs": [],
   "source": [
    "from sklearn.datasets import fetch_openml\n",
    "import tensorflow as tf\n",
    "from tensorflow.keras.layers import Dense, Input, Dropout\n",
    "from tensorflow.keras.models import Sequential"
   ]
  },
  {
   "cell_type": "code",
   "execution_count": 64,
   "metadata": {},
   "outputs": [],
   "source": [
    "import ssl\n",
    "ssl._create_default_https_context = ssl._create_unverified_context"
   ]
  },
  {
   "cell_type": "code",
   "execution_count": 65,
   "metadata": {},
   "outputs": [],
   "source": [
    "X, y = fetch_openml('mnist_784', version = 1, return_X_y=True)"
   ]
  },
  {
   "cell_type": "code",
   "execution_count": 102,
   "metadata": {},
   "outputs": [],
   "source": [
    "num_train = 60000\n",
    "\n",
    "# transform data\n",
    "y = y.astype(int)\n",
    "X_scale = X/255\n",
    "\n",
    "X_train, X_test = X_scale[:num_train], X_scale[num_train:]\n",
    "y_train, y_test = y[:num_train], y[num_train:]"
   ]
  },
  {
   "cell_type": "code",
   "execution_count": 106,
   "metadata": {},
   "outputs": [
    {
     "name": "stdout",
     "output_type": "stream",
     "text": [
      "(70000, 784)\n",
      "0.0\n",
      "1.0\n",
      "0\n",
      "9\n",
      "float64\n"
     ]
    }
   ],
   "source": [
    "## basic visualize input\n",
    "print(X.shape)\n",
    "print(X_train.min())\n",
    "print(X_train.max())\n",
    "print(y_train.min())\n",
    "print(y_train.max())\n",
    "print(X.dtype)"
   ]
  },
  {
   "cell_type": "code",
   "execution_count": 107,
   "metadata": {},
   "outputs": [],
   "source": [
    "def lr_scheduler(epoch, lr):\n",
    "    return lr*tf.math.exp(epoch/100)\n",
    "\n",
    "lr_scheduler_cb = tf.keras.callbacks.LearningRateScheduler(lr_scheduler)"
   ]
  },
  {
   "cell_type": "code",
   "execution_count": 137,
   "metadata": {},
   "outputs": [],
   "source": [
    "def gen_logdir():\n",
    "    import time\n",
    "    import os\n",
    "    ROOT_PATH = './saved_model/ch10-deeplearning/mnist-model-logs'\n",
    "    log_dir = time.strftime(\"%Y%m%d-%H%M%S\")\n",
    "    return os.path.join(ROOT_PATH, log_dir)\n",
    "    \n",
    "run_logdir = gen_logdir()"
   ]
  },
  {
   "cell_type": "code",
   "execution_count": 155,
   "metadata": {},
   "outputs": [],
   "source": [
    "FILE_PATH = './saved_model/ch10-deeplearning/mnist-best-model'\n",
    "\n",
    "early_stop_cb = tf.keras.callbacks.EarlyStopping(patience=10)\n",
    "save_best_cb = tf.keras.callbacks.ModelCheckpoint(FILE_PATH, save_best_only=True)\n",
    "tensorboard_cb = tf.keras.callbacks.TensorBoard(run_logdir)"
   ]
  },
  {
   "cell_type": "code",
   "execution_count": 162,
   "metadata": {},
   "outputs": [],
   "source": [
    "model = Sequential([\n",
    "    Input(shape = [784]),\n",
    "    Dense(300, activation='relu'),\n",
    "    Dropout(0.5),\n",
    "    Dense(300, activation='relu'),\n",
    "    Dropout(0.5),\n",
    "    Dense(10, activation='softmax')\n",
    "])\n",
    "\n",
    "model.compile(loss='sparse_categorical_crossentropy', \n",
    "               metrics=['accuracy'],\n",
    "              optimizer=tf.keras.optimizers.SGD(lr = 0.2))"
   ]
  },
  {
   "cell_type": "code",
   "execution_count": 163,
   "metadata": {},
   "outputs": [
    {
     "name": "stdout",
     "output_type": "stream",
     "text": [
      "Model: \"sequential\"\n",
      "_________________________________________________________________\n",
      "Layer (type)                 Output Shape              Param #   \n",
      "=================================================================\n",
      "dense (Dense)                (None, 300)               235500    \n",
      "_________________________________________________________________\n",
      "dropout (Dropout)            (None, 300)               0         \n",
      "_________________________________________________________________\n",
      "dense_1 (Dense)              (None, 300)               90300     \n",
      "_________________________________________________________________\n",
      "dropout_1 (Dropout)          (None, 300)               0         \n",
      "_________________________________________________________________\n",
      "dense_2 (Dense)              (None, 10)                3010      \n",
      "=================================================================\n",
      "Total params: 328,810\n",
      "Trainable params: 328,810\n",
      "Non-trainable params: 0\n",
      "_________________________________________________________________\n"
     ]
    }
   ],
   "source": [
    "model.summary()"
   ]
  },
  {
   "cell_type": "code",
   "execution_count": 164,
   "metadata": {},
   "outputs": [
    {
     "name": "stdout",
     "output_type": "stream",
     "text": [
      "Epoch 1/100\n",
      "1875/1875 [==============================] - 8s 4ms/step - loss: 0.4014 - accuracy: 0.8752 - val_loss: 0.1569 - val_accuracy: 0.9536\n",
      "Epoch 2/100\n",
      "1875/1875 [==============================] - 8s 4ms/step - loss: 0.2304 - accuracy: 0.9324 - val_loss: 0.1342 - val_accuracy: 0.9621\n",
      "Epoch 3/100\n",
      "1875/1875 [==============================] - 8s 5ms/step - loss: 0.1935 - accuracy: 0.9434 - val_loss: 0.0953 - val_accuracy: 0.9701\n",
      "Epoch 4/100\n",
      "1875/1875 [==============================] - 9s 5ms/step - loss: 0.1724 - accuracy: 0.9491 - val_loss: 0.0946 - val_accuracy: 0.9707\n",
      "Epoch 5/100\n",
      "1875/1875 [==============================] - 8s 4ms/step - loss: 0.1551 - accuracy: 0.9543 - val_loss: 0.0896 - val_accuracy: 0.9738\n",
      "Epoch 6/100\n",
      "1875/1875 [==============================] - 8s 4ms/step - loss: 0.1443 - accuracy: 0.9563 - val_loss: 0.0852 - val_accuracy: 0.9742\n",
      "Epoch 7/100\n",
      "1875/1875 [==============================] - 8s 4ms/step - loss: 0.1350 - accuracy: 0.9591 - val_loss: 0.0803 - val_accuracy: 0.9756\n",
      "Epoch 8/100\n",
      "1875/1875 [==============================] - 8s 4ms/step - loss: 0.1295 - accuracy: 0.9613 - val_loss: 0.0794 - val_accuracy: 0.9762\n",
      "Epoch 9/100\n",
      "1875/1875 [==============================] - 8s 4ms/step - loss: 0.1251 - accuracy: 0.9622 - val_loss: 0.0800 - val_accuracy: 0.9763\n",
      "Epoch 10/100\n",
      "1875/1875 [==============================] - 8s 4ms/step - loss: 0.1173 - accuracy: 0.9655 - val_loss: 0.0783 - val_accuracy: 0.9773\n",
      "Epoch 11/100\n",
      "1875/1875 [==============================] - 8s 4ms/step - loss: 0.1138 - accuracy: 0.9655 - val_loss: 0.0788 - val_accuracy: 0.9764\n",
      "Epoch 12/100\n",
      "1875/1875 [==============================] - 8s 4ms/step - loss: 0.1097 - accuracy: 0.9671 - val_loss: 0.0738 - val_accuracy: 0.9776\n",
      "Epoch 13/100\n",
      "1875/1875 [==============================] - 8s 4ms/step - loss: 0.1041 - accuracy: 0.9681 - val_loss: 0.0712 - val_accuracy: 0.9799\n",
      "Epoch 14/100\n",
      "1875/1875 [==============================] - 8s 4ms/step - loss: 0.1047 - accuracy: 0.9681 - val_loss: 0.0764 - val_accuracy: 0.9774\n",
      "Epoch 15/100\n",
      "1875/1875 [==============================] - 8s 4ms/step - loss: 0.1004 - accuracy: 0.9701 - val_loss: 0.0760 - val_accuracy: 0.9783\n",
      "Epoch 16/100\n",
      "1875/1875 [==============================] - 8s 4ms/step - loss: 0.0994 - accuracy: 0.9700 - val_loss: 0.0699 - val_accuracy: 0.9791\n",
      "Epoch 17/100\n",
      "1875/1875 [==============================] - 8s 4ms/step - loss: 0.1001 - accuracy: 0.9703 - val_loss: 0.0700 - val_accuracy: 0.9789\n",
      "Epoch 18/100\n",
      "1875/1875 [==============================] - 8s 4ms/step - loss: 0.0938 - accuracy: 0.9718 - val_loss: 0.0723 - val_accuracy: 0.9799\n",
      "Epoch 19/100\n",
      "1875/1875 [==============================] - 9s 5ms/step - loss: 0.0882 - accuracy: 0.9731 - val_loss: 0.0761 - val_accuracy: 0.9787\n",
      "Epoch 20/100\n",
      "1875/1875 [==============================] - 9s 5ms/step - loss: 0.0881 - accuracy: 0.9734 - val_loss: 0.0699 - val_accuracy: 0.9793\n",
      "Epoch 21/100\n",
      "1875/1875 [==============================] - 8s 4ms/step - loss: 0.0882 - accuracy: 0.9741 - val_loss: 0.0718 - val_accuracy: 0.9809\n",
      "Epoch 22/100\n",
      "1875/1875 [==============================] - 8s 4ms/step - loss: 0.0846 - accuracy: 0.9742 - val_loss: 0.0724 - val_accuracy: 0.9791\n",
      "Epoch 23/100\n",
      "1875/1875 [==============================] - 8s 4ms/step - loss: 0.0876 - accuracy: 0.9736 - val_loss: 0.0684 - val_accuracy: 0.9803\n",
      "Epoch 24/100\n",
      "1875/1875 [==============================] - 8s 4ms/step - loss: 0.0834 - accuracy: 0.9745 - val_loss: 0.0713 - val_accuracy: 0.9803\n",
      "Epoch 25/100\n",
      "1875/1875 [==============================] - 8s 4ms/step - loss: 0.0846 - accuracy: 0.9746 - val_loss: 0.0686 - val_accuracy: 0.9815\n",
      "Epoch 26/100\n",
      "1875/1875 [==============================] - 8s 4ms/step - loss: 0.0841 - accuracy: 0.9745 - val_loss: 0.0669 - val_accuracy: 0.9812\n",
      "Epoch 27/100\n",
      "1875/1875 [==============================] - 8s 4ms/step - loss: 0.0769 - accuracy: 0.9768 - val_loss: 0.0648 - val_accuracy: 0.9811\n",
      "Epoch 28/100\n",
      "1875/1875 [==============================] - 9s 5ms/step - loss: 0.0800 - accuracy: 0.9757 - val_loss: 0.0701 - val_accuracy: 0.9809\n",
      "Epoch 29/100\n",
      "1875/1875 [==============================] - 9s 5ms/step - loss: 0.0773 - accuracy: 0.9762 - val_loss: 0.0661 - val_accuracy: 0.9807\n",
      "Epoch 30/100\n",
      "1875/1875 [==============================] - 8s 4ms/step - loss: 0.0795 - accuracy: 0.9765 - val_loss: 0.0670 - val_accuracy: 0.9818\n",
      "Epoch 31/100\n",
      "1875/1875 [==============================] - 8s 4ms/step - loss: 0.0731 - accuracy: 0.9783 - val_loss: 0.0659 - val_accuracy: 0.9819\n",
      "Epoch 32/100\n",
      "1875/1875 [==============================] - 8s 4ms/step - loss: 0.0738 - accuracy: 0.9779 - val_loss: 0.0659 - val_accuracy: 0.9819\n",
      "Epoch 33/100\n",
      "1875/1875 [==============================] - 9s 5ms/step - loss: 0.0739 - accuracy: 0.9775 - val_loss: 0.0725 - val_accuracy: 0.9804\n",
      "Epoch 34/100\n",
      "1875/1875 [==============================] - 9s 5ms/step - loss: 0.0727 - accuracy: 0.9783 - val_loss: 0.0769 - val_accuracy: 0.9794\n",
      "Epoch 35/100\n",
      "1875/1875 [==============================] - 8s 4ms/step - loss: 0.0737 - accuracy: 0.9780 - val_loss: 0.0735 - val_accuracy: 0.9792\n",
      "Epoch 36/100\n",
      "1875/1875 [==============================] - 9s 5ms/step - loss: 0.0711 - accuracy: 0.9784 - val_loss: 0.0762 - val_accuracy: 0.9788\n",
      "Epoch 37/100\n",
      "1875/1875 [==============================] - 9s 5ms/step - loss: 0.0704 - accuracy: 0.9791 - val_loss: 0.0683 - val_accuracy: 0.9808\n"
     ]
    }
   ],
   "source": [
    "tf.keras.backend.clear_session()\n",
    "tf.random.set_seed(42)\n",
    "\n",
    "history = model.fit(X_train, y_train, \n",
    "#           callbacks=[early_stop_cb, save_best_cb, tensorboard_cb],\n",
    "          callbacks=[early_stop_cb, save_best_cb],\n",
    "#           callbacks=[lr_scheduler_cb],\n",
    "          validation_data=(X_test, y_test),\n",
    "          epochs = 100\n",
    "         )"
   ]
  },
  {
   "cell_type": "code",
   "execution_count": 165,
   "metadata": {},
   "outputs": [
    {
     "name": "stdout",
     "output_type": "stream",
     "text": [
      "{'loss': [0.40137532353401184, 0.2303951531648636, 0.19345027208328247, 0.17240841686725616, 0.1551145613193512, 0.14427174627780914, 0.1349986046552658, 0.12945738434791565, 0.12508785724639893, 0.11730117350816727, 0.11375059932470322, 0.10969629883766174, 0.1040952205657959, 0.10474538803100586, 0.10042848438024521, 0.09941424429416656, 0.10008126497268677, 0.09384740889072418, 0.0881938636302948, 0.08812443166971207, 0.08816169947385788, 0.084639772772789, 0.08755512535572052, 0.08341549336910248, 0.0845818817615509, 0.08410821110010147, 0.07689609378576279, 0.08004670590162277, 0.07727761566638947, 0.0794922262430191, 0.07310046255588531, 0.07384046912193298, 0.07387550175189972, 0.0726594552397728, 0.07373599708080292, 0.07114942371845245, 0.07035522162914276], 'accuracy': [0.8751833438873291, 0.932449996471405, 0.9434000253677368, 0.9490666389465332, 0.9543166756629944, 0.9562833309173584, 0.9591166377067566, 0.9612666964530945, 0.962233304977417, 0.9655166864395142, 0.9654666781425476, 0.9670833349227905, 0.9680833220481873, 0.9681000113487244, 0.9700833559036255, 0.9700166583061218, 0.9702666401863098, 0.9718166589736938, 0.9730833172798157, 0.9733666777610779, 0.974133312702179, 0.9741500020027161, 0.9736166596412659, 0.9745333194732666, 0.9746166467666626, 0.9744833111763, 0.9767500162124634, 0.9756500124931335, 0.9762333035469055, 0.9764999747276306, 0.9782833456993103, 0.9779499769210815, 0.9774666428565979, 0.9782833456993103, 0.9779666662216187, 0.9783999919891357, 0.9790666699409485], 'val_loss': [0.1568661779165268, 0.13422194123268127, 0.0952678844332695, 0.09462933242321014, 0.08958153426647186, 0.08515594154596329, 0.08031690865755081, 0.07939413189888, 0.07995816320180893, 0.07828694581985474, 0.07877195626497269, 0.07380525767803192, 0.07119721919298172, 0.07641866058111191, 0.07604778558015823, 0.06985478103160858, 0.07000195235013962, 0.07227705419063568, 0.07613079994916916, 0.06987028568983078, 0.07175134122371674, 0.0724010095000267, 0.06836756318807602, 0.07132405042648315, 0.06861882656812668, 0.06694325059652328, 0.06475965678691864, 0.07010763138532639, 0.0661303848028183, 0.06697732210159302, 0.06591089814901352, 0.06586416065692902, 0.07253982871770859, 0.07694973051548004, 0.07346738129854202, 0.07618283480405807, 0.0683242455124855], 'val_accuracy': [0.9535999894142151, 0.9621000289916992, 0.9700999855995178, 0.9707000255584717, 0.973800003528595, 0.9742000102996826, 0.975600004196167, 0.9761999845504761, 0.9763000011444092, 0.9772999882698059, 0.9764000177383423, 0.9775999784469604, 0.9799000024795532, 0.977400004863739, 0.9782999753952026, 0.9790999889373779, 0.9789000153541565, 0.9799000024795532, 0.9786999821662903, 0.9793000221252441, 0.98089998960495, 0.9790999889373779, 0.9803000092506409, 0.9803000092506409, 0.9815000295639038, 0.9811999797821045, 0.9811000227928162, 0.98089998960495, 0.9807000160217285, 0.9818000197410583, 0.9818999767303467, 0.9818999767303467, 0.980400025844574, 0.9793999791145325, 0.979200005531311, 0.9787999987602234, 0.9807999730110168]}\n"
     ]
    }
   ],
   "source": [
    "print(history.history)\n",
    "loss = history.history['loss']\n",
    "val_loss = history.history['val_loss']"
   ]
  },
  {
   "cell_type": "code",
   "execution_count": 166,
   "metadata": {},
   "outputs": [
    {
     "data": {
      "text/plain": [
       "[<matplotlib.lines.Line2D at 0x7f85a8c94090>]"
      ]
     },
     "execution_count": 166,
     "metadata": {},
     "output_type": "execute_result"
    },
    {
     "data": {
      "image/png": "[encoded data removed]",
      "text/plain": [
       "<Figure size 432x288 with 1 Axes>"
      ]
     },
     "metadata": {
      "needs_background": "light"
     },
     "output_type": "display_data"
    }
   ],
   "source": [
    "import matplotlib.pyplot as plt\n",
    "\n",
    "plt.plot(loss)\n",
    "plt.plot(val_loss)"
   ]
  },
  {
   "cell_type": "code",
   "execution_count": 94,
   "metadata": {},
   "outputs": [
    {
     "name": "stdout",
     "output_type": "stream",
     "text": [
      "0.0012336781\n"
     ]
    }
   ],
   "source": [
    "# select minimum number\n",
    "import numpy as np\n",
    "print(lr[np.argmin(loss)])"
   ]
  },
  {
   "cell_type": "code",
   "execution_count": 167,
   "metadata": {},
   "outputs": [
    {
     "name": "stdout",
     "output_type": "stream",
     "text": [
      "313/313 [==============================] - 1s 2ms/step - loss: 0.0683 - accuracy: 0.9808: 0s - loss: 0.0871 - accura\n"
     ]
    },
    {
     "data": {
      "text/plain": [
       "[0.0683242455124855, 0.9807999730110168]"
      ]
     },
     "execution_count": 167,
     "metadata": {},
     "output_type": "execute_result"
    }
   ],
   "source": [
    "model.evaluate(X_test, y_test)"
   ]
  },
  {
   "cell_type": "code",
   "execution_count": 101,
   "metadata": {},
   "outputs": [
    {
     "name": "stdout",
     "output_type": "stream",
     "text": [
      "255.0\n"
     ]
    }
   ],
   "source": []
  },
  {
   "cell_type": "code",
   "execution_count": null,
   "metadata": {},
   "outputs": [],
   "source": []
  }
 ],
 "metadata": {
  "kernelspec": {
   "display_name": "Python 3",
   "language": "python",
   "name": "python3"
  },
  "language_info": {
   "codemirror_mode": {
    "name": "ipython",
    "version": 3
   },
   "file_extension": ".py",
   "mimetype": "text/x-python",
   "name": "python",
   "nbconvert_exporter": "python",
   "pygments_lexer": "ipython3",
   "version": "3.7.9"
  }
 },
 "nbformat": 4,
 "nbformat_minor": 4
}
