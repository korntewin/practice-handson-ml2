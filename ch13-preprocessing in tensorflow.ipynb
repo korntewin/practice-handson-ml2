{
 "cells": [
  {
   "cell_type": "code",
   "execution_count": 108,
   "metadata": {},
   "outputs": [],
   "source": [
    "from tensorflow.data import Dataset\n",
    "import tensorflow as tf"
   ]
  },
  {
   "cell_type": "code",
   "execution_count": 20,
   "metadata": {},
   "outputs": [],
   "source": [
    "dataset = Dataset.range(10)"
   ]
  },
  {
   "cell_type": "code",
   "execution_count": 21,
   "metadata": {},
   "outputs": [
    {
     "name": "stdout",
     "output_type": "stream",
     "text": [
      "tf.Tensor([0 1 2 3 4], shape=(5,), dtype=int64)\n",
      "tf.Tensor([5 6 7 8 9], shape=(5,), dtype=int64)\n"
     ]
    }
   ],
   "source": [
    "dataset = dataset.shuffle(buffer_size=1).batch(5)\n",
    "for data in dataset:\n",
    "    print(data)"
   ]
  },
  {
   "cell_type": "code",
   "execution_count": 103,
   "metadata": {},
   "outputs": [],
   "source": [
    "class RunName():\n",
    "    def __init__(self):\n",
    "        self.num = 0\n",
    "        return\n",
    "    \n",
    "    def __call__(self, fn, suffix):\n",
    "        self.num += 1\n",
    "        return f'{fn}_{self.num:04d}{suffix}'"
   ]
  },
  {
   "cell_type": "markdown",
   "metadata": {},
   "source": [
    "## Prepare housing data by splitting it to multiple csv files"
   ]
  },
  {
   "cell_type": "code",
   "execution_count": 104,
   "metadata": {},
   "outputs": [],
   "source": [
    "## Prepare housing split dataset to test Dataset API\n",
    "import os\n",
    "import csv\n",
    "\n",
    "FP = './datasets/housing_split/housing.csv'\n",
    "SPLIT_PATH = './datasets/housing_split/train_datasets'\n",
    "os.makedirs(SPLIT_PATH, exist_ok=True)\n",
    "\n",
    "SPLIT_FN = 'housing'\n",
    "# SPLIT_FP = os.path.join(SPLIT_PATH, SPLIT_FN)\n",
    "\n",
    "n_rows = 8\n",
    "\n",
    "with open(FP, 'r') as f:\n",
    "    reader = csv.reader(f)\n",
    "    attrib_name = next(reader)\n",
    "    run_name = RunName()\n",
    "\n",
    "    for num_line, line in enumerate(reader):\n",
    "        \n",
    "        if num_line % n_rows == 0:\n",
    "            run_split_fn = run_name(SPLIT_FN, '.csv')\n",
    "            run_split_fp = os.path.join(SPLIT_PATH, run_split_fn)\n",
    "            \n",
    "            with open(run_split_fp, 'w') as fp:\n",
    "                writer = csv.writer(fp)\n",
    "                writer.writerow(attrib_name)\n",
    "        \n",
    "        with open(run_split_fp, 'a') as fp:\n",
    "            writer = csv.writer(fp)\n",
    "            writer.writerow(line[:-1])"
   ]
  },
  {
   "cell_type": "markdown",
   "metadata": {},
   "source": [
    "## Using dataset api from tensorflow to process data from disk"
   ]
  },
  {
   "cell_type": "code",
   "execution_count": 190,
   "metadata": {},
   "outputs": [
    {
     "name": "stdout",
     "output_type": "stream",
     "text": [
      "tf.Tensor(b'./datasets/housing_split/train_datasets/housing_1655.csv', shape=(), dtype=string)\n",
      "tf.Tensor(b'./datasets/housing_split/train_datasets/housing_0963.csv', shape=(), dtype=string)\n",
      "tf.Tensor(b'./datasets/housing_split/train_datasets/housing_0557.csv', shape=(), dtype=string)\n",
      "tf.Tensor(b'./datasets/housing_split/train_datasets/housing_0566.csv', shape=(), dtype=string)\n",
      "tf.Tensor(b'./datasets/housing_split/train_datasets/housing_0845.csv', shape=(), dtype=string)\n"
     ]
    }
   ],
   "source": [
    "tf.random.set_seed(42)\n",
    "\n",
    "list_files = Dataset.list_files(SPLIT_PATH + '/*.csv')\n",
    "\n",
    "for data in list_files.take(5):\n",
    "    print(data)"
   ]
  },
  {
   "cell_type": "code",
   "execution_count": 191,
   "metadata": {},
   "outputs": [
    {
     "name": "stdout",
     "output_type": "stream",
     "text": [
      "tf.Tensor(b'-118.28,33.98,43.0,1240.0,312.0,1100.0,311.0,1.575,97500.0', shape=(), dtype=string)\n",
      "tf.Tensor(b'-122.25,37.82,26.0,3959.0,1196.0,1749.0,1217.0,3.0233,255000.0', shape=(), dtype=string)\n",
      "tf.Tensor(b'-119.79,36.79,26.0,1700.0,423.0,909.0,386.0,2.256,64500.0', shape=(), dtype=string)\n",
      "tf.Tensor(b'-118.41,34.0,35.0,684.0,161.0,381.0,159.0,2.8393,272000.0', shape=(), dtype=string)\n",
      "tf.Tensor(b'-117.09,32.64,38.0,2095.0,536.0,1240.0,550.0,2.7218,145900.0', shape=(), dtype=string)\n",
      "tf.Tensor(b'-118.27,33.98,45.0,1696.0,424.0,1502.0,429.0,1.3042,99200.0', shape=(), dtype=string)\n",
      "tf.Tensor(b'-122.25,37.83,52.0,2376.0,559.0,939.0,519.0,3.1484,224100.0', shape=(), dtype=string)\n",
      "tf.Tensor(b'-119.79,36.79,19.0,1524.0,448.0,960.0,386.0,1.5122,47500.0', shape=(), dtype=string)\n",
      "tf.Tensor(b'-118.41,34.0,30.0,3550.0,934.0,3738.0,880.0,3.191,271200.0', shape=(), dtype=string)\n",
      "tf.Tensor(b'-117.09,32.64,30.0,3171.0,862.0,2126.0,800.0,2.507,142700.0', shape=(), dtype=string)\n",
      "tf.Tensor(b'-118.27,33.98,39.0,2062.0,588.0,1933.0,570.0,1.3801,97000.0', shape=(), dtype=string)\n",
      "tf.Tensor(b'-122.25,37.83,35.0,1613.0,428.0,675.0,422.0,3.4722,243100.0', shape=(), dtype=string)\n",
      "tf.Tensor(b'-119.78,36.79,33.0,2260.0,440.0,966.0,413.0,2.9301,68300.0', shape=(), dtype=string)\n",
      "tf.Tensor(b'-118.41,34.0,18.0,1307.0,441.0,884.0,456.0,2.9338,276300.0', shape=(), dtype=string)\n",
      "tf.Tensor(b'-117.1,32.64,29.0,1578.0,460.0,1236.0,461.0,2.5658,134700.0', shape=(), dtype=string)\n",
      "tf.Tensor(b'-118.27,33.98,44.0,1722.0,457.0,2177.0,401.0,2.125,92500.0', shape=(), dtype=string)\n",
      "tf.Tensor(b'-122.25,37.83,52.0,1279.0,287.0,534.0,291.0,3.1429,231600.0', shape=(), dtype=string)\n",
      "tf.Tensor(b'-119.76,36.79,26.0,3654.0,837.0,1976.0,830.0,2.1544,72800.0', shape=(), dtype=string)\n",
      "tf.Tensor(b'-118.42,34.0,14.0,3771.0,1180.0,2355.0,978.0,3.1603,287500.0', shape=(), dtype=string)\n"
     ]
    }
   ],
   "source": [
    "def parse_text_line(fp):\n",
    "    return tf.data.TextLineDataset(fp).skip(1)\n",
    "\n",
    "interleave = list_files.interleave(parse_text_line, cycle_length = 5)\n",
    "\n",
    "for data in interleave.take(19):\n",
    "    print(data)"
   ]
  },
  {
   "cell_type": "code",
   "execution_count": 192,
   "metadata": {},
   "outputs": [
    {
     "name": "stdout",
     "output_type": "stream",
     "text": [
      "(<tf.Tensor: shape=(8,), dtype=float32, numpy=\n",
      "array([-121.93  ,   36.62  ,   39.    ,  869.    ,  173.    ,  406.    ,\n",
      "        165.    ,    4.0313], dtype=float32)>, <tf.Tensor: shape=(), dtype=float32, numpy=253800.0>)\n",
      "(<tf.Tensor: shape=(8,), dtype=float32, numpy=\n",
      "array([-121.34  ,   38.64  ,   12.    , 2772.    ,  578.    , 1335.    ,\n",
      "        565.    ,    3.8068], dtype=float32)>, <tf.Tensor: shape=(), dtype=float32, numpy=161000.0>)\n"
     ]
    }
   ],
   "source": [
    "def parse_bin_to_float(tensor):\n",
    "    default = [0.]*8 + [tf.constant([], dtype = tf.float32)]\n",
    "    tensors = tf.io.decode_csv(tensor, record_defaults=default)\n",
    "    return tensors[:-1], tensors[-1]\n",
    "\n",
    "mapped_dataset = interleave.map(parse_bin_to_float)\n",
    "\n",
    "for data in mapped_dataset.take(2):\n",
    "    print(data)"
   ]
  },
  {
   "cell_type": "code",
   "execution_count": 193,
   "metadata": {},
   "outputs": [
    {
     "name": "stdout",
     "output_type": "stream",
     "text": [
      "2\n"
     ]
    }
   ],
   "source": [
    "shuffled_dataset = mapped_dataset.shuffle(buffer_size = 100).batch(32).prefetch(2)\n",
    "\n",
    "for data in shuffled_dataset.take(1):\n",
    "    print(len(data))"
   ]
  },
  {
   "cell_type": "code",
   "execution_count": 194,
   "metadata": {},
   "outputs": [],
   "source": [
    "## Aggregate to one function\n",
    "def csv_generator(fp):\n",
    "    \n",
    "    tf.random.set_seed(42)\n",
    "    list_files = Dataset.list_files(fp + '/*.csv')\n",
    "    interleave = list_files.interleave(\n",
    "        parse_text_line, cycle_length = 5\n",
    "    )\n",
    "    mapped_dataset = interleave.map(parse_bin_to_float)\n",
    "    shuffled_dataset = mapped_dataset.shuffle(buffer_size = 100).batch(32).prefetch(2)\n",
    "    \n",
    "    return shuffled_dataset"
   ]
  },
  {
   "cell_type": "markdown",
   "metadata": {},
   "source": [
    "## Now, we ready for training the model!"
   ]
  },
  {
   "cell_type": "code",
   "execution_count": 176,
   "metadata": {},
   "outputs": [],
   "source": [
    "from tensorflow.keras.layers import BatchNormalization, Dense\n",
    "from tensorflow.keras.models import Sequential"
   ]
  },
  {
   "cell_type": "code",
   "execution_count": 195,
   "metadata": {},
   "outputs": [
    {
     "name": "stdout",
     "output_type": "stream",
     "text": [
      "Model: \"sequential\"\n",
      "_________________________________________________________________\n",
      "Layer (type)                 Output Shape              Param #   \n",
      "=================================================================\n",
      "batch_normalization (BatchNo (None, 8)                 32        \n",
      "_________________________________________________________________\n",
      "dense (Dense)                (None, 100)               900       \n",
      "_________________________________________________________________\n",
      "dense_1 (Dense)              (None, 100)               10100     \n",
      "_________________________________________________________________\n",
      "dense_2 (Dense)              (None, 1)                 101       \n",
      "=================================================================\n",
      "Total params: 11,133\n",
      "Trainable params: 11,117\n",
      "Non-trainable params: 16\n",
      "_________________________________________________________________\n"
     ]
    }
   ],
   "source": [
    "tf.keras.backend.clear_session()\n",
    "\n",
    "model = Sequential([\n",
    "    BatchNormalization(input_shape=[8]),\n",
    "    Dense(100, activation = 'selu'),\n",
    "    Dense(100, activation = 'selu'),\n",
    "    Dense(1)\n",
    "])\n",
    "\n",
    "model.compile(loss='huber', metrics=['mae'], optimizer = 'adam')\n",
    "\n",
    "model.summary()"
   ]
  },
  {
   "cell_type": "code",
   "execution_count": 196,
   "metadata": {},
   "outputs": [
    {
     "name": "stdout",
     "output_type": "stream",
     "text": [
      "Epoch 1/10\n",
      "470/470 [==============================] - 2s 5ms/step - loss: 196160.8438 - mae: 196161.3906 - val_loss: 224110.5781 - val_mae: 224111.0781\n",
      "Epoch 2/10\n",
      "470/470 [==============================] - 2s 4ms/step - loss: 169965.7812 - mae: 169966.3125 - val_loss: 172043.1406 - val_mae: 172043.6406\n",
      "Epoch 3/10\n",
      "470/470 [==============================] - 2s 5ms/step - loss: 100920.8438 - mae: 100921.3359 - val_loss: 104064.3984 - val_mae: 104064.8984\n",
      "Epoch 4/10\n",
      "470/470 [==============================] - 2s 5ms/step - loss: 76872.1953 - mae: 76872.6953 - val_loss: 97669.0000 - val_mae: 97669.5000\n",
      "Epoch 5/10\n",
      "470/470 [==============================] - 2s 5ms/step - loss: 72817.0156 - mae: 72817.4844 - val_loss: 93940.8672 - val_mae: 93941.3672\n",
      "Epoch 6/10\n",
      "470/470 [==============================] - 2s 5ms/step - loss: 68556.5469 - mae: 68557.0469 - val_loss: 90925.2422 - val_mae: 90925.7422\n",
      "Epoch 7/10\n",
      "470/470 [==============================] - 2s 5ms/step - loss: 63709.4062 - mae: 63709.9102 - val_loss: 87115.9531 - val_mae: 87116.4531\n",
      "Epoch 8/10\n",
      "470/470 [==============================] - 3s 6ms/step - loss: 60150.9570 - mae: 60151.4492 - val_loss: 83732.9531 - val_mae: 83733.4531\n",
      "Epoch 9/10\n",
      "470/470 [==============================] - 3s 6ms/step - loss: 58374.0977 - mae: 58374.5938 - val_loss: 80677.9453 - val_mae: 80678.4453\n",
      "Epoch 10/10\n",
      "470/470 [==============================] - 3s 6ms/step - loss: 57858.6836 - mae: 57859.1797 - val_loss: 79339.5469 - val_mae: 79340.0469\n"
     ]
    },
    {
     "data": {
      "text/plain": [
       "<tensorflow.python.keras.callbacks.History at 0x7fbaa3e0c910>"
      ]
     },
     "execution_count": 196,
     "metadata": {},
     "output_type": "execute_result"
    }
   ],
   "source": [
    "TRAIN_PATH = './datasets/housing_split/train_datasets'\n",
    "VALID_PATH = './datasets/housing_split/valid_datasets'\n",
    "TEST_PATH = './datasets/housing_split/test_datasets'\n",
    "\n",
    "train_dataset = csv_generator(TRAIN_PATH)\n",
    "valid_dataset = csv_generator(VALID_PATH)\n",
    "test_dataset = csv_generator(TEST_PATH)\n",
    "\n",
    "model.fit(train_dataset,\n",
    "          validation_data=valid_dataset, \n",
    "          epochs=10)"
   ]
  },
  {
   "cell_type": "markdown",
   "metadata": {},
   "source": [
    "## TFRecord testing"
   ]
  },
  {
   "cell_type": "code",
   "execution_count": 198,
   "metadata": {},
   "outputs": [],
   "source": [
    "import tensorflow as tf\n",
    "import os"
   ]
  },
  {
   "cell_type": "code",
   "execution_count": 203,
   "metadata": {},
   "outputs": [],
   "source": [
    "PROTOC_PATH = './datasets/ch10-protobuf-testing'\n",
    "PROTOC_NAME = 'my_test.tfrecord'\n",
    "os.makedirs(PROTOC_PATH, exist_ok = True)"
   ]
  },
  {
   "cell_type": "markdown",
   "metadata": {},
   "source": [
    "Fill the data in tfrecord"
   ]
  },
  {
   "cell_type": "code",
   "execution_count": 206,
   "metadata": {},
   "outputs": [],
   "source": [
    "with tf.io.TFRecordWriter(PROTOC_PATH + '/' + PROTOC_NAME) as f:\n",
    "\n",
    "    f.write('Test')\n",
    "    f.write(b'Test2')"
   ]
  },
  {
   "cell_type": "code",
   "execution_count": 207,
   "metadata": {},
   "outputs": [
    {
     "name": "stdout",
     "output_type": "stream",
     "text": [
      "tf.Tensor(b'Test', shape=(), dtype=string)\n",
      "tf.Tensor(b'Test2', shape=(), dtype=string)\n"
     ]
    }
   ],
   "source": [
    "dataset = tf.data.TFRecordDataset(PROTOC_PATH + '/' + PROTOC_NAME)\n",
    "\n",
    "for data in dataset:\n",
    "    print(data)"
   ]
  },
  {
   "cell_type": "markdown",
   "metadata": {},
   "source": [
    "Record image!"
   ]
  },
  {
   "cell_type": "code",
   "execution_count": 219,
   "metadata": {},
   "outputs": [],
   "source": [
    "from sklearn.datasets import load_sample_image, load_sample_images\n",
    "from tensorflow.train import Example, Features, Feature, BytesList\n",
    "import matplotlib.pyplot as plt"
   ]
  },
  {
   "cell_type": "code",
   "execution_count": 216,
   "metadata": {},
   "outputs": [],
   "source": [
    "img = load_sample_images()['images'][1]"
   ]
  },
  {
   "cell_type": "code",
   "execution_count": 226,
   "metadata": {},
   "outputs": [],
   "source": [
    "img_protobuf = Example(features = Features(feature = {\n",
    "    'img':Feature(bytes_list=BytesList(value = [tf.io.encode_jpeg(img).numpy()]))\n",
    "}))"
   ]
  },
  {
   "cell_type": "code",
   "execution_count": 228,
   "metadata": {},
   "outputs": [],
   "source": [
    "with tf.io.TFRecordWriter(PROTOC_PATH + '/' + 'example_w_img.tfrecord') as f:\n",
    "    f.write(img_protobuf.SerializeToString())"
   ]
  },
  {
   "cell_type": "code",
   "execution_count": 230,
   "metadata": {},
   "outputs": [],
   "source": [
    "dataset = tf.data.TFRecordDataset(PROTOC_PATH + '/' + 'example_w_img.tfrecord')"
   ]
  },
  {
   "cell_type": "code",
   "execution_count": 236,
   "metadata": {},
   "outputs": [],
   "source": [
    "for data in dataset:\n",
    "    decode_img = tf.io.parse_single_example(data, {'img':tf.io.VarLenFeature(dtype = tf.string)})"
   ]
  },
  {
   "cell_type": "code",
   "execution_count": 247,
   "metadata": {},
   "outputs": [],
   "source": [
    "decode_img = tf.io.decode_image(decode_img['img'].values[0])"
   ]
  },
  {
   "cell_type": "code",
   "execution_count": 248,
   "metadata": {},
   "outputs": [
    {
     "data": {
      "text/plain": [
       "<matplotlib.image.AxesImage at 0x7fbaa7b5ced0>"
      ]
     },
     "execution_count": 248,
     "metadata": {},
     "output_type": "execute_result"
    },
    {
     "data": {
      "image/png": "[encoded data removed]",
      "text/plain": [
       "<Figure size 432x288 with 1 Axes>"
      ]
     },
     "metadata": {
      "needs_background": "light"
     },
     "output_type": "display_data"
    }
   ],
   "source": [
    "plt.imshow(decode_img)"
   ]
  },
  {
   "cell_type": "markdown",
   "metadata": {},
   "source": [
    "# Exercise"
   ]
  },
  {
   "cell_type": "markdown",
   "metadata": {},
   "source": [
    "## Question 1"
   ]
  },
  {
   "cell_type": "markdown",
   "metadata": {},
   "source": [
    "Data API is designed for tackling with bigdata which cannot be fit in memory. It can gradually read the data from multiple files in a disk or even multiple servers.  \n",
    "Also, it offers many features, such as batching, prefetching, interleaving, reading data in parallel from multiple sources."
   ]
  },
  {
   "cell_type": "markdown",
   "metadata": {},
   "source": [
    "## Question 2"
   ]
  },
  {
   "cell_type": "markdown",
   "metadata": {},
   "source": [
    "If the data is too large to fit in the memory, we should split the data into small multiple files. We, then, can gradually read these data and train the model. And, if the data is separate across multiples servers, it will be beneficial to simultaneously download data from which utilizes the bandwidth usage."
   ]
  },
  {
   "cell_type": "markdown",
   "metadata": {},
   "source": [
    "## Question 3"
   ]
  },
  {
   "cell_type": "markdown",
   "metadata": {},
   "source": [
    "Using tensorboard, we can measure GPU usage, if it is not fully utilized then the input pipeline is likely to be the bottelneck. Sometimes, it can dramatically boost the performance by just prefetch the training batch using CPU while training the data in GPU."
   ]
  },
  {
   "cell_type": "markdown",
   "metadata": {},
   "source": [
    "## Question 4"
   ]
  },
  {
   "cell_type": "markdown",
   "metadata": {},
   "source": [
    "TFRecord can save any binary format, however, the protobuf format is more portable to another platform and another language."
   ]
  },
  {
   "cell_type": "markdown",
   "metadata": {},
   "source": [
    "## Question 5"
   ]
  },
  {
   "cell_type": "markdown",
   "metadata": {},
   "source": [
    "Example is the predefined protobuf format implement in python clas and tensorflow provides some operation to parse it. However, if it doesn't cover our use case, we can compile the definition of our protobuf by ourselves."
   ]
  },
  {
   "cell_type": "markdown",
   "metadata": {},
   "source": [
    "## Question 6"
   ]
  },
  {
   "cell_type": "markdown",
   "metadata": {},
   "source": [
    "If the file is too large, we can compress the binary file before recording in TFRecord, especially, if the recording data need to be use in another machine. However, it will increase computional cost."
   ]
  },
  {
   "cell_type": "markdown",
   "metadata": {},
   "source": [
    "## Question 7"
   ]
  },
  {
   "cell_type": "markdown",
   "metadata": {},
   "source": [
    "* If we process the data before writing the data files, the raw data will be lost forever, and thus, we should not use this method. Unless, we really doesn't need to use the raw data.  \n",
    "* tf.data is used only for training period, because it can not be used in production.  \n",
    "* Preprocssing layers seems to be a good choice because it can be used in production as well, however, if the preprocessing cost is expensive. The training time will be longer, since one instance have to be unnecessary prepocessed every epoch.  \n",
    "* TFTransform is preferred before the above method if the preprocessing cost is expensive. Because we need to use spark or apache beam to preprocess the raw data. TFTransform will factiliate us in doing such that. But the learning curve of this tool is steep."
   ]
  },
  {
   "cell_type": "markdown",
   "metadata": {},
   "source": [
    "## Question 8"
   ]
  },
  {
   "cell_type": "markdown",
   "metadata": {},
   "source": [
    "* One Hot Encoding --> convert categorical feature into many of binary features \n",
    "* Ordinal Encoding --> convert categorical feature into one integer features \n",
    "* Embedding Encoding --> convert categorical feature into learnable vector features  \n",
    "For text processing, we have.  \n",
    "* Word embedding. \n",
    "* Bag-of-word --> counting the frequency of the word appeared in the corpus. \n",
    "* Term Frequency - Inverse Domain Frequency (TF-IDF) --> normalized version of bag-of-word, preventing the model to bias for the useless frequent word, such as 'the', 'a', 'and'. \n",
    "* n-grams\n"
   ]
  },
  {
   "cell_type": "markdown",
   "metadata": {},
   "source": [
    "## Question 9"
   ]
  },
  {
   "cell_type": "code",
   "execution_count": 92,
   "metadata": {},
   "outputs": [],
   "source": [
    "import os\n",
    "import tensorflow.keras.datasets as tfds\n",
    "import tensorflow as tf\n",
    "from tensorflow.train import Example, Features, BytesList, Int64List, Feature\n",
    "from tensorflow.io import encode_png, decode_image, TFRecordWriter, serialize_tensor, parse_single_example, parse_tensor, FixedLenFeature, VarLenFeature\n",
    "from tensorflow.data import TFRecordDataset\n",
    "from tensorflow.image import encode_png as tfep\n",
    "import matplotlib.pyplot as plt\n",
    "import ssl\n",
    "\n",
    "ssl._create_default_https_context = ssl._create_unverified_context\n",
    "\n",
    "TRAIN_PATH = './datasets/ch13-preprocessing/train_set'\n",
    "VALID_PATH = './datasets/ch13-preprocessing/valid_set'\n",
    "TEST_PATH = './datasets/ch13-preprocessing/test_set'\n",
    "\n",
    "os.makedirs('./datasets/ch13-preprocessing', exist_ok=True)\n",
    "os.makedirs(TRAIN_PATH, exist_ok=True)\n",
    "os.makedirs(VALID_PATH, exist_ok=True)\n",
    "os.makedirs(TEST_PATH, exist_ok=True)"
   ]
  },
  {
   "cell_type": "code",
   "execution_count": 44,
   "metadata": {},
   "outputs": [],
   "source": [
    "(X_fulltrain, y_fulltrain), (X_test, y_test) = tfds.mnist.load_data()"
   ]
  },
  {
   "cell_type": "code",
   "execution_count": 45,
   "metadata": {},
   "outputs": [
    {
     "name": "stdout",
     "output_type": "stream",
     "text": [
      "(55000, 28, 28)\n",
      "(10000, 28, 28)\n"
     ]
    }
   ],
   "source": [
    "X_train, X_valid = X_fulltrain[5000:], X_fulltrain[:5000]\n",
    "y_train, y_valid = y_fulltrain[5000:], y_fulltrain[:5000]\n",
    "print(X_train.shape)\n",
    "print(X_test.shape)"
   ]
  },
  {
   "cell_type": "code",
   "execution_count": 76,
   "metadata": {},
   "outputs": [],
   "source": [
    "train_dataset = Dataset.from_tensor_slices((X_train, y_train)).shuffle(buffer_size=55000)\n",
    "valid_dataset = Dataset.from_tensor_slices((X_valid, y_valid))\n",
    "test_dataset = Dataset.from_tensor_slices((X_test, y_test))"
   ]
  },
  {
   "cell_type": "code",
   "execution_count": 77,
   "metadata": {},
   "outputs": [],
   "source": [
    "def create_example(X, y):\n",
    "    example = Example(features = Features(feature = {\n",
    "        'img': Feature(bytes_list = BytesList(value = [serialize_tensor(X).numpy()])),\n",
    "        'label': Feature(int64_list = Int64List(value = [y]))\n",
    "    }))\n",
    "    \n",
    "    return example"
   ]
  },
  {
   "cell_type": "code",
   "execution_count": 82,
   "metadata": {},
   "outputs": [],
   "source": [
    "from contextlib import ExitStack\n",
    "\n",
    "def create_tfrecord_shard(path, dataset, num_shard=10):\n",
    "    \n",
    "    with ExitStack() as stack:\n",
    "        writers = [stack.enter_context(TFRecordWriter(f'{path}/img_shard_{i:03d}.tfrecord')) for i in range(num_shard)]\n",
    "        \n",
    "        for ind, data in enumerate(dataset):\n",
    "            example = create_example(data[0], data[1])\n",
    "            shard = ind%num_shard\n",
    "            writers[shard].write(example.SerializeToString())"
   ]
  },
  {
   "cell_type": "code",
   "execution_count": 83,
   "metadata": {},
   "outputs": [],
   "source": [
    "create_tfrecord_shard(TRAIN_PATH, train_dataset)\n",
    "create_tfrecord_shard(VALID_PATH, valid_dataset)\n",
    "create_tfrecord_shard(TEST_PATH, test_dataset)"
   ]
  },
  {
   "cell_type": "code",
   "execution_count": 89,
   "metadata": {},
   "outputs": [],
   "source": [
    "tfrecords = TFRecordDataset([f'{TRAIN_PATH}/img_shard_{i:03d}.tfrecord' for i in range(10)])"
   ]
  },
  {
   "cell_type": "code",
   "execution_count": 95,
   "metadata": {},
   "outputs": [
    {
     "name": "stdout",
     "output_type": "stream",
     "text": [
      "(28, 28)\n"
     ]
    }
   ],
   "source": [
    "features_description = {\n",
    "    'img': FixedLenFeature([], tf.string, default_value=\"\"),\n",
    "    'label': FixedLenFeature([], tf.int64, default_value=-1)\n",
    "\n",
    "}\n",
    "\n",
    "for tfrecord in tfrecords.take(1):\n",
    "    decode_example = parse_single_example(tfrecord, features_description)\n",
    "    img = parse_tensor(decode_example['img'], out_type = tf.uint8)\n",
    "    print(img.shape)"
   ]
  },
  {
   "cell_type": "code",
   "execution_count": 98,
   "metadata": {},
   "outputs": [
    {
     "name": "stdout",
     "output_type": "stream",
     "text": [
      "<class 'tensorflow.python.data.ops.dataset_ops.ShuffleDataset'>\n"
     ]
    }
   ],
   "source": [
    "print(type(tfrecords.shuffle(buffer_size=60000)))"
   ]
  },
  {
   "cell_type": "code",
   "execution_count": 105,
   "metadata": {},
   "outputs": [
    {
     "name": "stdout",
     "output_type": "stream",
     "text": [
      "<class 'tensorflow.python.framework.ops.EagerTensor'>\n",
      "<class 'tensorflow.python.framework.ops.EagerTensor'>\n",
      "<class 'tensorflow.python.framework.ops.EagerTensor'>\n"
     ]
    }
   ],
   "source": [
    "for data in train_dataset.take(1):\n",
    "    print(type(data[0]))\n",
    "    print(type(data[1]))\n",
    "    print(type(tf.range(10)))"
   ]
  },
  {
   "cell_type": "code",
   "execution_count": 146,
   "metadata": {},
   "outputs": [],
   "source": [
    "## Create train valid and testset from tfrecord"
   ]
  },
  {
   "cell_type": "code",
   "execution_count": 244,
   "metadata": {},
   "outputs": [
    {
     "name": "stdout",
     "output_type": "stream",
     "text": [
      "WARNING:tensorflow:AutoGraph could not transform <function <lambda> at 0x7fce204a37a0> and will run it as-is.\n",
      "Cause: could not parse the source code:\n",
      "\n",
      "    lambda x : TFRecordDataset(x), cycle_length=2)\n",
      "\n",
      "This error may be avoided by creating the lambda in a standalone statement.\n",
      "\n",
      "To silence this warning, decorate the function with @tf.autograph.experimental.do_not_convert\n",
      "WARNING: AutoGraph could not transform <function <lambda> at 0x7fce204a37a0> and will run it as-is.\n",
      "Cause: could not parse the source code:\n",
      "\n",
      "    lambda x : TFRecordDataset(x), cycle_length=2)\n",
      "\n",
      "This error may be avoided by creating the lambda in a standalone statement.\n",
      "\n",
      "To silence this warning, decorate the function with @tf.autograph.experimental.do_not_convert\n"
     ]
    }
   ],
   "source": [
    "new_trainset = tf.data.Dataset.list_files(TRAIN_PATH+'/*.tfrecord').interleave(\n",
    "    lambda x : TFRecordDataset(x), cycle_length=2)"
   ]
  },
  {
   "cell_type": "code",
   "execution_count": 245,
   "metadata": {},
   "outputs": [],
   "source": [
    "features_description = {'img': FixedLenFeature([], tf.string), 'label':FixedLenFeature([], tf.int64)}\n",
    "\n",
    "def get_example(serialize, fd = features_description):\n",
    "    example = parse_single_example(serialize, features_description)\n",
    "    return example\n",
    "\n",
    "def preprocess(serialize):\n",
    "    example = get_example(serialize)\n",
    "    X = tf.cast(tf.reshape(parse_tensor(example['img'], tf.uint8), (28, 28)),tf.float32)\n",
    "    y = example['label']\n",
    "    return X, y"
   ]
  },
  {
   "cell_type": "code",
   "execution_count": 246,
   "metadata": {},
   "outputs": [],
   "source": [
    "new_trainset = new_trainset.map(preprocess).shuffle(buffer_size = 100).batch(32).prefetch(2)"
   ]
  },
  {
   "cell_type": "code",
   "execution_count": 247,
   "metadata": {},
   "outputs": [],
   "source": [
    "def get_dataset_fr_tfrecord(path):\n",
    "    dataset = tf.data.Dataset.list_files(path+'/*.tfrecord').interleave(\n",
    "        lambda x : TFRecordDataset(x), cycle_length=2)\n",
    "    dataset = dataset.map(preprocess).shuffle(buffer_size = 100).batch(32).prefetch(2)\n",
    "    return dataset"
   ]
  },
  {
   "cell_type": "code",
   "execution_count": 248,
   "metadata": {},
   "outputs": [
    {
     "name": "stdout",
     "output_type": "stream",
     "text": [
      "WARNING:tensorflow:AutoGraph could not transform <function get_dataset_fr_tfrecord.<locals>.<lambda> at 0x7fce204ba830> and will run it as-is.\n",
      "Cause: could not parse the source code:\n",
      "\n",
      "        lambda x : TFRecordDataset(x), cycle_length=2)\n",
      "\n",
      "This error may be avoided by creating the lambda in a standalone statement.\n",
      "\n",
      "To silence this warning, decorate the function with @tf.autograph.experimental.do_not_convert\n",
      "WARNING: AutoGraph could not transform <function get_dataset_fr_tfrecord.<locals>.<lambda> at 0x7fce204ba830> and will run it as-is.\n",
      "Cause: could not parse the source code:\n",
      "\n",
      "        lambda x : TFRecordDataset(x), cycle_length=2)\n",
      "\n",
      "This error may be avoided by creating the lambda in a standalone statement.\n",
      "\n",
      "To silence this warning, decorate the function with @tf.autograph.experimental.do_not_convert\n",
      "WARNING:tensorflow:AutoGraph could not transform <function get_dataset_fr_tfrecord.<locals>.<lambda> at 0x7fce204a3320> and will run it as-is.\n",
      "Cause: could not parse the source code:\n",
      "\n",
      "        lambda x : TFRecordDataset(x), cycle_length=2)\n",
      "\n",
      "This error may be avoided by creating the lambda in a standalone statement.\n",
      "\n",
      "To silence this warning, decorate the function with @tf.autograph.experimental.do_not_convert\n",
      "WARNING: AutoGraph could not transform <function get_dataset_fr_tfrecord.<locals>.<lambda> at 0x7fce204a3320> and will run it as-is.\n",
      "Cause: could not parse the source code:\n",
      "\n",
      "        lambda x : TFRecordDataset(x), cycle_length=2)\n",
      "\n",
      "This error may be avoided by creating the lambda in a standalone statement.\n",
      "\n",
      "To silence this warning, decorate the function with @tf.autograph.experimental.do_not_convert\n",
      "WARNING:tensorflow:AutoGraph could not transform <function get_dataset_fr_tfrecord.<locals>.<lambda> at 0x7fce204c95f0> and will run it as-is.\n",
      "Cause: could not parse the source code:\n",
      "\n",
      "        lambda x : TFRecordDataset(x), cycle_length=2)\n",
      "\n",
      "This error may be avoided by creating the lambda in a standalone statement.\n",
      "\n",
      "To silence this warning, decorate the function with @tf.autograph.experimental.do_not_convert\n",
      "WARNING: AutoGraph could not transform <function get_dataset_fr_tfrecord.<locals>.<lambda> at 0x7fce204c95f0> and will run it as-is.\n",
      "Cause: could not parse the source code:\n",
      "\n",
      "        lambda x : TFRecordDataset(x), cycle_length=2)\n",
      "\n",
      "This error may be avoided by creating the lambda in a standalone statement.\n",
      "\n",
      "To silence this warning, decorate the function with @tf.autograph.experimental.do_not_convert\n"
     ]
    }
   ],
   "source": [
    "## Create basic model for training this new_trainset\n",
    "new_trainset = get_dataset_fr_tfrecord(TRAIN_PATH)\n",
    "new_validset = get_dataset_fr_tfrecord(VALID_PATH)\n",
    "new_testset = get_dataset_fr_tfrecord(TEST_PATH)"
   ]
  },
  {
   "cell_type": "code",
   "execution_count": 249,
   "metadata": {},
   "outputs": [
    {
     "name": "stdout",
     "output_type": "stream",
     "text": [
      "tf.Tensor(\n",
      "[[[0. 0. 0. ... 0. 0. 0.]\n",
      "  [0. 0. 0. ... 0. 0. 0.]\n",
      "  [0. 0. 0. ... 0. 0. 0.]\n",
      "  ...\n",
      "  [0. 0. 0. ... 0. 0. 0.]\n",
      "  [0. 0. 0. ... 0. 0. 0.]\n",
      "  [0. 0. 0. ... 0. 0. 0.]]\n",
      "\n",
      " [[0. 0. 0. ... 0. 0. 0.]\n",
      "  [0. 0. 0. ... 0. 0. 0.]\n",
      "  [0. 0. 0. ... 0. 0. 0.]\n",
      "  ...\n",
      "  [0. 0. 0. ... 0. 0. 0.]\n",
      "  [0. 0. 0. ... 0. 0. 0.]\n",
      "  [0. 0. 0. ... 0. 0. 0.]]\n",
      "\n",
      " [[0. 0. 0. ... 0. 0. 0.]\n",
      "  [0. 0. 0. ... 0. 0. 0.]\n",
      "  [0. 0. 0. ... 0. 0. 0.]\n",
      "  ...\n",
      "  [0. 0. 0. ... 0. 0. 0.]\n",
      "  [0. 0. 0. ... 0. 0. 0.]\n",
      "  [0. 0. 0. ... 0. 0. 0.]]\n",
      "\n",
      " ...\n",
      "\n",
      " [[0. 0. 0. ... 0. 0. 0.]\n",
      "  [0. 0. 0. ... 0. 0. 0.]\n",
      "  [0. 0. 0. ... 0. 0. 0.]\n",
      "  ...\n",
      "  [0. 0. 0. ... 0. 0. 0.]\n",
      "  [0. 0. 0. ... 0. 0. 0.]\n",
      "  [0. 0. 0. ... 0. 0. 0.]]\n",
      "\n",
      " [[0. 0. 0. ... 0. 0. 0.]\n",
      "  [0. 0. 0. ... 0. 0. 0.]\n",
      "  [0. 0. 0. ... 0. 0. 0.]\n",
      "  ...\n",
      "  [0. 0. 0. ... 0. 0. 0.]\n",
      "  [0. 0. 0. ... 0. 0. 0.]\n",
      "  [0. 0. 0. ... 0. 0. 0.]]\n",
      "\n",
      " [[0. 0. 0. ... 0. 0. 0.]\n",
      "  [0. 0. 0. ... 0. 0. 0.]\n",
      "  [0. 0. 0. ... 0. 0. 0.]\n",
      "  ...\n",
      "  [0. 0. 0. ... 0. 0. 0.]\n",
      "  [0. 0. 0. ... 0. 0. 0.]\n",
      "  [0. 0. 0. ... 0. 0. 0.]]], shape=(32, 28, 28), dtype=float32)\n",
      "tf.Tensor(\n",
      "[[[0. 0. 0. ... 0. 0. 0.]\n",
      "  [0. 0. 0. ... 0. 0. 0.]\n",
      "  [0. 0. 0. ... 0. 0. 0.]\n",
      "  ...\n",
      "  [0. 0. 0. ... 0. 0. 0.]\n",
      "  [0. 0. 0. ... 0. 0. 0.]\n",
      "  [0. 0. 0. ... 0. 0. 0.]]\n",
      "\n",
      " [[0. 0. 0. ... 0. 0. 0.]\n",
      "  [0. 0. 0. ... 0. 0. 0.]\n",
      "  [0. 0. 0. ... 0. 0. 0.]\n",
      "  ...\n",
      "  [0. 0. 0. ... 0. 0. 0.]\n",
      "  [0. 0. 0. ... 0. 0. 0.]\n",
      "  [0. 0. 0. ... 0. 0. 0.]]\n",
      "\n",
      " [[0. 0. 0. ... 0. 0. 0.]\n",
      "  [0. 0. 0. ... 0. 0. 0.]\n",
      "  [0. 0. 0. ... 0. 0. 0.]\n",
      "  ...\n",
      "  [0. 0. 0. ... 0. 0. 0.]\n",
      "  [0. 0. 0. ... 0. 0. 0.]\n",
      "  [0. 0. 0. ... 0. 0. 0.]]\n",
      "\n",
      " ...\n",
      "\n",
      " [[0. 0. 0. ... 0. 0. 0.]\n",
      "  [0. 0. 0. ... 0. 0. 0.]\n",
      "  [0. 0. 0. ... 0. 0. 0.]\n",
      "  ...\n",
      "  [0. 0. 0. ... 0. 0. 0.]\n",
      "  [0. 0. 0. ... 0. 0. 0.]\n",
      "  [0. 0. 0. ... 0. 0. 0.]]\n",
      "\n",
      " [[0. 0. 0. ... 0. 0. 0.]\n",
      "  [0. 0. 0. ... 0. 0. 0.]\n",
      "  [0. 0. 0. ... 0. 0. 0.]\n",
      "  ...\n",
      "  [0. 0. 0. ... 0. 0. 0.]\n",
      "  [0. 0. 0. ... 0. 0. 0.]\n",
      "  [0. 0. 0. ... 0. 0. 0.]]\n",
      "\n",
      " [[0. 0. 0. ... 0. 0. 0.]\n",
      "  [0. 0. 0. ... 0. 0. 0.]\n",
      "  [0. 0. 0. ... 0. 0. 0.]\n",
      "  ...\n",
      "  [0. 0. 0. ... 0. 0. 0.]\n",
      "  [0. 0. 0. ... 0. 0. 0.]\n",
      "  [0. 0. 0. ... 0. 0. 0.]]], shape=(32, 28, 28), dtype=float32)\n"
     ]
    }
   ],
   "source": [
    "for data in new_validset.take(2):\n",
    "    print(data[0])"
   ]
  },
  {
   "cell_type": "code",
   "execution_count": 202,
   "metadata": {},
   "outputs": [],
   "source": [
    "## Create simple model\n",
    "from tensorflow.keras.models import Sequential\n",
    "from tensorflow.keras.layers import Dense, Flatten, Input\n",
    "import tensorboard as tb\n",
    "import datetime"
   ]
  },
  {
   "cell_type": "code",
   "execution_count": 217,
   "metadata": {},
   "outputs": [],
   "source": [
    "tf.keras.backend.clear_session()\n",
    "\n",
    "model = Sequential([\n",
    "    Input(shape=[28, 28]),\n",
    "    Flatten(),\n",
    "    Dense(100, activation = 'elu'),\n",
    "    Dense(100, activation = 'elu'),\n",
    "    Dense(10, activation = 'softmax')\n",
    "])\n",
    "\n",
    "model.compile(loss = 'sparse_categorical_crossentropy', metrics=['accuracy'], optimizer = 'adam')"
   ]
  },
  {
   "cell_type": "code",
   "execution_count": 218,
   "metadata": {},
   "outputs": [
    {
     "name": "stdout",
     "output_type": "stream",
     "text": [
      "Model: \"sequential\"\n",
      "_________________________________________________________________\n",
      "Layer (type)                 Output Shape              Param #   \n",
      "=================================================================\n",
      "flatten (Flatten)            (None, 784)               0         \n",
      "_________________________________________________________________\n",
      "dense (Dense)                (None, 100)               78500     \n",
      "_________________________________________________________________\n",
      "dense_1 (Dense)              (None, 100)               10100     \n",
      "_________________________________________________________________\n",
      "dense_2 (Dense)              (None, 10)                1010      \n",
      "=================================================================\n",
      "Total params: 89,610\n",
      "Trainable params: 89,610\n",
      "Non-trainable params: 0\n",
      "_________________________________________________________________\n"
     ]
    }
   ],
   "source": [
    "model.summary()"
   ]
  },
  {
   "cell_type": "code",
   "execution_count": 219,
   "metadata": {},
   "outputs": [
    {
     "data": {
      "text/plain": [
       "[]"
      ]
     },
     "execution_count": 219,
     "metadata": {},
     "output_type": "execute_result"
    }
   ],
   "source": [
    "model.layers[0].variables"
   ]
  },
  {
   "cell_type": "code",
   "execution_count": 220,
   "metadata": {},
   "outputs": [
    {
     "name": "stdout",
     "output_type": "stream",
     "text": [
      "Epoch 1/10\n",
      "1719/1719 [==============================] - 6s 3ms/step - loss: 1.8903 - accuracy: 0.8630 - val_loss: 0.4855 - val_accuracy: 0.9026\n",
      "Epoch 2/10\n",
      "1719/1719 [==============================] - 6s 3ms/step - loss: 0.3683 - accuracy: 0.9171 - val_loss: 0.3276 - val_accuracy: 0.9310\n",
      "Epoch 3/10\n",
      "1719/1719 [==============================] - 7s 4ms/step - loss: 0.2986 - accuracy: 0.9289 - val_loss: 0.2608 - val_accuracy: 0.9408\n",
      "Epoch 4/10\n",
      "1719/1719 [==============================] - 5s 3ms/step - loss: 0.2455 - accuracy: 0.9389 - val_loss: 0.2294 - val_accuracy: 0.9406\n",
      "Epoch 5/10\n",
      "1719/1719 [==============================] - 6s 4ms/step - loss: 0.1896 - accuracy: 0.9505 - val_loss: 0.1877 - val_accuracy: 0.9558\n",
      "Epoch 6/10\n",
      "1719/1719 [==============================] - 7s 4ms/step - loss: 0.1562 - accuracy: 0.9577 - val_loss: 0.2009 - val_accuracy: 0.9510\n",
      "Epoch 7/10\n",
      "1719/1719 [==============================] - 7s 4ms/step - loss: 0.1441 - accuracy: 0.9605 - val_loss: 0.1616 - val_accuracy: 0.9570\n",
      "Epoch 8/10\n",
      "1719/1719 [==============================] - 7s 4ms/step - loss: 0.1258 - accuracy: 0.9648 - val_loss: 0.1979 - val_accuracy: 0.9558\n",
      "Epoch 9/10\n",
      "1719/1719 [==============================] - 7s 4ms/step - loss: 0.1195 - accuracy: 0.9665 - val_loss: 0.1646 - val_accuracy: 0.9582\n",
      "Epoch 10/10\n",
      "1719/1719 [==============================] - 7s 4ms/step - loss: 0.1083 - accuracy: 0.9689 - val_loss: 0.1621 - val_accuracy: 0.9624\n"
     ]
    },
    {
     "data": {
      "text/plain": [
       "<tensorflow.python.keras.callbacks.History at 0x7fce1f6be990>"
      ]
     },
     "execution_count": 220,
     "metadata": {},
     "output_type": "execute_result"
    }
   ],
   "source": [
    "log_dir = \"./datasets/ch13-preprocessing/logs/fit/\" + datetime.datetime.now().strftime(\"%Y%m%d-%H%M%S\")\n",
    "tensorboard_callback = tf.keras.callbacks.TensorBoard(log_dir=log_dir, histogram_freq=1, profile_batch=10)\n",
    "\n",
    "model.fit(new_trainset, epochs = 10, validation_data=new_validset, callbacks=[tensorboard_callback])"
   ]
  },
  {
   "cell_type": "code",
   "execution_count": 274,
   "metadata": {},
   "outputs": [
    {
     "data": {
      "text/plain": [
       "<tf.Tensor: shape=(1, 10), dtype=float32, numpy=\n",
       "array([[3.1985949e-16, 5.0129040e-10, 4.4165503e-08, 1.0000000e+00,\n",
       "        1.0396447e-12, 2.5880301e-08, 1.5311456e-18, 1.8096690e-14,\n",
       "        2.1297334e-11, 3.2575412e-12]], dtype=float32)>"
      ]
     },
     "execution_count": 274,
     "metadata": {},
     "output_type": "execute_result"
    }
   ],
   "source": [
    "model(list(new_testset.take(1).as_numpy_iterator())[0][0][0:1])"
   ]
  },
  {
   "cell_type": "code",
   "execution_count": 278,
   "metadata": {},
   "outputs": [
    {
     "name": "stdout",
     "output_type": "stream",
     "text": [
      "The tensorboard extension is already loaded. To reload it, use:\n",
      "  %reload_ext tensorboard\n"
     ]
    },
    {
     "data": {
      "text/plain": [
       "Reusing TensorBoard on port 6006 (pid 59884), started 0:30:13 ago. (Use '!kill 59884' to kill it.)"
      ]
     },
     "metadata": {},
     "output_type": "display_data"
    },
    {
     "data": {
      "text/html": [
       "\n",
       "      <iframe id=\"tensorboard-frame-1270359b70385cf\" width=\"100%\" height=\"800\" frameborder=\"0\">\n",
       "      </iframe>\n",
       "      <script>\n",
       "        (function() {\n",
       "          const frame = document.getElementById(\"tensorboard-frame-1270359b70385cf\");\n",
       "          const url = new URL(\"/\", window.location);\n",
       "          const port = 6006;\n",
       "          if (port) {\n",
       "            url.port = port;\n",
       "          }\n",
       "          frame.src = url;\n",
       "        })();\n",
       "      </script>\n",
       "    "
      ],
      "text/plain": [
       "<IPython.core.display.HTML object>"
      ]
     },
     "metadata": {},
     "output_type": "display_data"
    }
   ],
   "source": [
    "%load_ext tensorboard\n",
    "%tensorboard --logdir ./datasets/ch13-preprocessing/logs/fit"
   ]
  },
  {
   "cell_type": "code",
   "execution_count": 222,
   "metadata": {},
   "outputs": [],
   "source": [
    "## Model with normalization preprocessing"
   ]
  },
  {
   "cell_type": "code",
   "execution_count": 250,
   "metadata": {},
   "outputs": [],
   "source": [
    "from tensorflow.keras.layers import LayerNormalization"
   ]
  },
  {
   "cell_type": "code",
   "execution_count": 251,
   "metadata": {},
   "outputs": [],
   "source": [
    "class StandardizationLayer(tf.keras.layers.Layer):\n",
    "    def adapt(self, data_sample):\n",
    "        self.mean_ = tf.reduce_mean(data_sample, axis = 0, keepdims=True)\n",
    "        self.std_ = tf.math.reduce_std(data_sample, axis = 0, keepdims = True)\n",
    "    \n",
    "    def call(self, input_):\n",
    "        return (input_ - self.mean_)/(self.std_ + tf.keras.backend.epsilon())"
   ]
  },
  {
   "cell_type": "code",
   "execution_count": 252,
   "metadata": {},
   "outputs": [
    {
     "name": "stdout",
     "output_type": "stream",
     "text": [
      "tf.Tensor(\n",
      "[[[ 0.          0.          0.         ...  0.          0.\n",
      "    0.        ]\n",
      "  [ 0.          0.          0.         ...  0.          0.\n",
      "    0.        ]\n",
      "  [ 0.          0.          0.         ... -0.01891408  0.\n",
      "    0.        ]\n",
      "  ...\n",
      "  [ 0.          0.          0.         ... -0.01767977 -0.01768059\n",
      "    0.        ]\n",
      "  [ 0.          0.          0.         ...  0.          0.\n",
      "    0.        ]\n",
      "  [ 0.          0.          0.         ...  0.          0.\n",
      "    0.        ]]\n",
      "\n",
      " [[ 0.          0.          0.         ...  0.          0.\n",
      "    0.        ]\n",
      "  [ 0.          0.          0.         ...  0.          0.\n",
      "    0.        ]\n",
      "  [ 0.          0.          0.         ... -0.01891408  0.\n",
      "    0.        ]\n",
      "  ...\n",
      "  [ 0.          0.          0.         ... -0.01767977 -0.01768059\n",
      "    0.        ]\n",
      "  [ 0.          0.          0.         ...  0.          0.\n",
      "    0.        ]\n",
      "  [ 0.          0.          0.         ...  0.          0.\n",
      "    0.        ]]\n",
      "\n",
      " [[ 0.          0.          0.         ...  0.          0.\n",
      "    0.        ]\n",
      "  [ 0.          0.          0.         ...  0.          0.\n",
      "    0.        ]\n",
      "  [ 0.          0.          0.         ... -0.01891408  0.\n",
      "    0.        ]\n",
      "  ...\n",
      "  [ 0.          0.          0.         ... -0.01767977 -0.01768059\n",
      "    0.        ]\n",
      "  [ 0.          0.          0.         ...  0.          0.\n",
      "    0.        ]\n",
      "  [ 0.          0.          0.         ...  0.          0.\n",
      "    0.        ]]\n",
      "\n",
      " ...\n",
      "\n",
      " [[ 0.          0.          0.         ...  0.          0.\n",
      "    0.        ]\n",
      "  [ 0.          0.          0.         ...  0.          0.\n",
      "    0.        ]\n",
      "  [ 0.          0.          0.         ... -0.01891408  0.\n",
      "    0.        ]\n",
      "  ...\n",
      "  [ 0.          0.          0.         ... -0.01767977 -0.01768059\n",
      "    0.        ]\n",
      "  [ 0.          0.          0.         ...  0.          0.\n",
      "    0.        ]\n",
      "  [ 0.          0.          0.         ...  0.          0.\n",
      "    0.        ]]\n",
      "\n",
      " [[ 0.          0.          0.         ...  0.          0.\n",
      "    0.        ]\n",
      "  [ 0.          0.          0.         ...  0.          0.\n",
      "    0.        ]\n",
      "  [ 0.          0.          0.         ... -0.01891408  0.\n",
      "    0.        ]\n",
      "  ...\n",
      "  [ 0.          0.          0.         ... -0.01767977 -0.01768059\n",
      "    0.        ]\n",
      "  [ 0.          0.          0.         ...  0.          0.\n",
      "    0.        ]\n",
      "  [ 0.          0.          0.         ...  0.          0.\n",
      "    0.        ]]\n",
      "\n",
      " [[ 0.          0.          0.         ...  0.          0.\n",
      "    0.        ]\n",
      "  [ 0.          0.          0.         ...  0.          0.\n",
      "    0.        ]\n",
      "  [ 0.          0.          0.         ... -0.01891408  0.\n",
      "    0.        ]\n",
      "  ...\n",
      "  [ 0.          0.          0.         ... -0.01767977 -0.01768059\n",
      "    0.        ]\n",
      "  [ 0.          0.          0.         ...  0.          0.\n",
      "    0.        ]\n",
      "  [ 0.          0.          0.         ...  0.          0.\n",
      "    0.        ]]], shape=(32, 28, 28), dtype=float32)\n"
     ]
    }
   ],
   "source": [
    "# Aadapt Std layer\n",
    "\n",
    "std_layer = StandardizationLayer()\n",
    "\n",
    "data_sample = new_trainset.take(100).map(lambda img, label : img)\n",
    "sample_images = np.concatenate(list(data_sample.as_numpy_iterator()),\n",
    "                               axis=0).astype(np.float32)\n",
    "std_layer.adapt(sample_images)\n",
    "\n",
    "for data in data_sample.take(1):\n",
    "    print(std_layer(data))"
   ]
  },
  {
   "cell_type": "code",
   "execution_count": 253,
   "metadata": {},
   "outputs": [
    {
     "data": {
      "text/plain": [
       "<tf.Tensor: shape=(1, 28, 28), dtype=float32, numpy=\n",
       "array([[[0.00000000e+00, 0.00000000e+00, 0.00000000e+00, 0.00000000e+00,\n",
       "         0.00000000e+00, 0.00000000e+00, 0.00000000e+00, 0.00000000e+00,\n",
       "         0.00000000e+00, 0.00000000e+00, 0.00000000e+00, 0.00000000e+00,\n",
       "         0.00000000e+00, 0.00000000e+00, 0.00000000e+00, 0.00000000e+00,\n",
       "         0.00000000e+00, 0.00000000e+00, 0.00000000e+00, 0.00000000e+00,\n",
       "         0.00000000e+00, 0.00000000e+00, 0.00000000e+00, 0.00000000e+00,\n",
       "         0.00000000e+00, 0.00000000e+00, 0.00000000e+00, 0.00000000e+00],\n",
       "        [0.00000000e+00, 0.00000000e+00, 0.00000000e+00, 0.00000000e+00,\n",
       "         0.00000000e+00, 0.00000000e+00, 2.65625007e-02, 7.90624991e-02,\n",
       "         7.09374994e-02, 7.81250000e-03, 1.17500000e-01, 1.76249996e-01,\n",
       "         1.66562498e-01, 2.57499993e-01, 2.20937505e-01, 9.34375003e-02,\n",
       "         2.02500001e-01, 1.90937504e-01, 1.25000000e-01, 1.12187497e-01,\n",
       "         8.50000009e-02, 7.18749985e-02, 1.01562500e-01, 6.62499964e-02,\n",
       "         0.00000000e+00, 0.00000000e+00, 0.00000000e+00, 0.00000000e+00],\n",
       "        [0.00000000e+00, 0.00000000e+00, 0.00000000e+00, 0.00000000e+00,\n",
       "         0.00000000e+00, 0.00000000e+00, 3.62499990e-02, 1.50000006e-01,\n",
       "         2.99062490e-01, 5.79999983e-01, 7.13124990e-01, 1.06531250e+00,\n",
       "         1.55031252e+00, 2.22749996e+00, 2.80687499e+00, 3.10906243e+00,\n",
       "         3.45031261e+00, 3.50656247e+00, 2.77749991e+00, 1.73156250e+00,\n",
       "         1.02499998e+00, 5.33749998e-01, 3.87812495e-01, 1.99375004e-01,\n",
       "         1.05312496e-01, 4.15625013e-02, 0.00000000e+00, 0.00000000e+00],\n",
       "        [0.00000000e+00, 0.00000000e+00, 0.00000000e+00, 0.00000000e+00,\n",
       "         0.00000000e+00, 1.35000005e-01, 2.91249990e-01, 6.95625007e-01,\n",
       "         1.32249999e+00, 2.44875002e+00, 3.45125008e+00, 4.86999989e+00,\n",
       "         6.25781250e+00, 8.47906208e+00, 1.13456249e+01, 1.27878122e+01,\n",
       "         1.27293749e+01, 1.17259378e+01, 9.82562542e+00, 7.02281237e+00,\n",
       "         4.30875015e+00, 2.14031243e+00, 8.83750021e-01, 3.14062506e-01,\n",
       "         1.82187498e-01, 5.46875000e-02, 0.00000000e+00, 0.00000000e+00],\n",
       "        [0.00000000e+00, 0.00000000e+00, 0.00000000e+00, 2.03124993e-02,\n",
       "         8.28125030e-02, 5.50312519e-01, 1.38781250e+00, 3.18687510e+00,\n",
       "         5.90031242e+00, 9.89718723e+00, 1.39962502e+01, 1.94515629e+01,\n",
       "         2.65056248e+01, 3.42403107e+01, 3.97921867e+01, 4.18884392e+01,\n",
       "         4.12765617e+01, 3.79575005e+01, 3.09909382e+01, 2.24743748e+01,\n",
       "         1.53278122e+01, 9.22656250e+00, 4.65500021e+00, 2.27093744e+00,\n",
       "         8.64374995e-01, 1.11562498e-01, 0.00000000e+00, 0.00000000e+00],\n",
       "        [0.00000000e+00, 0.00000000e+00, 0.00000000e+00, 2.68750004e-02,\n",
       "         4.92187500e-01, 2.02250004e+00, 4.36999989e+00, 8.35499954e+00,\n",
       "         1.43737497e+01, 2.25459366e+01, 3.26315613e+01, 4.48293762e+01,\n",
       "         5.90068741e+01, 7.34009399e+01, 8.34509354e+01, 8.70078125e+01,\n",
       "         8.39890594e+01, 7.60656281e+01, 6.33549995e+01, 4.88834381e+01,\n",
       "         3.49124985e+01, 2.37665634e+01, 1.41909370e+01, 7.54374981e+00,\n",
       "         2.92531252e+00, 1.16125000e+00, 3.30624998e-01, 0.00000000e+00],\n",
       "        [0.00000000e+00, 0.00000000e+00, 2.21874993e-02, 2.55625010e-01,\n",
       "         1.40468752e+00, 4.18937492e+00, 8.27375031e+00, 1.51946878e+01,\n",
       "         2.51396866e+01, 3.79049988e+01, 5.32543755e+01, 6.98143768e+01,\n",
       "         8.95596848e+01, 1.05325310e+02, 1.16121872e+02, 1.21518753e+02,\n",
       "         1.17580002e+02, 1.07662186e+02, 9.40306244e+01, 7.52234344e+01,\n",
       "         5.65365639e+01, 3.92231255e+01, 2.32743759e+01, 1.25040627e+01,\n",
       "         5.51156235e+00, 2.23624992e+00, 7.00625002e-01, 0.00000000e+00],\n",
       "        [0.00000000e+00, 7.62500018e-02, 2.73124993e-01, 9.41874981e-01,\n",
       "         3.09625006e+00, 6.86593771e+00, 1.32265625e+01, 2.35731258e+01,\n",
       "         3.70437508e+01, 5.35074997e+01, 7.21043777e+01, 9.23218765e+01,\n",
       "         1.11186249e+02, 1.23689377e+02, 1.30272507e+02, 1.33550934e+02,\n",
       "         1.32499069e+02, 1.24760941e+02, 1.11150627e+02, 9.39609375e+01,\n",
       "         7.26543732e+01, 5.04618759e+01, 2.90403118e+01, 1.49696875e+01,\n",
       "         6.48750019e+00, 2.46875000e+00, 4.93437499e-01, 0.00000000e+00],\n",
       "        [0.00000000e+00, 1.01875000e-01, 2.47812495e-01, 1.53656244e+00,\n",
       "         4.59999990e+00, 9.66625023e+00, 1.87356243e+01, 3.11437492e+01,\n",
       "         4.80712509e+01, 6.79499969e+01, 8.96143723e+01, 1.07701874e+02,\n",
       "         1.17806252e+02, 1.22661560e+02, 1.21606560e+02, 1.21648125e+02,\n",
       "         1.24430000e+02, 1.21902809e+02, 1.15407814e+02, 1.01354378e+02,\n",
       "         7.93543777e+01, 5.45481262e+01, 3.13331242e+01, 1.61959381e+01,\n",
       "         6.59749985e+00, 2.32124996e+00, 3.85625005e-01, 0.00000000e+00],\n",
       "        [0.00000000e+00, 4.46874984e-02, 5.98124981e-01, 1.79375005e+00,\n",
       "         5.21593761e+00, 1.10659370e+01, 2.06006241e+01, 3.54375000e+01,\n",
       "         5.58903122e+01, 7.94146881e+01, 9.95025024e+01, 1.10193748e+02,\n",
       "         1.10831253e+02, 1.05000313e+02, 9.85684357e+01, 9.97131271e+01,\n",
       "         1.05131874e+02, 1.11242188e+02, 1.12441872e+02, 1.01467812e+02,\n",
       "         7.84728088e+01, 5.27556267e+01, 3.11843758e+01, 1.54606247e+01,\n",
       "         6.09625006e+00, 1.54437494e+00, 2.69687504e-01, 3.53124999e-02],\n",
       "        [0.00000000e+00, 4.93750013e-02, 7.12499976e-01, 1.78156245e+00,\n",
       "         4.50374985e+00, 1.03565626e+01, 2.15946884e+01, 3.83940620e+01,\n",
       "         6.09434357e+01, 8.51484375e+01, 1.00979065e+02, 1.02665627e+02,\n",
       "         9.47440643e+01, 8.32806244e+01, 7.98428116e+01, 8.40056229e+01,\n",
       "         9.35487518e+01, 1.06502502e+02, 1.09348434e+02, 9.75674973e+01,\n",
       "         7.38315659e+01, 4.80649986e+01, 2.75528126e+01, 1.34340630e+01,\n",
       "         4.84999990e+00, 9.13437486e-01, 2.42500007e-01, 3.90625000e-02],\n",
       "        [0.00000000e+00, 4.15625013e-02, 5.76562524e-01, 1.55781245e+00,\n",
       "         4.08062506e+00, 1.02531252e+01, 2.24781246e+01, 4.03378143e+01,\n",
       "         6.59078140e+01, 8.88696899e+01, 9.92340622e+01, 9.52549973e+01,\n",
       "         8.31171875e+01, 7.46559372e+01, 7.56981277e+01, 8.45190659e+01,\n",
       "         9.74071884e+01, 1.10200623e+02, 1.08671875e+02, 9.09378128e+01,\n",
       "         6.44356232e+01, 4.13318748e+01, 2.38031254e+01, 1.16146879e+01,\n",
       "         4.18156242e+00, 7.46874988e-01, 2.15625003e-01, 0.00000000e+00],\n",
       "        [0.00000000e+00, 6.87500015e-02, 2.78437495e-01, 1.29281247e+00,\n",
       "         3.71749997e+00, 1.07746878e+01, 2.33096867e+01, 4.40584373e+01,\n",
       "         7.11462479e+01, 9.18968735e+01, 9.81931229e+01, 9.24459381e+01,\n",
       "         8.15665588e+01, 8.10749969e+01, 8.87675018e+01, 1.00828125e+02,\n",
       "         1.13335625e+02, 1.21164062e+02, 1.10243752e+02, 8.57371902e+01,\n",
       "         5.71653137e+01, 3.67884369e+01, 2.22275009e+01, 1.09193754e+01,\n",
       "         3.51656246e+00, 5.94375014e-01, 1.02499999e-01, 0.00000000e+00],\n",
       "        [0.00000000e+00, 7.81250000e-03, 5.56249991e-02, 8.62812519e-01,\n",
       "         3.44062495e+00, 1.11609373e+01, 2.48290634e+01, 4.82146873e+01,\n",
       "         7.47484360e+01, 9.20221863e+01, 9.59415588e+01, 9.24921875e+01,\n",
       "         9.03468781e+01, 9.81628113e+01, 1.11755623e+02, 1.24026566e+02,\n",
       "         1.31588745e+02, 1.30140625e+02, 1.11853127e+02, 8.17256241e+01,\n",
       "         5.46668739e+01, 3.67212486e+01, 2.31625004e+01, 1.17506247e+01,\n",
       "         3.74874997e+00, 5.73437512e-01, 3.15624997e-02, 0.00000000e+00],\n",
       "        [0.00000000e+00, 0.00000000e+00, 6.87499996e-03, 4.93124992e-01,\n",
       "         3.27406240e+00, 1.22206249e+01, 2.80906258e+01, 5.14337502e+01,\n",
       "         7.56368713e+01, 9.13378143e+01, 9.51081238e+01, 9.48134384e+01,\n",
       "         9.89381256e+01, 1.13968750e+02, 1.28044998e+02, 1.38473434e+02,\n",
       "         1.39968124e+02, 1.32788132e+02, 1.09302185e+02, 8.07431259e+01,\n",
       "         5.67909393e+01, 3.90868759e+01, 2.45896873e+01, 1.26843748e+01,\n",
       "         4.51093769e+00, 8.47812474e-01, 8.18749964e-02, 0.00000000e+00],\n",
       "        [0.00000000e+00, 0.00000000e+00, 1.48437500e-01, 7.45312512e-01,\n",
       "         3.81812501e+00, 1.37806253e+01, 3.03512497e+01, 5.12709389e+01,\n",
       "         7.24087524e+01, 8.60203094e+01, 9.31831284e+01, 9.49009399e+01,\n",
       "         1.03254059e+02, 1.20325623e+02, 1.32801559e+02, 1.38350311e+02,\n",
       "         1.34645309e+02, 1.24200623e+02, 1.03029686e+02, 7.95846863e+01,\n",
       "         5.86359367e+01, 4.19218750e+01, 2.52006245e+01, 1.27553129e+01,\n",
       "         5.01875019e+00, 9.69062507e-01, 1.58437505e-01, 0.00000000e+00],\n",
       "        [0.00000000e+00, 0.00000000e+00, 2.06874996e-01, 8.60937476e-01,\n",
       "         4.65718746e+00, 1.60681248e+01, 3.20737495e+01, 5.03300018e+01,\n",
       "         6.65478134e+01, 7.84562531e+01, 8.60334396e+01, 8.92046890e+01,\n",
       "         9.83606262e+01, 1.13769066e+02, 1.24230003e+02, 1.26387810e+02,\n",
       "         1.22198441e+02, 1.12330002e+02, 9.69512482e+01, 7.93571854e+01,\n",
       "         6.10846863e+01, 4.21306267e+01, 2.54193745e+01, 1.22471876e+01,\n",
       "         4.87812519e+00, 1.17499995e+00, 1.85312495e-01, 6.25000009e-03],\n",
       "        [0.00000000e+00, 0.00000000e+00, 1.37812495e-01, 1.15062499e+00,\n",
       "         6.65687513e+00, 1.86100006e+01, 3.32137489e+01, 4.68668747e+01,\n",
       "         5.93253136e+01, 6.82931213e+01, 7.53265610e+01, 8.07206268e+01,\n",
       "         8.79087524e+01, 1.01128128e+02, 1.11605621e+02, 1.13580627e+02,\n",
       "         1.11678749e+02, 1.06329376e+02, 9.56259384e+01, 7.91896896e+01,\n",
       "         5.93203125e+01, 3.96365623e+01, 2.42265625e+01, 1.13678122e+01,\n",
       "         4.70437479e+00, 1.67781246e+00, 2.38437504e-01, 9.06249974e-03],\n",
       "        [0.00000000e+00, 0.00000000e+00, 2.74687499e-01, 1.73874998e+00,\n",
       "         8.62687492e+00, 2.10312500e+01, 3.42943764e+01, 4.62856255e+01,\n",
       "         5.60096893e+01, 6.42565613e+01, 6.98759384e+01, 7.68628159e+01,\n",
       "         8.30500031e+01, 9.47262497e+01, 1.06356560e+02, 1.10610626e+02,\n",
       "         1.11377502e+02, 1.07477188e+02, 9.64181213e+01, 7.69568787e+01,\n",
       "         5.50781250e+01, 3.61549988e+01, 2.08996868e+01, 9.81062508e+00,\n",
       "         4.18249989e+00, 1.60749996e+00, 1.46562502e-01, 0.00000000e+00],\n",
       "        [0.00000000e+00, 0.00000000e+00, 3.53749990e-01, 2.56937504e+00,\n",
       "         9.96406269e+00, 2.30056248e+01, 3.64340630e+01, 4.94434357e+01,\n",
       "         6.09637489e+01, 6.92137527e+01, 7.58790588e+01, 8.23515625e+01,\n",
       "         9.07115631e+01, 1.02686249e+02, 1.12613129e+02, 1.16601250e+02,\n",
       "         1.16699066e+02, 1.09952187e+02, 9.31478119e+01, 7.10981216e+01,\n",
       "         4.85856247e+01, 3.03884373e+01, 1.72709370e+01, 8.08250046e+00,\n",
       "         3.31062508e+00, 9.46562529e-01, 8.37500021e-02, 0.00000000e+00],\n",
       "        [0.00000000e+00, 4.06249985e-03, 3.88749987e-01, 2.50593758e+00,\n",
       "         9.71531296e+00, 2.16128120e+01, 3.71584358e+01, 5.21246872e+01,\n",
       "         6.65803146e+01, 8.07103119e+01, 8.91262512e+01, 9.79671860e+01,\n",
       "         1.06910934e+02, 1.18366562e+02, 1.23770622e+02, 1.24661560e+02,\n",
       "         1.19167816e+02, 1.04741249e+02, 8.48728104e+01, 6.14493752e+01,\n",
       "         3.97865639e+01, 2.39465618e+01, 1.31956253e+01, 6.37531233e+00,\n",
       "         2.72437501e+00, 7.71250010e-01, 4.18750010e-02, 1.56250000e-02],\n",
       "        [0.00000000e+00, 5.78125007e-02, 5.29999971e-01, 1.99249995e+00,\n",
       "         7.05249977e+00, 1.70918751e+01, 3.18134384e+01, 4.95999985e+01,\n",
       "         6.81931229e+01, 8.45975037e+01, 9.91859360e+01, 1.11506561e+02,\n",
       "         1.21421875e+02, 1.29339691e+02, 1.29355942e+02, 1.24058746e+02,\n",
       "         1.09535622e+02, 8.95965652e+01, 6.76250000e+01, 4.56284370e+01,\n",
       "         2.82812500e+01, 1.61871872e+01, 8.37562466e+00, 4.36687517e+00,\n",
       "         1.97843754e+00, 3.83749992e-01, 0.00000000e+00, 0.00000000e+00],\n",
       "        [0.00000000e+00, 0.00000000e+00, 4.96874988e-01, 1.24687505e+00,\n",
       "         4.07812500e+00, 1.08931246e+01, 2.30221882e+01, 3.97696877e+01,\n",
       "         5.98015633e+01, 7.95156250e+01, 9.89950027e+01, 1.12805000e+02,\n",
       "         1.23873749e+02, 1.25984375e+02, 1.19830627e+02, 1.08084061e+02,\n",
       "         8.92143784e+01, 6.73209381e+01, 4.64415627e+01, 3.00184383e+01,\n",
       "         1.77046871e+01, 9.31406212e+00, 4.96906233e+00, 2.52375007e+00,\n",
       "         9.48750019e-01, 1.76562503e-01, 0.00000000e+00, 0.00000000e+00],\n",
       "        [0.00000000e+00, 0.00000000e+00, 1.48124993e-01, 6.91874981e-01,\n",
       "         2.05437493e+00, 5.07156229e+00, 1.21137505e+01, 2.39278126e+01,\n",
       "         3.90103111e+01, 5.74806252e+01, 7.68081284e+01, 9.19934387e+01,\n",
       "         1.00035934e+02, 9.77803116e+01, 8.78131256e+01, 7.63731232e+01,\n",
       "         5.79531250e+01, 4.07946892e+01, 2.63262501e+01, 1.57243748e+01,\n",
       "         8.48281288e+00, 4.50874996e+00, 2.59218740e+00, 1.32624996e+00,\n",
       "         4.56250012e-01, 4.18750010e-02, 0.00000000e+00, 0.00000000e+00],\n",
       "        [0.00000000e+00, 0.00000000e+00, 0.00000000e+00, 8.62499997e-02,\n",
       "         6.87500000e-01, 1.90937495e+00, 4.32218742e+00, 8.81656265e+00,\n",
       "         1.57399998e+01, 2.64390621e+01, 3.78118744e+01, 4.68218765e+01,\n",
       "         5.20606232e+01, 4.99428139e+01, 4.41068764e+01, 3.69715614e+01,\n",
       "         2.83503132e+01, 2.01765633e+01, 1.18296871e+01, 6.81593752e+00,\n",
       "         4.38500023e+00, 2.54124999e+00, 1.28781247e+00, 5.00312507e-01,\n",
       "         1.06562503e-01, 8.81249979e-02, 3.06250006e-02, 0.00000000e+00],\n",
       "        [0.00000000e+00, 0.00000000e+00, 0.00000000e+00, 0.00000000e+00,\n",
       "         1.43437505e-01, 5.92812479e-01, 1.38093746e+00, 2.87906241e+00,\n",
       "         5.65531254e+00, 9.55156231e+00, 1.38368750e+01, 1.74624996e+01,\n",
       "         1.91921883e+01, 1.69846878e+01, 1.50559378e+01, 1.43684378e+01,\n",
       "         1.23737497e+01, 8.84562492e+00, 5.36312485e+00, 3.26218748e+00,\n",
       "         2.16468740e+00, 1.13156247e+00, 5.22187471e-01, 2.43125007e-01,\n",
       "         5.93749993e-03, 2.71875001e-02, 3.24999988e-02, 0.00000000e+00],\n",
       "        [0.00000000e+00, 0.00000000e+00, 0.00000000e+00, 0.00000000e+00,\n",
       "         1.78124998e-02, 1.35312498e-01, 5.84375024e-01, 8.72187495e-01,\n",
       "         1.59625006e+00, 2.78218746e+00, 4.84124994e+00, 7.07812500e+00,\n",
       "         6.86749983e+00, 6.20593739e+00, 5.54906273e+00, 5.15625000e+00,\n",
       "         4.84156227e+00, 3.66656256e+00, 1.77187502e+00, 7.05624998e-01,\n",
       "         5.10937512e-01, 2.44375005e-01, 9.68749970e-02, 4.46874984e-02,\n",
       "         0.00000000e+00, 0.00000000e+00, 0.00000000e+00, 0.00000000e+00],\n",
       "        [0.00000000e+00, 0.00000000e+00, 0.00000000e+00, 0.00000000e+00,\n",
       "         0.00000000e+00, 0.00000000e+00, 5.00000007e-02, 7.93749988e-02,\n",
       "         4.81249988e-02, 2.32500002e-01, 6.63124979e-01, 7.25000024e-01,\n",
       "         4.64687496e-01, 6.69375002e-01, 5.68437517e-01, 7.26249993e-01,\n",
       "         8.05312514e-01, 4.25000012e-01, 9.96875018e-02, 2.53125001e-02,\n",
       "         1.38750002e-01, 7.34374970e-02, 7.62500018e-02, 1.93750001e-02,\n",
       "         0.00000000e+00, 0.00000000e+00, 0.00000000e+00, 0.00000000e+00]]],\n",
       "      dtype=float32)>"
      ]
     },
     "execution_count": 253,
     "metadata": {},
     "output_type": "execute_result"
    }
   ],
   "source": [
    "std_layer.mean_"
   ]
  },
  {
   "cell_type": "code",
   "execution_count": 279,
   "metadata": {},
   "outputs": [
    {
     "name": "stdout",
     "output_type": "stream",
     "text": [
      "Model: \"sequential\"\n",
      "_________________________________________________________________\n",
      "Layer (type)                 Output Shape              Param #   \n",
      "=================================================================\n",
      "standardization_layer_12 (St (None, 28, 28)            0         \n",
      "_________________________________________________________________\n",
      "flatten (Flatten)            (None, 784)               0         \n",
      "_________________________________________________________________\n",
      "dense (Dense)                (None, 100)               78500     \n",
      "_________________________________________________________________\n",
      "dense_1 (Dense)              (None, 100)               10100     \n",
      "_________________________________________________________________\n",
      "dense_2 (Dense)              (None, 10)                1010      \n",
      "=================================================================\n",
      "Total params: 89,610\n",
      "Trainable params: 89,610\n",
      "Non-trainable params: 0\n",
      "_________________________________________________________________\n"
     ]
    }
   ],
   "source": [
    "tf.keras.backend.clear_session()\n",
    "\n",
    "new_model = Sequential([\n",
    "    Input(shape=[28, 28]),\n",
    "    std_layer,\n",
    "    Flatten(),\n",
    "    Dense(100, activation = 'relu'),\n",
    "])\n",
    "\n",
    "new_model.add(Dense(100, activation = 'relu'))\n",
    "new_model.add(Dense(10, activation = 'softmax'))\n",
    "\n",
    "new_model.compile(loss = 'sparse_categorical_crossentropy', metrics=['accuracy'], optimizer='adam')\n",
    "\n",
    "new_model.summary()"
   ]
  },
  {
   "cell_type": "code",
   "execution_count": 280,
   "metadata": {},
   "outputs": [
    {
     "name": "stdout",
     "output_type": "stream",
     "text": [
      "Epoch 1/10\n",
      "      1/Unknown - 0s 85us/step - loss: 9609053.0000 - accuracy: 0.1562WARNING:tensorflow:Callbacks method `on_train_batch_end` is slow compared to the batch time (batch time: 0.0023s vs `on_train_batch_end` time: 0.0057s). Check your callbacks.\n",
      "1719/1719 [==============================] - 7s 4ms/step - loss: 118096.6172 - accuracy: 0.9163 - val_loss: 221962.6250 - val_accuracy: 0.9492\n",
      "Epoch 2/10\n",
      "1719/1719 [==============================] - 8s 5ms/step - loss: 47181.9258 - accuracy: 0.9536 - val_loss: 178490.4688 - val_accuracy: 0.9530\n",
      "Epoch 3/10\n",
      "1719/1719 [==============================] - 7s 4ms/step - loss: 27038.2637 - accuracy: 0.9606 - val_loss: 94094.0859 - val_accuracy: 0.9522\n",
      "Epoch 4/10\n",
      "1719/1719 [==============================] - 9s 5ms/step - loss: 14235.8438 - accuracy: 0.9657 - val_loss: 61551.1797 - val_accuracy: 0.9556\n",
      "Epoch 5/10\n",
      "1719/1719 [==============================] - 11s 6ms/step - loss: 8777.8271 - accuracy: 0.9711 - val_loss: 50767.5234 - val_accuracy: 0.9576\n",
      "Epoch 6/10\n",
      "1719/1719 [==============================] - 6s 4ms/step - loss: 3110.8999 - accuracy: 0.9748 - val_loss: 38229.3945 - val_accuracy: 0.9580\n",
      "Epoch 7/10\n",
      "1719/1719 [==============================] - 6s 4ms/step - loss: 2118.4453 - accuracy: 0.9772 - val_loss: 41555.7930 - val_accuracy: 0.9532\n",
      "Epoch 8/10\n",
      "1719/1719 [==============================] - 6s 3ms/step - loss: 2768.9421 - accuracy: 0.9753 - val_loss: 22589.3770 - val_accuracy: 0.9590\n",
      "Epoch 9/10\n",
      "1719/1719 [==============================] - 6s 4ms/step - loss: 1482.6653 - accuracy: 0.9811 - val_loss: 21922.7109 - val_accuracy: 0.9580\n",
      "Epoch 10/10\n",
      "1719/1719 [==============================] - 6s 4ms/step - loss: 1405.1089 - accuracy: 0.9838 - val_loss: 22404.2402 - val_accuracy: 0.9614\n"
     ]
    },
    {
     "data": {
      "text/plain": [
       "<tensorflow.python.keras.callbacks.History at 0x7fce2109ad50>"
      ]
     },
     "execution_count": 280,
     "metadata": {},
     "output_type": "execute_result"
    }
   ],
   "source": [
    "log_dir = \"./datasets/ch13-preprocessing/logs/fit/\" + datetime.datetime.now().strftime(\"%Y%m%d-%H%M%S\")\n",
    "tensorboard_callback = tf.keras.callbacks.TensorBoard(log_dir=log_dir, histogram_freq=1, profile_batch=10)\n",
    "\n",
    "new_model.fit(new_trainset, epochs = 10, validation_data=new_validset, callbacks=[tensorboard_callback])"
   ]
  },
  {
   "cell_type": "code",
   "execution_count": 281,
   "metadata": {},
   "outputs": [
    {
     "name": "stdout",
     "output_type": "stream",
     "text": [
      "The tensorboard extension is already loaded. To reload it, use:\n",
      "  %reload_ext tensorboard\n"
     ]
    },
    {
     "data": {
      "text/plain": [
       "Reusing TensorBoard on port 6006 (pid 59884), started 0:33:27 ago. (Use '!kill 59884' to kill it.)"
      ]
     },
     "metadata": {},
     "output_type": "display_data"
    },
    {
     "data": {
      "text/html": [
       "\n",
       "      <iframe id=\"tensorboard-frame-be7f7b1a42fb15bd\" width=\"100%\" height=\"800\" frameborder=\"0\">\n",
       "      </iframe>\n",
       "      <script>\n",
       "        (function() {\n",
       "          const frame = document.getElementById(\"tensorboard-frame-be7f7b1a42fb15bd\");\n",
       "          const url = new URL(\"/\", window.location);\n",
       "          const port = 6006;\n",
       "          if (port) {\n",
       "            url.port = port;\n",
       "          }\n",
       "          frame.src = url;\n",
       "        })();\n",
       "      </script>\n",
       "    "
      ],
      "text/plain": [
       "<IPython.core.display.HTML object>"
      ]
     },
     "metadata": {},
     "output_type": "display_data"
    }
   ],
   "source": [
    "%load_ext tensorboard\n",
    "%tensorboard --logdir ./datasets/ch13-preprocessing/logs/fit"
   ]
  },
  {
   "cell_type": "code",
   "execution_count": 282,
   "metadata": {},
   "outputs": [
    {
     "data": {
      "text/plain": [
       "<tf.Tensor: shape=(1, 10), dtype=float32, numpy=\n",
       "array([[2.0730959e-06, 4.8182956e-06, 1.8192634e-04, 1.2669700e-05,\n",
       "        1.3650000e-06, 1.9688277e-05, 6.7990433e-05, 1.7676841e-07,\n",
       "        9.9970466e-01, 4.6830082e-06]], dtype=float32)>"
      ]
     },
     "execution_count": 282,
     "metadata": {},
     "output_type": "execute_result"
    }
   ],
   "source": [
    "new_model(list(new_testset.take(1).as_numpy_iterator())[0][0][0:1])"
   ]
  },
  {
   "cell_type": "code",
   "execution_count": 283,
   "metadata": {},
   "outputs": [
    {
     "name": "stdout",
     "output_type": "stream",
     "text": [
      "313/313 [==============================] - 1s 3ms/step - loss: 12661.2920 - accuracy: 0.9589\n"
     ]
    },
    {
     "data": {
      "text/plain": [
       "[12661.2919921875, 0.958899974822998]"
      ]
     },
     "execution_count": 283,
     "metadata": {},
     "output_type": "execute_result"
    }
   ],
   "source": [
    "new_model.evaluate(new_testset)"
   ]
  },
  {
   "cell_type": "code",
   "execution_count": 284,
   "metadata": {},
   "outputs": [
    {
     "name": "stdout",
     "output_type": "stream",
     "text": [
      "313/313 [==============================] - 1s 4ms/step - loss: 0.1824 - accuracy: 0.9558\n"
     ]
    },
    {
     "data": {
      "text/plain": [
       "[0.18235553801059723, 0.9557999968528748]"
      ]
     },
     "execution_count": 284,
     "metadata": {},
     "output_type": "execute_result"
    }
   ],
   "source": [
    "model.evaluate(new_testset)"
   ]
  },
  {
   "cell_type": "markdown",
   "metadata": {},
   "source": [
    "## WIth normalization layer, the performance is better"
   ]
  },
  {
   "cell_type": "markdown",
   "metadata": {},
   "source": [
    "## Question 10"
   ]
  },
  {
   "cell_type": "code",
   "execution_count": 307,
   "metadata": {},
   "outputs": [],
   "source": [
    "from tensorflow.data import Dataset\n",
    "from tensorflow.keras.preprocessing.text import Tokenizer\n",
    "from tensorflow.keras.preprocessing import text_dataset_from_directory\n",
    "import os"
   ]
  },
  {
   "cell_type": "code",
   "execution_count": 308,
   "metadata": {},
   "outputs": [
    {
     "name": "stdout",
     "output_type": "stream",
     "text": [
      "movie-reviews/\n",
      "    urls_unsup.txt\n",
      "    .DS_Store\n",
      "    imdbEr.txt\n",
      "    ...\n",
      "    aclImdb/\n",
      "        .DS_Store\n",
      "        test/\n",
      "            .DS_Store\n",
      "            neg/\n",
      "                1821_4.txt\n",
      "                9487_1.txt\n",
      "                4604_4.txt\n",
      "                ...\n",
      "            pos/\n",
      "                4715_9.txt\n",
      "                1930_9.txt\n",
      "                3205_9.txt\n",
      "                ...\n",
      "        train/\n",
      "            .DS_Store\n",
      "            neg/\n",
      "                1821_4.txt\n",
      "                10402_1.txt\n",
      "                1062_4.txt\n",
      "                ...\n",
      "            pos/\n",
      "                4715_9.txt\n",
      "                12390_8.txt\n",
      "                8329_7.txt\n",
      "                ...\n"
     ]
    }
   ],
   "source": [
    "DATA_ROOT = './datasets/ch13-preprocessing/movie-reviews'\n",
    "root_num = len(DATA_ROOT.split('/'))\n",
    "\n",
    "for root, dirs, files in os.walk(DATA_ROOT):\n",
    "    splitted = root.split('/')\n",
    "    indent = len(splitted) - root_num\n",
    "    print(\"    \"*(indent) + splitted[-1] +'/')\n",
    "    \n",
    "    for num, file in enumerate(files):\n",
    "        if num == 3:\n",
    "            print(\"    \"*(indent + 1) + '...')\n",
    "            break\n",
    "        print(\"    \"*(indent + 1) + file)"
   ]
  },
  {
   "cell_type": "code",
   "execution_count": 305,
   "metadata": {},
   "outputs": [
    {
     "name": "stdout",
     "output_type": "stream",
     "text": [
      "x [1, 2, 3, 4]\n",
      "y x\n",
      "x [5, 6, 7, 8]\n",
      "y u\n"
     ]
    }
   ],
   "source": [
    "for x, y in (([1,2,3,4], 'x'), ([5, 6, 7, 8], 'u')):\n",
    "    print(f'x {x}')\n",
    "    print(f'y {y}')"
   ]
  },
  {
   "cell_type": "code",
   "execution_count": 508,
   "metadata": {},
   "outputs": [
    {
     "name": "stdout",
     "output_type": "stream",
     "text": [
      "Found 25000 files belonging to 2 classes.\n",
      "Using 20000 files for training.\n",
      "Found 25000 files belonging to 2 classes.\n",
      "Using 5000 files for validation.\n"
     ]
    }
   ],
   "source": [
    "trainset = text_dataset_from_directory(DATA_ROOT + '/aclImdb/train', \n",
    "                                                 validation_split=0.2, subset='training',\n",
    "                                                 seed=42, )\n",
    "\n",
    "validset = text_dataset_from_directory(DATA_ROOT + '/aclImdb/train', \n",
    "                                                 validation_split=0.2, subset='validation',\n",
    "                                                 seed=42\n",
    "                                                )"
   ]
  },
  {
   "cell_type": "code",
   "execution_count": 509,
   "metadata": {},
   "outputs": [
    {
     "name": "stdout",
     "output_type": "stream",
     "text": [
      "b\"Mild Spoilers<br /><br />In the near future, Arnold stars as Ben Richards, a wrongly convicted man coerced into playing 'The Running Man', a deadly TV game show where people have to keep moving to try and escape brutal deaths at the hands of the 'Stalkers'. Of course, people are expected to die eventually and its up to Arnold to prove the system wrong.<br /><br />I haven't read the Stephen King book, but this is a great film regardless, one of Arnold's best. He does what he does best in the action man role, delivering death with unforgettable one-liners. Classics are probably the 'He was a real pain in the neck' after strangling a guy with barb wire, and 'He had to split!', referring to whereabouts he just chain sawed someone vertically. Dawson is perfectly irritating as the TV presenter, and all the 'Stalkers' are suitably camp. The action is violent, but its an action film. That's the point. The film is fast paced, and at 90 minutes it doesn't overstay its welcome. <br /><br />With Starsky and Hutch's Paul Michael Glaser at the helm, and made in the wake of the success of The Terminator, previously this film was probably seen as just another mindless action vehicle for Arnold, and very far fetched. But today, anyone who watches a lot of TV could see how the film is getting closer to reality. I wouldn't be surprised if I turn on the TV in the 'near future' and see a show not to far from this.<br /><br />On that depressing note, I must however recommend 'The Running Man' to anyone who likes the 80s, Arnold, ridiculous acts or violence or just a good action film. 9. 5 / 10\"\n"
     ]
    }
   ],
   "source": [
    "for data in trainset.take(1):\n",
    "    print(data[0].numpy()[0])"
   ]
  },
  {
   "cell_type": "code",
   "execution_count": 646,
   "metadata": {},
   "outputs": [],
   "source": [
    "# using textvectorization\n",
    "from collections import Counter\n",
    "\n",
    "def preprocess(text, n_words = 50):\n",
    "    shape = tf.shape(text)* tf.constant([1, 0]) + tf.constant([0, n_words])\n",
    "    text = tf.strings.lower(text)\n",
    "    text = tf.strings.regex_replace(text, b\"<[^>]+>\", b\" \")\n",
    "    text = tf.strings.regex_replace(text, b\"[^a-z]\",b\" \")\n",
    "    text = tf.strings.split(text)\n",
    "    text = text.to_tensor(shape = shape, default_value=b\"<pad>\")\n",
    "    return text\n",
    "\n",
    "\n",
    "def get_vocab(text, n_vocab=1000):\n",
    "    counter = Counter()\n",
    "    text_batchs = preprocess(text)\n",
    "    \n",
    "    for batch in text_batchs:\n",
    "        for text in batch:\n",
    "            if text != '<pad>':\n",
    "                counter[text.numpy()] += 1\n",
    "                \n",
    "    return tf.constant(['<pad>']+[word for word, count in counter.most_common(n_vocab)])"
   ]
  },
  {
   "cell_type": "code",
   "execution_count": 621,
   "metadata": {},
   "outputs": [
    {
     "data": {
      "text/plain": [
       "<tf.Tensor: shape=(2, 50), dtype=string, numpy=\n",
       "array([[b'test', b'suk', b't', b'<pad>', b'<pad>', b'<pad>', b'<pad>',\n",
       "        b'<pad>', b'<pad>', b'<pad>', b'<pad>', b'<pad>', b'<pad>',\n",
       "        b'<pad>', b'<pad>', b'<pad>', b'<pad>', b'<pad>', b'<pad>',\n",
       "        b'<pad>', b'<pad>', b'<pad>', b'<pad>', b'<pad>', b'<pad>',\n",
       "        b'<pad>', b'<pad>', b'<pad>', b'<pad>', b'<pad>', b'<pad>',\n",
       "        b'<pad>', b'<pad>', b'<pad>', b'<pad>', b'<pad>', b'<pad>',\n",
       "        b'<pad>', b'<pad>', b'<pad>', b'<pad>', b'<pad>', b'<pad>',\n",
       "        b'<pad>', b'<pad>', b'<pad>', b'<pad>', b'<pad>', b'<pad>',\n",
       "        b'<pad>'],\n",
       "       [b'what', b'the', b'hack', b'<pad>', b'<pad>', b'<pad>', b'<pad>',\n",
       "        b'<pad>', b'<pad>', b'<pad>', b'<pad>', b'<pad>', b'<pad>',\n",
       "        b'<pad>', b'<pad>', b'<pad>', b'<pad>', b'<pad>', b'<pad>',\n",
       "        b'<pad>', b'<pad>', b'<pad>', b'<pad>', b'<pad>', b'<pad>',\n",
       "        b'<pad>', b'<pad>', b'<pad>', b'<pad>', b'<pad>', b'<pad>',\n",
       "        b'<pad>', b'<pad>', b'<pad>', b'<pad>', b'<pad>', b'<pad>',\n",
       "        b'<pad>', b'<pad>', b'<pad>', b'<pad>', b'<pad>', b'<pad>',\n",
       "        b'<pad>', b'<pad>', b'<pad>', b'<pad>', b'<pad>', b'<pad>',\n",
       "        b'<pad>']], dtype=object)>"
      ]
     },
     "execution_count": 621,
     "metadata": {},
     "output_type": "execute_result"
    }
   ],
   "source": [
    "preprocess([b\"test, suk t\", b'What the hack'])"
   ]
  },
  {
   "cell_type": "code",
   "execution_count": 644,
   "metadata": {},
   "outputs": [],
   "source": [
    "tf.random.set_seed(42)\n",
    "concat_data = tf.constant([\"\"])\n",
    "for data in trainset:\n",
    "    concat_data = tf.concat([concat_data, data[0]], axis = 0)"
   ]
  },
  {
   "cell_type": "markdown",
   "metadata": {},
   "source": [
    "get_vocab(concat_data)"
   ]
  },
  {
   "cell_type": "markdown",
   "metadata": {},
   "source": [
    "## Create self customize TextVectorization Layer"
   ]
  },
  {
   "cell_type": "code",
   "execution_count": 655,
   "metadata": {},
   "outputs": [],
   "source": [
    "class TextVectorization(tf.keras.layers.Layer):\n",
    "    def __init__(self, max_vocab_size=1000, n_oov_buckets=100, dtype=tf.string, **kwargs):\n",
    "        super().__init__(dtype=dtype, **kwargs)\n",
    "        self.max_vocab_size = max_vocab_size\n",
    "        self.n_oov_buckets = n_oov_buckets\n",
    "        \n",
    "    def adapt(self, data_example):\n",
    "        self.vocab = get_vocab(data_example, self.max_vocab_size)\n",
    "        word_idx = tf.range(len(self.vocab), dtype = tf.int64)\n",
    "        vocab_init = tf.lookup.KeyValueTensorInitializer(self.vocab, word_idx)\n",
    "        print(vocab_init)\n",
    "        self.table = tf.lookup.StaticVocabularyTable(vocab_init, self.n_oov_buckets)\n",
    "        \n",
    "    def call(self, data):\n",
    "        texts = preprocess(data)\n",
    "        return self.table.lookup(texts)"
   ]
  },
  {
   "cell_type": "code",
   "execution_count": null,
   "metadata": {},
   "outputs": [],
   "source": [
    "def preprocess(X_batch, n_words=50):\n",
    "    shape = tf.shape(X_batch) * tf.constant([1, 0]) + tf.constant([0, n_words])\n",
    "    Z = tf.strings.substr(X_batch, 0, 300)\n",
    "    Z = tf.strings.lower(Z)\n",
    "    Z = tf.strings.regex_replace(Z, b\"<br\\\\s*/?>\", b\" \")\n",
    "    Z = tf.strings.regex_replace(Z, b\"[^a-z]\", b\" \")\n",
    "    Z = tf.strings.split(Z)\n",
    "    Z = Z.to_tensor(shape=shape, default_value=b\"<pad>\")\n",
    "\n",
    "    return Z\n",
    "\n",
    "def get_vocabulary(data_sample, max_size=1000):\n",
    "    preprocessed_reviews = preprocess(data_sample).numpy()\n",
    "    counter = Counter()\n",
    "    for words in preprocessed_reviews:\n",
    "        for word in words:\n",
    "            if word != b\"<pad>\":\n",
    "                counter[word] += 1\n",
    "    return [b\"<pad>\"] + [word for word, count in counter.most_common(max_size)]\n",
    "\n",
    "class TextVectorization2(tf.keras.layers.Layer):\n",
    "    def __init__(self, max_vocabulary_size=1000, n_oov_buckets=100, dtype=tf.string, **kwargs):\n",
    "        super().__init__(dtype=dtype, **kwargs)\n",
    "        self.max_vocabulary_size = max_vocabulary_size\n",
    "        self.n_oov_buckets = n_oov_buckets\n",
    "\n",
    "    def adapt(self, data_sample):\n",
    "        self.vocab = get_vocabulary(data_sample, self.max_vocabulary_size)\n",
    "        words = tf.constant(self.vocab)\n",
    "        word_ids = tf.range(len(self.vocab), dtype=tf.int64)\n",
    "        vocab_init = tf.lookup.KeyValueTensorInitializer(words, word_ids)\n",
    "        self.table = tf.lookup.StaticVocabularyTable(vocab_init, self.n_oov_buckets)\n",
    "        \n",
    "    def call(self, inputs):\n",
    "        preprocessed_inputs = preprocess(inputs)\n",
    "        return self.table.lookup(preprocessed_inputs)"
   ]
  },
  {
   "cell_type": "code",
   "execution_count": 669,
   "metadata": {},
   "outputs": [
    {
     "name": "stdout",
     "output_type": "stream",
     "text": [
      "tf.Tensor(1036, shape=(), dtype=int64)\n"
     ]
    }
   ],
   "source": [
    "print(text_vect.table.lookup(tf.constant('ggwpefuncka', dtype=tf.string)))"
   ]
  },
  {
   "cell_type": "code",
   "execution_count": 657,
   "metadata": {},
   "outputs": [
    {
     "name": "stdout",
     "output_type": "stream",
     "text": [
      "<tensorflow.python.ops.lookup_ops.KeyValueTensorInitializer object at 0x7fce2a5d7350>\n"
     ]
    }
   ],
   "source": [
    "text_vect = TextVectorization(input_shape = [])\n",
    "text_vect.adapt(concat_data)"
   ]
  },
  {
   "cell_type": "code",
   "execution_count": 658,
   "metadata": {},
   "outputs": [
    {
     "data": {
      "text/plain": [
       "<tf.Tensor: shape=(20001, 50), dtype=int64, numpy=\n",
       "array([[   0,    0,    0, ...,    0,    0,    0],\n",
       "       [1087, 1005, 1046, ..., 1087,    7, 1012],\n",
       "       [  38,  435,  103, ...,   17, 1100,  500],\n",
       "       ...,\n",
       "       [  16,   85,   30, ..., 1006,   13,  390],\n",
       "       [   5,  484,    6, ...,  959,  465, 1014],\n",
       "       [   5,  213,    2, ...,  263,    3,  181]])>"
      ]
     },
     "execution_count": 658,
     "metadata": {},
     "output_type": "execute_result"
    }
   ],
   "source": [
    "text_vect(concat_data)"
   ]
  },
  {
   "cell_type": "code",
   "execution_count": 649,
   "metadata": {},
   "outputs": [],
   "source": [
    "class BagOfWords(tf.keras.layers.Layer):\n",
    "    def __init__(self, n_tokens, dtype=tf.int32, **kwargs):\n",
    "        super().__init__(dtype=tf.int32, **kwargs)\n",
    "        self.n_tokens = n_tokens\n",
    "    def call(self, inputs):\n",
    "        one_hot = tf.one_hot(inputs, self.n_tokens)\n",
    "        return tf.reduce_sum(one_hot, axis=1)[:, 1:]"
   ]
  },
  {
   "cell_type": "code",
   "execution_count": 629,
   "metadata": {},
   "outputs": [
    {
     "data": {
      "text/plain": [
       "<tf.Tensor: shape=(97, 999), dtype=float32, numpy=\n",
       "array([[0., 0., 0., ..., 0., 0., 0.],\n",
       "       [1., 1., 1., ..., 0., 0., 0.],\n",
       "       [4., 0., 0., ..., 0., 0., 0.],\n",
       "       ...,\n",
       "       [1., 4., 0., ..., 0., 0., 0.],\n",
       "       [5., 2., 1., ..., 0., 0., 0.],\n",
       "       [3., 3., 4., ..., 0., 0., 0.]], dtype=float32)>"
      ]
     },
     "execution_count": 629,
     "metadata": {},
     "output_type": "execute_result"
    }
   ],
   "source": [
    "bg = BagOfWords(1000)\n",
    "bg(text_vect(concat_data))"
   ]
  },
  {
   "cell_type": "code",
   "execution_count": 630,
   "metadata": {},
   "outputs": [
    {
     "name": "stdout",
     "output_type": "stream",
     "text": [
      "tf.Tensor([97], shape=(1,), dtype=int32)\n"
     ]
    }
   ],
   "source": [
    "print(tf.shape(concat_data))"
   ]
  },
  {
   "cell_type": "code",
   "execution_count": 650,
   "metadata": {},
   "outputs": [],
   "source": [
    "# create simple model\n",
    "from tensorflow.keras.layers import Dense, Input, BatchNormalization, Dropout\n",
    "from tensorflow.keras.models import Sequential"
   ]
  },
  {
   "cell_type": "code",
   "execution_count": 651,
   "metadata": {},
   "outputs": [],
   "source": [
    "tf.keras.backend.clear_session()\n",
    "\n",
    "n_tokens = 1000 + 100 + 1\n",
    "\n",
    "model = Sequential([\n",
    "    text_vect,\n",
    "    BagOfWords(n_tokens),\n",
    "    Dense(100, activation = 'elu'),\n",
    "    BatchNormalization(),\n",
    "    Dropout(0.5),\n",
    "    Dense(100, activation = 'elu'),\n",
    "    BatchNormalization(),\n",
    "    Dropout(0.5),\n",
    "    Dense(1, activation = 'sigmoid')\n",
    "])\n",
    "\n",
    "model.compile(loss='binary_crossentropy', metrics=['accuracy'], optimizer = 'adam')"
   ]
  },
  {
   "cell_type": "code",
   "execution_count": 642,
   "metadata": {},
   "outputs": [
    {
     "name": "stdout",
     "output_type": "stream",
     "text": [
      "tf.Tensor([32], shape=(1,), dtype=int32)\n"
     ]
    }
   ],
   "source": [
    "for data in trainset.take(1):\n",
    "    print(tf.shape(data[0]))"
   ]
  },
  {
   "cell_type": "code",
   "execution_count": 652,
   "metadata": {},
   "outputs": [
    {
     "name": "stdout",
     "output_type": "stream",
     "text": [
      "Epoch 1/10\n",
      "625/625 [==============================] - 28s 45ms/step - loss: 0.6812 - accuracy: 0.6441 - val_loss: 0.5348 - val_accuracy: 0.7244\n",
      "Epoch 2/10\n",
      "625/625 [==============================] - 14s 22ms/step - loss: 0.5418 - accuracy: 0.7261 - val_loss: 0.5232 - val_accuracy: 0.7344\n",
      "Epoch 3/10\n",
      "625/625 [==============================] - 15s 24ms/step - loss: 0.5147 - accuracy: 0.7443 - val_loss: 0.5199 - val_accuracy: 0.7352\n",
      "Epoch 4/10\n",
      "625/625 [==============================] - 12s 20ms/step - loss: 0.5026 - accuracy: 0.7474 - val_loss: 0.5209 - val_accuracy: 0.7326\n",
      "Epoch 5/10\n",
      "625/625 [==============================] - 15s 24ms/step - loss: 0.4975 - accuracy: 0.7528 - val_loss: 0.5197 - val_accuracy: 0.7362\n",
      "Epoch 6/10\n",
      "625/625 [==============================] - 15s 24ms/step - loss: 0.4901 - accuracy: 0.7581 - val_loss: 0.5181 - val_accuracy: 0.7334\n",
      "Epoch 7/10\n",
      "625/625 [==============================] - 22s 36ms/step - loss: 0.4850 - accuracy: 0.7614 - val_loss: 0.5226 - val_accuracy: 0.7332\n",
      "Epoch 8/10\n",
      "625/625 [==============================] - 36s 58ms/step - loss: 0.4801 - accuracy: 0.7641 - val_loss: 0.5215 - val_accuracy: 0.7344\n",
      "Epoch 9/10\n",
      "625/625 [==============================] - 36s 57ms/step - loss: 0.4729 - accuracy: 0.7656 - val_loss: 0.5258 - val_accuracy: 0.7380\n",
      "Epoch 10/10\n",
      "625/625 [==============================] - 32s 52ms/step - loss: 0.4694 - accuracy: 0.7699 - val_loss: 0.5244 - val_accuracy: 0.7374\n"
     ]
    },
    {
     "data": {
      "text/plain": [
       "<tensorflow.python.keras.callbacks.History at 0x7fce0c5fb910>"
      ]
     },
     "execution_count": 652,
     "metadata": {},
     "output_type": "execute_result"
    }
   ],
   "source": [
    "model.fit(trainset,\n",
    "          epochs = 10, validation_data=validset)"
   ]
  },
  {
   "cell_type": "code",
   "execution_count": 617,
   "metadata": {},
   "outputs": [
    {
     "name": "stdout",
     "output_type": "stream",
     "text": [
      "Model: \"sequential\"\n",
      "_________________________________________________________________\n",
      "Layer (type)                 Output Shape              Param #   \n",
      "=================================================================\n",
      "text_vectorization2_10 (Text (None, None)              0         \n",
      "_________________________________________________________________\n",
      "bag_of_words (BagOfWords)    (None, 999)               0         \n",
      "_________________________________________________________________\n",
      "dense (Dense)                (None, 100)               100000    \n",
      "_________________________________________________________________\n",
      "dense_1 (Dense)              (None, 100)               10100     \n",
      "_________________________________________________________________\n",
      "dense_2 (Dense)              (None, 1)                 101       \n",
      "=================================================================\n",
      "Total params: 110,201\n",
      "Trainable params: 110,201\n",
      "Non-trainable params: 0\n",
      "_________________________________________________________________\n"
     ]
    }
   ],
   "source": [
    "model.summary()"
   ]
  },
  {
   "cell_type": "code",
   "execution_count": 570,
   "metadata": {},
   "outputs": [],
   "source": [
    "## Customize fit function in the model\n",
    "class MyModel(tf.keras.Model):\n",
    "    def train_step(self, data):\n",
    "        \n",
    "        x, y = data\n",
    "        \n",
    "        with tf.GradientTape() as tape:\n",
    "            y_pred = self(x, training=True)\n",
    "            loss = self.compiled_loss(y, y_pred, regularization_losses = self.losses)\n",
    "            \n",
    "        trainable_vars = self.trainable_variables\n",
    "        gradients = tape.gradient(loss, trainable_vars)\n",
    "        # update weights\n",
    "        self.optimizer.apply_gradients(zip(gradients, trainable_vars))\n",
    "        # update metrics\n",
    "        self.compiled_metrics.update_state(y, y_pred)\n",
    "        # return dict mappin metrics name to cur val\n",
    "        return {m.name: m.result() for m in self.metrics}"
   ]
  },
  {
   "cell_type": "code",
   "execution_count": null,
   "metadata": {},
   "outputs": [],
   "source": [
    "inputs = Input(shape=(), dtype=tf.string)\n",
    "tokenized = text_vect(inputs)\n",
    "bagofwords = BagOfWords(1000)(tokenized)\n",
    "a1 = Dense(100, activation = 'elu')(bagofwords)\n",
    "a2 = Dense(100, activation = 'elu')(a1)\n",
    "outputs = Dense(1, activation = 'sigmoid')(a2)\n",
    "\n",
    "mymodel = MyModel(inputs, outputs)\n",
    "mymodel.compile(loss = 'binary_crossentropy', optimizer = 'adam', metrics=['accuracy'])"
   ]
  },
  {
   "cell_type": "code",
   "execution_count": null,
   "metadata": {},
   "outputs": [],
   "source": []
  }
 ],
 "metadata": {
  "kernelspec": {
   "display_name": "Python 3",
   "language": "python",
   "name": "python3"
  },
  "language_info": {
   "codemirror_mode": {
    "name": "ipython",
    "version": 3
   },
   "file_extension": ".py",
   "mimetype": "text/x-python",
   "name": "python",
   "nbconvert_exporter": "python",
   "pygments_lexer": "ipython3",
   "version": "3.7.9"
  }
 },
 "nbformat": 4,
 "nbformat_minor": 4
}
