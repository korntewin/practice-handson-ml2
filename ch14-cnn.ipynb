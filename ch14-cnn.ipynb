{
 "cells": [
  {
   "cell_type": "markdown",
   "metadata": {},
   "source": [
    "## Question 1"
   ]
  },
  {
   "cell_type": "markdown",
   "metadata": {},
   "source": [
    "* CNN use fewer parameters and thus reduce overfitting.  \n",
    "* CNN can detect the connection in spatial dimensions. "
   ]
  },
  {
   "cell_type": "markdown",
   "metadata": {},
   "source": [
    "## Question 2 "
   ]
  },
  {
   "cell_type": "markdown",
   "metadata": {},
   "source": [
    "* In this case, there are (3 x 3 + 1) x 3 x 100 + (3 x 3 + 1) x 100 x 200 + (3 x 3 + 1) x 200 x 400 = 1,003,000 parameters.     \n",
    "* Let's see the image size first. \n",
    "    * Input contain 200 x 300 pixels  \n",
    "    * Layer 1 contain (200 - 3)//2 + 1 x (300 - 3)//2 + 1 = 96 x 149 pixels --> We need (9 x 3 + 1) x 96 x 149 x 100 = 40,051,200 of float variables \n",
    "    * Layer 2 contain (96 - 3)//2 + 1 x (149 - 3)//2 + 1 = 47 x 74 pixels --> We need (9 x 100 + 1) x 47 x 74 x 200 = 626,736,600 of float variables  \n",
    "    * Layer 3 contain (47 - 3)//2 + 1 x (74 - 3)//2 + 1 = 23 x 36 pixels --> We need (9 x 200 + 1) x 23 x 36 x 400 = 596,491,200. \n",
    "    * Total number of required float for 1 instance is around 4.7 GB!  \n",
    "    * For 50 images mini batched it required 235 GB!\n",
    "    "
   ]
  },
  {
   "cell_type": "markdown",
   "metadata": {},
   "source": [
    "## Question 3. "
   ]
  },
  {
   "cell_type": "markdown",
   "metadata": {},
   "source": [
    "* Try reducing the size of CNN.  \n",
    "* Run CNN on multiple computers.  \n",
    "* "
   ]
  },
  {
   "cell_type": "markdown",
   "metadata": {},
   "source": [
    "## Question 4. "
   ]
  },
  {
   "cell_type": "markdown",
   "metadata": {},
   "source": [
    "* Max pooling layer is faster to compute and it has no parameter to train.  \n",
    "* It can, also, compress the graph while preserve the information."
   ]
  },
  {
   "cell_type": "markdown",
   "metadata": {},
   "source": [
    "## Question 5"
   ]
  },
  {
   "cell_type": "markdown",
   "metadata": {},
   "source": [
    "## Question 6"
   ]
  },
  {
   "cell_type": "markdown",
   "metadata": {},
   "source": [
    "## Question 7"
   ]
  },
  {
   "cell_type": "markdown",
   "metadata": {},
   "source": [
    "## Question 8"
   ]
  },
  {
   "cell_type": "markdown",
   "metadata": {},
   "source": [
    "## Question 9"
   ]
  },
  {
   "cell_type": "markdown",
   "metadata": {},
   "source": [
    "## Question 10"
   ]
  },
  {
   "cell_type": "code",
   "execution_count": null,
   "metadata": {},
   "outputs": [],
   "source": []
  }
 ],
 "metadata": {
  "kernelspec": {
   "display_name": "Python 3",
   "language": "python",
   "name": "python3"
  },
  "language_info": {
   "codemirror_mode": {
    "name": "ipython",
    "version": 3
   },
   "file_extension": ".py",
   "mimetype": "text/x-python",
   "name": "python",
   "nbconvert_exporter": "python",
   "pygments_lexer": "ipython3",
   "version": "3.7.9"
  }
 },
 "nbformat": 4,
 "nbformat_minor": 4
}
