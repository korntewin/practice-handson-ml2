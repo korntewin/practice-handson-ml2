{
 "cells": [
  {
   "cell_type": "code",
   "execution_count": 1,
   "metadata": {},
   "outputs": [],
   "source": [
    "import os\n",
    "import tarfile\n",
    "import zipfile\n",
    "import urllib"
   ]
  },
  {
   "cell_type": "code",
   "execution_count": 2,
   "metadata": {},
   "outputs": [],
   "source": [
    "DOWNLOAD_ROOT = \"https://raw.githubusercontent.com/ageron/handson-ml2/master/\" \n",
    "HOUSING_PATH = os.path.join('.', 'datasets', 'housing')\n",
    "HOUSING_URL = DOWNLOAD_ROOT + \"datasets/housing/housing.tgz\""
   ]
  },
  {
   "cell_type": "code",
   "execution_count": 3,
   "metadata": {},
   "outputs": [],
   "source": [
    "# fetch data from api as tgz\n",
    "# extract it to local storage\n",
    "def fetch_housing_data(housing_url, housing_path):\n",
    "    os.makedirs(housing_path, exist_ok = True)\n",
    "    zipfile_path = housing_path + '/housing.tgz'\n",
    "    urllib.request.urlretrieve(housing_url, zipfile_path)\n",
    "    zipfile_ref = tarfile.open(zipfile_path)\n",
    "    zipfile_ref.extractall(path = housing_path)\n",
    "    zipfile_ref.close()"
   ]
  },
  {
   "cell_type": "code",
   "execution_count": 4,
   "metadata": {},
   "outputs": [],
   "source": [
    "fetch_housing_data(HOUSING_URL, HOUSING_PATH)"
   ]
  },
  {
   "cell_type": "code",
   "execution_count": 5,
   "metadata": {},
   "outputs": [],
   "source": [
    "import pandas as pd\n",
    "\n",
    "# load data from csv to pandas\n",
    "def load_housing_data(housing_path, housing_fn):\n",
    "    csv_path = os.path.join(housing_path, housing_fn)\n",
    "    return pd.read_csv(csv_path)"
   ]
  },
  {
   "cell_type": "code",
   "execution_count": 6,
   "metadata": {},
   "outputs": [],
   "source": [
    "housing_data = load_housing_data(HOUSING_PATH, 'housing.csv')"
   ]
  },
  {
   "cell_type": "code",
   "execution_count": 7,
   "metadata": {
    "scrolled": true
   },
   "outputs": [
    {
     "data": {
      "text/plain": [
       "longitude  latitude  housing_median_age  total_rooms  total_bedrooms  population  households  median_income  median_house_value  ocean_proximity\n",
       "-114.31    34.19     15.0                5612.0       1283.0          1015.0      472.0       1.4936         66900.0             INLAND             1\n",
       "-121.20    39.25     5.0                 906.0        144.0           376.0       141.0       4.3523         188200.0            INLAND             1\n",
       "           38.67     26.0                1546.0       287.0           773.0       299.0       2.9803         115400.0            INLAND             1\n",
       "           38.68     9.0                 2200.0       422.0           938.0       369.0       3.4896         143800.0            INLAND             1\n",
       "           38.69     26.0                3077.0       607.0           1603.0      595.0       2.7174         137500.0            INLAND             1\n",
       "                                                                                                                                                   ..\n",
       "-118.19    34.12     41.0                2591.0       682.0           2366.0      583.0       2.3071         146400.0            <1H OCEAN          1\n",
       "                     44.0                1219.0       324.0           1036.0      282.0       4.0417         170600.0            <1H OCEAN          1\n",
       "                     46.0                3387.0       820.0           2833.0      813.0       2.9870         176900.0            <1H OCEAN          1\n",
       "                     52.0                679.0        132.0           483.0       163.0       4.2344         162500.0            <1H OCEAN          1\n",
       "-124.35    40.54     52.0                1820.0       300.0           806.0       270.0       3.0147         94600.0             NEAR OCEAN         1\n",
       "Length: 20433, dtype: int64"
      ]
     },
     "execution_count": 7,
     "metadata": {},
     "output_type": "execute_result"
    }
   ],
   "source": [
    "housing_data.value_counts()"
   ]
  },
  {
   "cell_type": "code",
   "execution_count": 8,
   "metadata": {},
   "outputs": [
    {
     "data": {
      "text/html": [
       "<div>\n",
       "<style scoped>\n",
       "    .dataframe tbody tr th:only-of-type {\n",
       "        vertical-align: middle;\n",
       "    }\n",
       "\n",
       "    .dataframe tbody tr th {\n",
       "        vertical-align: top;\n",
       "    }\n",
       "\n",
       "    .dataframe thead th {\n",
       "        text-align: right;\n",
       "    }\n",
       "</style>\n",
       "<table border=\"1\" class=\"dataframe\">\n",
       "  <thead>\n",
       "    <tr style=\"text-align: right;\">\n",
       "      <th></th>\n",
       "      <th>longitude</th>\n",
       "      <th>latitude</th>\n",
       "      <th>housing_median_age</th>\n",
       "      <th>total_rooms</th>\n",
       "      <th>total_bedrooms</th>\n",
       "      <th>population</th>\n",
       "      <th>households</th>\n",
       "      <th>median_income</th>\n",
       "      <th>median_house_value</th>\n",
       "    </tr>\n",
       "  </thead>\n",
       "  <tbody>\n",
       "    <tr>\n",
       "      <th>count</th>\n",
       "      <td>20640.000000</td>\n",
       "      <td>20640.000000</td>\n",
       "      <td>20640.000000</td>\n",
       "      <td>20640.000000</td>\n",
       "      <td>20433.000000</td>\n",
       "      <td>20640.000000</td>\n",
       "      <td>20640.000000</td>\n",
       "      <td>20640.000000</td>\n",
       "      <td>20640.000000</td>\n",
       "    </tr>\n",
       "    <tr>\n",
       "      <th>mean</th>\n",
       "      <td>-119.569704</td>\n",
       "      <td>35.631861</td>\n",
       "      <td>28.639486</td>\n",
       "      <td>2635.763081</td>\n",
       "      <td>537.870553</td>\n",
       "      <td>1425.476744</td>\n",
       "      <td>499.539680</td>\n",
       "      <td>3.870671</td>\n",
       "      <td>206855.816909</td>\n",
       "    </tr>\n",
       "    <tr>\n",
       "      <th>std</th>\n",
       "      <td>2.003532</td>\n",
       "      <td>2.135952</td>\n",
       "      <td>12.585558</td>\n",
       "      <td>2181.615252</td>\n",
       "      <td>421.385070</td>\n",
       "      <td>1132.462122</td>\n",
       "      <td>382.329753</td>\n",
       "      <td>1.899822</td>\n",
       "      <td>115395.615874</td>\n",
       "    </tr>\n",
       "    <tr>\n",
       "      <th>min</th>\n",
       "      <td>-124.350000</td>\n",
       "      <td>32.540000</td>\n",
       "      <td>1.000000</td>\n",
       "      <td>2.000000</td>\n",
       "      <td>1.000000</td>\n",
       "      <td>3.000000</td>\n",
       "      <td>1.000000</td>\n",
       "      <td>0.499900</td>\n",
       "      <td>14999.000000</td>\n",
       "    </tr>\n",
       "    <tr>\n",
       "      <th>25%</th>\n",
       "      <td>-121.800000</td>\n",
       "      <td>33.930000</td>\n",
       "      <td>18.000000</td>\n",
       "      <td>1447.750000</td>\n",
       "      <td>296.000000</td>\n",
       "      <td>787.000000</td>\n",
       "      <td>280.000000</td>\n",
       "      <td>2.563400</td>\n",
       "      <td>119600.000000</td>\n",
       "    </tr>\n",
       "    <tr>\n",
       "      <th>50%</th>\n",
       "      <td>-118.490000</td>\n",
       "      <td>34.260000</td>\n",
       "      <td>29.000000</td>\n",
       "      <td>2127.000000</td>\n",
       "      <td>435.000000</td>\n",
       "      <td>1166.000000</td>\n",
       "      <td>409.000000</td>\n",
       "      <td>3.534800</td>\n",
       "      <td>179700.000000</td>\n",
       "    </tr>\n",
       "    <tr>\n",
       "      <th>75%</th>\n",
       "      <td>-118.010000</td>\n",
       "      <td>37.710000</td>\n",
       "      <td>37.000000</td>\n",
       "      <td>3148.000000</td>\n",
       "      <td>647.000000</td>\n",
       "      <td>1725.000000</td>\n",
       "      <td>605.000000</td>\n",
       "      <td>4.743250</td>\n",
       "      <td>264725.000000</td>\n",
       "    </tr>\n",
       "    <tr>\n",
       "      <th>max</th>\n",
       "      <td>-114.310000</td>\n",
       "      <td>41.950000</td>\n",
       "      <td>52.000000</td>\n",
       "      <td>39320.000000</td>\n",
       "      <td>6445.000000</td>\n",
       "      <td>35682.000000</td>\n",
       "      <td>6082.000000</td>\n",
       "      <td>15.000100</td>\n",
       "      <td>500001.000000</td>\n",
       "    </tr>\n",
       "  </tbody>\n",
       "</table>\n",
       "</div>"
      ],
      "text/plain": [
       "          longitude      latitude  housing_median_age   total_rooms  \\\n",
       "count  20640.000000  20640.000000        20640.000000  20640.000000   \n",
       "mean    -119.569704     35.631861           28.639486   2635.763081   \n",
       "std        2.003532      2.135952           12.585558   2181.615252   \n",
       "min     -124.350000     32.540000            1.000000      2.000000   \n",
       "25%     -121.800000     33.930000           18.000000   1447.750000   \n",
       "50%     -118.490000     34.260000           29.000000   2127.000000   \n",
       "75%     -118.010000     37.710000           37.000000   3148.000000   \n",
       "max     -114.310000     41.950000           52.000000  39320.000000   \n",
       "\n",
       "       total_bedrooms    population    households  median_income  \\\n",
       "count    20433.000000  20640.000000  20640.000000   20640.000000   \n",
       "mean       537.870553   1425.476744    499.539680       3.870671   \n",
       "std        421.385070   1132.462122    382.329753       1.899822   \n",
       "min          1.000000      3.000000      1.000000       0.499900   \n",
       "25%        296.000000    787.000000    280.000000       2.563400   \n",
       "50%        435.000000   1166.000000    409.000000       3.534800   \n",
       "75%        647.000000   1725.000000    605.000000       4.743250   \n",
       "max       6445.000000  35682.000000   6082.000000      15.000100   \n",
       "\n",
       "       median_house_value  \n",
       "count        20640.000000  \n",
       "mean        206855.816909  \n",
       "std         115395.615874  \n",
       "min          14999.000000  \n",
       "25%         119600.000000  \n",
       "50%         179700.000000  \n",
       "75%         264725.000000  \n",
       "max         500001.000000  "
      ]
     },
     "execution_count": 8,
     "metadata": {},
     "output_type": "execute_result"
    }
   ],
   "source": [
    "housing_data.describe()"
   ]
  },
  {
   "cell_type": "code",
   "execution_count": 9,
   "metadata": {},
   "outputs": [
    {
     "data": {
      "image/png": "[encoded data removed]",
      "text/plain": [
       "<Figure size 1440x1080 with 9 Axes>"
      ]
     },
     "metadata": {
      "needs_background": "light"
     },
     "output_type": "display_data"
    }
   ],
   "source": [
    "%matplotlib inline\n",
    "import matplotlib.pyplot as plt\n",
    "\n",
    "housing_data.hist(figsize=(20, 15), bins=50)\n",
    "plt.show()"
   ]
  },
  {
   "cell_type": "code",
   "execution_count": 10,
   "metadata": {},
   "outputs": [
    {
     "name": "stdout",
     "output_type": "stream",
     "text": [
      "(16512, 10)\n",
      "(4128, 10)\n",
      "first train data \n",
      "longitude               -118.19\n",
      "latitude                  33.99\n",
      "housing_median_age           36\n",
      "total_rooms                1273\n",
      "total_bedrooms              379\n",
      "population                 1398\n",
      "households                  353\n",
      "median_income            2.4516\n",
      "median_house_value       147800\n",
      "ocean_proximity       <1H OCEAN\n",
      "Name: 7310, dtype: object\n",
      "first test data \n",
      "longitude                -118.17\n",
      "latitude                   33.79\n",
      "housing_median_age            30\n",
      "total_rooms                 1349\n",
      "total_bedrooms               519\n",
      "population                  2646\n",
      "households                   552\n",
      "median_income             1.9318\n",
      "median_house_value        115900\n",
      "ocean_proximity       NEAR OCEAN\n",
      "Name: 8209, dtype: object\n"
     ]
    }
   ],
   "source": [
    "# first method to split train test set\n",
    "import numpy as np\n",
    "\n",
    "def train_test_split(data, test_ratio):\n",
    "    np.random.seed(43)\n",
    "    \n",
    "    len_data = len(data)\n",
    "    perm = np.random.permutation(len_data)\n",
    "    \n",
    "    return data.iloc[perm[:int(len_data*(1-test_ratio))]], data.iloc[perm[int(len_data*(1-test_ratio)):]]\n",
    "\n",
    "train_data, test_data = train_test_split(housing_data, 0.2)\n",
    "\n",
    "print(train_data.shape)\n",
    "print(test_data.shape)\n",
    "\n",
    "print(f'first train data \\n{train_data.iloc[0]}')\n",
    "print(f'first test data \\n{test_data.iloc[0]}')"
   ]
  },
  {
   "cell_type": "code",
   "execution_count": 11,
   "metadata": {},
   "outputs": [
    {
     "name": "stdout",
     "output_type": "stream",
     "text": [
      "(16512, 11)\n",
      "(4128, 11)\n",
      "first train data \n",
      "    index  longitude  latitude  housing_median_age  total_rooms  \\\n",
      "0       0    -122.23     37.88                41.0        880.0   \n",
      "1       1    -122.22     37.86                21.0       7099.0   \n",
      "3       3    -122.25     37.85                52.0       1274.0   \n",
      "4       4    -122.25     37.85                52.0       1627.0   \n",
      "6       6    -122.25     37.84                52.0       2535.0   \n",
      "7       7    -122.25     37.84                52.0       3104.0   \n",
      "8       8    -122.26     37.84                42.0       2555.0   \n",
      "9       9    -122.25     37.84                52.0       3549.0   \n",
      "10     10    -122.26     37.85                52.0       2202.0   \n",
      "11     11    -122.26     37.85                52.0       3503.0   \n",
      "\n",
      "    total_bedrooms  population  households  median_income  median_house_value  \\\n",
      "0            129.0       322.0       126.0         8.3252            452600.0   \n",
      "1           1106.0      2401.0      1138.0         8.3014            358500.0   \n",
      "3            235.0       558.0       219.0         5.6431            341300.0   \n",
      "4            280.0       565.0       259.0         3.8462            342200.0   \n",
      "6            489.0      1094.0       514.0         3.6591            299200.0   \n",
      "7            687.0      1157.0       647.0         3.1200            241400.0   \n",
      "8            665.0      1206.0       595.0         2.0804            226700.0   \n",
      "9            707.0      1551.0       714.0         3.6912            261100.0   \n",
      "10           434.0       910.0       402.0         3.2031            281500.0   \n",
      "11           752.0      1504.0       734.0         3.2705            241800.0   \n",
      "\n",
      "   ocean_proximity  \n",
      "0         NEAR BAY  \n",
      "1         NEAR BAY  \n",
      "3         NEAR BAY  \n",
      "4         NEAR BAY  \n",
      "6         NEAR BAY  \n",
      "7         NEAR BAY  \n",
      "8         NEAR BAY  \n",
      "9         NEAR BAY  \n",
      "10        NEAR BAY  \n",
      "11        NEAR BAY  \n",
      "first test data \n",
      "    index  longitude  latitude  housing_median_age  total_rooms  \\\n",
      "2       2    -122.24     37.85                52.0       1467.0   \n",
      "5       5    -122.25     37.85                52.0        919.0   \n",
      "12     12    -122.26     37.85                52.0       2491.0   \n",
      "16     16    -122.27     37.85                52.0       1966.0   \n",
      "23     23    -122.27     37.84                52.0       1688.0   \n",
      "25     25    -122.28     37.85                41.0        535.0   \n",
      "30     30    -122.28     37.84                49.0       1916.0   \n",
      "35     35    -122.27     37.83                49.0       1215.0   \n",
      "36     36    -122.27     37.83                48.0       1798.0   \n",
      "42     42    -122.26     37.84                49.0        713.0   \n",
      "\n",
      "    total_bedrooms  population  households  median_income  median_house_value  \\\n",
      "2            190.0       496.0       177.0         7.2574            352100.0   \n",
      "5            213.0       413.0       193.0         4.0368            269700.0   \n",
      "12           474.0      1098.0       468.0         3.0750            213500.0   \n",
      "16           347.0       793.0       331.0         2.7750            152500.0   \n",
      "23           337.0       853.0       325.0         2.1806             99700.0   \n",
      "25           123.0       317.0       119.0         2.4038            107500.0   \n",
      "30           447.0       863.0       378.0         1.9274            122300.0   \n",
      "35           282.0       570.0       264.0         1.4861             97200.0   \n",
      "36           432.0       987.0       374.0         1.0972            104500.0   \n",
      "42           202.0       462.0       189.0         1.0250            118800.0   \n",
      "\n",
      "   ocean_proximity  \n",
      "2         NEAR BAY  \n",
      "5         NEAR BAY  \n",
      "12        NEAR BAY  \n",
      "16        NEAR BAY  \n",
      "23        NEAR BAY  \n",
      "25        NEAR BAY  \n",
      "30        NEAR BAY  \n",
      "35        NEAR BAY  \n",
      "36        NEAR BAY  \n",
      "42        NEAR BAY  \n"
     ]
    }
   ],
   "source": [
    "# test method to split train test set\n",
    "from zlib import crc32\n",
    "\n",
    "def test_set_check(identifier, test_ratio):\n",
    "    return crc32(np.int64(identifier))&0xffffffff < test_ratio * 2**32\n",
    "\n",
    "def split_train_test_by_id(data, test_ratio, id_column):\n",
    "    ids = data[id_column]\n",
    "    in_test_set = ids.apply(lambda id_:test_set_check(id_, test_ratio))\n",
    "    return data.loc[~in_test_set], data.loc[in_test_set]\n",
    "\n",
    "housing_with_id = housing_data.reset_index()\n",
    "train_set, test_set = split_train_test_by_id(housing_with_id, 0.2, 'index')\n",
    "\n",
    "print(train_set.shape)\n",
    "print(test_set.shape)\n",
    "\n",
    "print(f'first train data \\n{train_set.iloc[0:10]}')\n",
    "print(f'first test data \\n{test_set.iloc[0:10]}')"
   ]
  },
  {
   "cell_type": "code",
   "execution_count": 12,
   "metadata": {},
   "outputs": [
    {
     "name": "stdout",
     "output_type": "stream",
     "text": [
      "(16512, 11)\n",
      "(4128, 11)\n",
      "first train data \n",
      "index                       72\n",
      "longitude              -122.29\n",
      "latitude                 37.81\n",
      "housing_median_age          49\n",
      "total_rooms                844\n",
      "total_bedrooms             204\n",
      "population                 560\n",
      "households                 152\n",
      "median_income             1.75\n",
      "median_house_value       75000\n",
      "ocean_proximity       NEAR BAY\n",
      "Name: 72, dtype: object\n",
      "first test data \n",
      "index                      7310\n",
      "longitude               -118.19\n",
      "latitude                  33.99\n",
      "housing_median_age           36\n",
      "total_rooms                1273\n",
      "total_bedrooms              379\n",
      "population                 1398\n",
      "households                  353\n",
      "median_income            2.4516\n",
      "median_house_value       147800\n",
      "ocean_proximity       <1H OCEAN\n",
      "Name: 7310, dtype: object\n"
     ]
    }
   ],
   "source": [
    "# third method for split train test set\n",
    "from sklearn.model_selection import train_test_split\n",
    "\n",
    "train_set, test_set = train_test_split(\n",
    "    housing_with_id, \n",
    "    test_size = 0.2,\n",
    "    random_state = 43)\n",
    "\n",
    "print(train_set.shape)\n",
    "print(test_set.shape)\n",
    "\n",
    "print(f'first train data \\n{train_set.iloc[0]}')\n",
    "print(f'first test data \\n{test_set.iloc[0]}')"
   ]
  },
  {
   "cell_type": "code",
   "execution_count": 13,
   "metadata": {},
   "outputs": [],
   "source": [
    "housing_data['income_cat'] = pd.cut(\n",
    "    housing_data['median_income'],\n",
    "    bins=[0., 1.5, 3.0, 4.5, 6., np.inf],\n",
    "    labels=[1,2,3,4,5]\n",
    ")"
   ]
  },
  {
   "cell_type": "code",
   "execution_count": 14,
   "metadata": {},
   "outputs": [
    {
     "data": {
      "image/png": "[encoded data removed]",
      "text/plain": [
       "<Figure size 432x288 with 1 Axes>"
      ]
     },
     "metadata": {
      "needs_background": "light"
     },
     "output_type": "display_data"
    }
   ],
   "source": [
    "housing_data['income_cat'].hist()\n",
    "plt.show()"
   ]
  },
  {
   "cell_type": "code",
   "execution_count": 15,
   "metadata": {},
   "outputs": [
    {
     "name": "stdout",
     "output_type": "stream",
     "text": [
      "3    0.350581\n",
      "2    0.318847\n",
      "4    0.176308\n",
      "5    0.114438\n",
      "1    0.039826\n",
      "Name: income_cat, dtype: float64\n"
     ]
    }
   ],
   "source": [
    "print(housing_data['income_cat'].value_counts()/len(housing_data))"
   ]
  },
  {
   "cell_type": "code",
   "execution_count": 16,
   "metadata": {},
   "outputs": [],
   "source": [
    "from sklearn.model_selection import StratifiedShuffleSplit"
   ]
  },
  {
   "cell_type": "code",
   "execution_count": 17,
   "metadata": {},
   "outputs": [],
   "source": [
    "splitted = StratifiedShuffleSplit(n_splits = 1, test_size = 0.2, random_state = 42)"
   ]
  },
  {
   "cell_type": "code",
   "execution_count": 18,
   "metadata": {},
   "outputs": [],
   "source": [
    "for train_index, test_index in splitted.split(housing_data, housing_data['income_cat']):\n",
    "#     print(train_index)\n",
    "    stra_train = housing_data.iloc[train_index]\n",
    "    stra_test = housing_data.iloc[test_index]"
   ]
  },
  {
   "cell_type": "code",
   "execution_count": 19,
   "metadata": {},
   "outputs": [
    {
     "data": {
      "text/plain": [
       "3    0.350594\n",
       "2    0.318859\n",
       "4    0.176296\n",
       "5    0.114402\n",
       "1    0.039850\n",
       "Name: income_cat, dtype: float64"
      ]
     },
     "execution_count": 19,
     "metadata": {},
     "output_type": "execute_result"
    }
   ],
   "source": [
    "# stra distribution\n",
    "stra_train['income_cat'].value_counts()/len(stra_train)"
   ]
  },
  {
   "cell_type": "code",
   "execution_count": 20,
   "metadata": {},
   "outputs": [
    {
     "data": {
      "text/plain": [
       "3    0.350581\n",
       "2    0.318847\n",
       "4    0.176308\n",
       "5    0.114438\n",
       "1    0.039826\n",
       "Name: income_cat, dtype: float64"
      ]
     },
     "execution_count": 20,
     "metadata": {},
     "output_type": "execute_result"
    }
   ],
   "source": [
    "# orig distribution\n",
    "housing_data['income_cat'].value_counts()/len(housing_data)"
   ]
  },
  {
   "cell_type": "code",
   "execution_count": 21,
   "metadata": {},
   "outputs": [],
   "source": [
    "train_set, test_set = train_test_split(\n",
    "    housing_data, \n",
    "    test_size = 0.2,\n",
    "    random_state = 43)"
   ]
  },
  {
   "cell_type": "code",
   "execution_count": 23,
   "metadata": {},
   "outputs": [
    {
     "data": {
      "text/plain": [
       "3    0.351381\n",
       "2    0.319828\n",
       "4    0.175630\n",
       "5    0.113372\n",
       "1    0.039789\n",
       "Name: income_cat, dtype: float64"
      ]
     },
     "execution_count": 23,
     "metadata": {},
     "output_type": "execute_result"
    }
   ],
   "source": [
    "# split with out strat distribution\n",
    "train_set['income_cat'].value_counts()/len(train_set)"
   ]
  },
  {
   "cell_type": "markdown",
   "metadata": {},
   "source": [
    "## There is no significant the distribution of strat and normal random"
   ]
  },
  {
   "cell_type": "code",
   "execution_count": 26,
   "metadata": {},
   "outputs": [
    {
     "data": {
      "text/plain": [
       "<AxesSubplot:xlabel='latitude', ylabel='longitude'>"
      ]
     },
     "execution_count": 26,
     "metadata": {},
     "output_type": "execute_result"
    },
    {
     "data": {
      "image/png": "[encoded data removed]",
      "text/plain": [
       "<Figure size 432x288 with 1 Axes>"
      ]
     },
     "metadata": {
      "needs_background": "light"
     },
     "output_type": "display_data"
    }
   ],
   "source": [
    "train_set.plot(kind='scatter', x='latitude', y = 'longitude', alpha = 0.1)"
   ]
  },
  {
   "cell_type": "code",
   "execution_count": null,
   "metadata": {},
   "outputs": [],
   "source": []
  }
 ],
 "metadata": {
  "kernelspec": {
   "display_name": "Python 3",
   "language": "python",
   "name": "python3"
  },
  "language_info": {
   "codemirror_mode": {
    "name": "ipython",
    "version": 3
   },
   "file_extension": ".py",
   "mimetype": "text/x-python",
   "name": "python",
   "nbconvert_exporter": "python",
   "pygments_lexer": "ipython3",
   "version": "3.8.5"
  }
 },
 "nbformat": 4,
 "nbformat_minor": 4
}
