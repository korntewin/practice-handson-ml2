{
 "cells": [
  {
   "cell_type": "code",
   "execution_count": 1,
   "metadata": {},
   "outputs": [],
   "source": [
    "from sklearn.datasets import fetch_openml"
   ]
  },
  {
   "cell_type": "markdown",
   "metadata": {},
   "source": [
    "## Load mnist data and let observe it for a bit"
   ]
  },
  {
   "cell_type": "code",
   "execution_count": 2,
   "metadata": {},
   "outputs": [],
   "source": [
    "mnist = fetch_openml('mnist_784', version=1)"
   ]
  },
  {
   "cell_type": "code",
   "execution_count": 3,
   "metadata": {
    "tags": []
   },
   "outputs": [
    {
     "name": "stdout",
     "output_type": "stream",
     "text": [
      "dict_keys(['data', 'target', 'frame', 'categories', 'feature_names', 'target_names', 'DESCR', 'details', 'url'])\n"
     ]
    }
   ],
   "source": [
    "print(mnist.keys())"
   ]
  },
  {
   "cell_type": "code",
   "execution_count": 4,
   "metadata": {
    "tags": []
   },
   "outputs": [
    {
     "name": "stdout",
     "output_type": "stream",
     "text": [
      "input shape (70000, 784)\n",
      "label shape (70000,)\n",
      "type input : <class 'numpy.ndarray'>\n",
      "type input : <class 'str'>\n"
     ]
    }
   ],
   "source": [
    "print(f'input shape {mnist[\"data\"].shape}')\n",
    "print(f'label shape {mnist[\"target\"].shape}')\n",
    "\n",
    "print(f'type input : {type(mnist[\"data\"][0])}')\n",
    "print(f'type input : {type(mnist[\"target\"][0])}')\n",
    "\n",
    "# convert mnist target to int\n",
    "mnist_label = mnist['target'].astype('int')"
   ]
  },
  {
   "cell_type": "code",
   "execution_count": 5,
   "metadata": {},
   "outputs": [],
   "source": [
    "X_train, X_test = mnist['data'][:60000], mnist['data'][60000:]\n",
    "y_train, y_test = mnist_label[:60000], mnist_label[60000:]"
   ]
  },
  {
   "cell_type": "code",
   "execution_count": 6,
   "metadata": {
    "tags": []
   },
   "outputs": [],
   "source": [
    "import matplotlib.pyplot as plt\n",
    "import matplotlib.image as mpimg \n",
    "import random"
   ]
  },
  {
   "cell_type": "code",
   "execution_count": 7,
   "metadata": {
    "tags": []
   },
   "outputs": [
    {
     "data": {
      "image/png": "[encoded data removed]",
      "text/plain": [
       "<Figure size 432x288 with 10 Axes>"
      ]
     },
     "metadata": {
      "needs_background": "light"
     },
     "output_type": "display_data"
    }
   ],
   "source": [
    "# explore some input\n",
    "\n",
    "num_show = 10\n",
    "\n",
    "for i in range(10):\n",
    "    idx = random.randint(0, mnist['data'].shape[1]-1)\n",
    "    plt.subplot(2, 5, i+1)\n",
    "    img = mnist['data'][idx].reshape(28, 28)\n",
    "    plt.imshow(img)\n",
    "    plt.axis('Off')"
   ]
  },
  {
   "cell_type": "markdown",
   "metadata": {
    "tags": []
   },
   "source": [
    "## Begin using ml to predict the mnist dataset\n",
    "* Note that at the first step we just at least need to classify only 2 class, 9 or not 9  \n",
    "* Then, comparing the performance index using accuracy, precision, recall, and f1 score  \n",
    "* Try plotting recall/precision versus threshold curve to obeserve the impact of choosing threshold value  \n",
    "* Finally, choosing the appropriate threshold such that the model have precision at least 90% at the best possible recall\n"
   ]
  },
  {
   "cell_type": "code",
   "execution_count": 8,
   "metadata": {},
   "outputs": [],
   "source": [
    "from sklearn.linear_model import SGDClassifier"
   ]
  },
  {
   "cell_type": "markdown",
   "metadata": {},
   "source": [
    "# we will use sgdclassifier which is SVM by default\n",
    "sgd_clf = SGDClassifier()\n",
    "sgd_clf.fit(X_train, y_train)"
   ]
  },
  {
   "cell_type": "markdown",
   "metadata": {
    "tags": []
   },
   "source": [
    "import joblib\n",
    "import pickle\n",
    "import time\n",
    "import os\n",
    "\n",
    "os.makedirs('saved_model/mnist-classification', exist_ok=True)\n",
    "\n",
    "# test dump time\n",
    "# st = time.time()\n",
    "# joblib.dump(sgd_clf, 'saved_model/multiclasssvm-model-joblib')\n",
    "# print(f'elapsed time {time.time() - st }')\n",
    "\n",
    "\n",
    "st = time.time()\n",
    "with open('saved_model/multiclass-svm-model', 'wb') as f:\n",
    "\n",
    "    pickle.dump(sgd_clf, f)\n",
    "\n",
    "print(f'elapsed time {time.time() - st }')"
   ]
  },
  {
   "cell_type": "code",
   "execution_count": 45,
   "metadata": {
    "tags": []
   },
   "outputs": [
    {
     "name": "stdout",
     "output_type": "stream",
     "text": [
      "elapsed time 0.001390218734741211\n"
     ]
    }
   ],
   "source": [
    "import time\n",
    "import pickle\n",
    "import numpy as np\n",
    "import os\n",
    "# test load time\n",
    "# st = time.time()\n",
    "# load_moedl = joblib.load('saved_model/svm-model-joblib')\n",
    "# print(f'elapsed time {time.time() - st }')\n",
    "SAVED_MODEL_ROOT = './saved_model/mnist-classification'\n",
    "\n",
    "st = time.time()\n",
    "with open('saved_model/mnist-classification/svm-model-pickle', 'rb') as f:\n",
    "    sgd_clf = pickle.load(f)\n",
    "\n",
    "print(f'elapsed time {time.time() - st }')"
   ]
  },
  {
   "cell_type": "code",
   "execution_count": 12,
   "metadata": {
    "tags": []
   },
   "outputs": [
    {
     "name": "stdout",
     "output_type": "stream",
     "text": [
      "0.8608166666666667\n",
      "0.846\n"
     ]
    }
   ],
   "source": [
    "print(sgd_clf.score(X_train, y_train))\n",
    "print(sgd_clf.score(X_test[0], y_test))"
   ]
  },
  {
   "cell_type": "code",
   "execution_count": 18,
   "metadata": {},
   "outputs": [
    {
     "data": {
      "text/plain": [
       "array([-22987.33265649, -48770.87111544,  -9344.16637963,  -1918.6059087 ,\n",
       "       -34380.59181952,  -8339.20909417, -29777.36893014,  10668.92884763,\n",
       "        -3486.80968706,  -4655.76574083])"
      ]
     },
     "execution_count": 18,
     "metadata": {},
     "output_type": "execute_result"
    }
   ],
   "source": [
    "sgd_clf.coef_"
   ]
  },
  {
   "cell_type": "code",
   "execution_count": 23,
   "metadata": {},
   "outputs": [
    {
     "data": {
      "text/plain": [
       "array([7])"
      ]
     },
     "execution_count": 23,
     "metadata": {},
     "output_type": "execute_result"
    }
   ],
   "source": [
    "sgd_clf.predict(np.expand_dims(X_test[0], axis=0))"
   ]
  },
  {
   "cell_type": "markdown",
   "metadata": {},
   "source": [
    "## Train only on 9 and not 9 classification"
   ]
  },
  {
   "cell_type": "code",
   "execution_count": 28,
   "metadata": {},
   "outputs": [
    {
     "name": "stdout",
     "output_type": "stream",
     "text": [
      "True\n"
     ]
    }
   ],
   "source": [
    "y_train_9 = (y_train == 9)\n",
    "y_test_9 = (y_test == 9)\n",
    "\n",
    "print(y_train_9.any())"
   ]
  },
  {
   "cell_type": "markdown",
   "metadata": {},
   "source": [
    "## train on the model that classify 9 and not 9 prediction\n",
    "sgd_clf_nine = SGDClassifier()\n",
    "sgd_clf_nine.fit(X_train, y_train_9)"
   ]
  },
  {
   "cell_type": "markdown",
   "metadata": {},
   "source": [
    "## Save the model\n",
    "\n",
    "model_name = 'svm-pred-9'\n",
    "model_path = os.path.join(SAVED_MODEL_ROOT, model_name)\n",
    "\n",
    "with open('./saved_model/mnist-classification/svm-pred-9', 'wb') as f:\n",
    "    pickle.dump(sgd_clf_nine, f)"
   ]
  },
  {
   "cell_type": "code",
   "execution_count": 51,
   "metadata": {},
   "outputs": [],
   "source": [
    "## load the model\n",
    "model_name = 'svm-pred-9'\n",
    "model_path = os.path.join(SAVED_MODEL_ROOT , model_name)\n",
    "\n",
    "with open(model_path, 'rb') as f:\n",
    "    sgd_clf_9 = pickle.load(f)"
   ]
  },
  {
   "cell_type": "code",
   "execution_count": 49,
   "metadata": {},
   "outputs": [],
   "source": [
    "## use another metrics to evaluate performance\n",
    "from sklearn.metrics import precision_score, recall_score, f1_score, confusion_matrix"
   ]
  },
  {
   "cell_type": "code",
   "execution_count": 52,
   "metadata": {},
   "outputs": [],
   "source": [
    "## but first, we will predict the train set using cross validate\n",
    "from sklearn.model_selection import StratifiedKFold\n",
    "from sklearn.base import clone"
   ]
  },
  {
   "cell_type": "code",
   "execution_count": 53,
   "metadata": {},
   "outputs": [
    {
     "name": "stdout",
     "output_type": "stream",
     "text": [
      "precision 0.7568922305764411 recall 0.6091780131114473\n",
      "precision 0.8745762711864407 recall 0.26021180030257185\n",
      "precision 0.6565373850459816 recall 0.8280383257690368\n"
     ]
    }
   ],
   "source": [
    "## equivalent to cross_validation_score\n",
    "\n",
    "skf = StratifiedKFold(n_splits = 3)\n",
    "\n",
    "for train_idx, test_idx in skf.split(X_train, y_train_9):\n",
    "    clone_clf = clone(sgd_clf_9)\n",
    "    clone_clf.fit(X_train[train_idx], y_train_9[train_idx])\n",
    "    \n",
    "    test_pred = clone_clf.predict(X_train[test_idx])\n",
    "    precision = precision_score(y_train_9[test_idx], test_pred)\n",
    "    recall = recall_score(y_train_9[test_idx], test_pred)\n",
    "    \n",
    "    print(f'precision {precision} recall {recall}')"
   ]
  },
  {
   "cell_type": "code",
   "execution_count": 55,
   "metadata": {},
   "outputs": [],
   "source": [
    "## out of the box cv_score\n",
    "from sklearn.model_selection import cross_val_score\n",
    "\n",
    "history = cross_val_score(sgd_clf_9, X_train, y_train_9)"
   ]
  },
  {
   "cell_type": "code",
   "execution_count": 63,
   "metadata": {},
   "outputs": [],
   "source": [
    "## create custom estimator that always classify as 9\n",
    "from sklearn.base import BaseEstimator\n",
    "\n",
    "class NeverNine(BaseEstimator):\n",
    "    def fit(self, X, y):\n",
    "        return self\n",
    "    \n",
    "    def predict(self, X):\n",
    "        num_sample = X.shape[0]\n",
    "        \n",
    "        return np.zeros((num_sample,))"
   ]
  },
  {
   "cell_type": "code",
   "execution_count": 67,
   "metadata": {},
   "outputs": [],
   "source": [
    "neverNine = NeverNine()\n",
    "\n",
    "history_neverNine = cross_val_score(neverNine, X_train, y_train_9, cv = 3, scoring = 'accuracy')"
   ]
  },
  {
   "cell_type": "code",
   "execution_count": 69,
   "metadata": {},
   "outputs": [
    {
     "name": "stdout",
     "output_type": "stream",
     "text": [
      "[0.8993  0.8999  0.90335]\n"
     ]
    }
   ],
   "source": [
    "print(history_alwaysNine)"
   ]
  },
  {
   "cell_type": "markdown",
   "metadata": {},
   "source": [
    "**Note that, the model that only predict not 9 have the accuracy of 90%**  \n",
    "So, it is clear that this model doesn't help at all if we only use the accuracy and performance index  \n",
    "Next step, we will plotting the precision and recall versus threshold value to observe its characteristics."
   ]
  },
  {
   "cell_type": "code",
   "execution_count": 102,
   "metadata": {},
   "outputs": [],
   "source": [
    "from sklearn.model_selection import cross_val_predict\n",
    "\n",
    "y_score_cv = cross_val_predict(sgd_clf_9, X_train, y_train_9, method = 'decision_function')\n",
    "# y_score_cv = y_train_cv"
   ]
  },
  {
   "cell_type": "code",
   "execution_count": 75,
   "metadata": {},
   "outputs": [],
   "source": [
    "from sklearn.metrics import precision_recall_curve"
   ]
  },
  {
   "cell_type": "code",
   "execution_count": 77,
   "metadata": {},
   "outputs": [],
   "source": [
    "precision, recall, thresholds = precision_recall_curve(y_train_9, y_score_cv)"
   ]
  },
  {
   "cell_type": "code",
   "execution_count": 82,
   "metadata": {},
   "outputs": [
    {
     "name": "stdout",
     "output_type": "stream",
     "text": [
      "(59177,)\n",
      "(59178,)\n",
      "(59178,)\n"
     ]
    },
    {
     "data": {
      "text/plain": [
       "<matplotlib.legend.Legend at 0x11ead7760>"
      ]
     },
     "execution_count": 82,
     "metadata": {},
     "output_type": "execute_result"
    },
    {
     "data": {
      "image/png": "[encoded data removed]",
      "text/plain": [
       "<Figure size 432x288 with 1 Axes>"
      ]
     },
     "metadata": {
      "needs_background": "light"
     },
     "output_type": "display_data"
    }
   ],
   "source": [
    "print(thresholds.shape)\n",
    "print(precision.shape)\n",
    "print(recall.shape)\n",
    "plt.plot(thresholds, precision[:-1])\n",
    "plt.plot(thresholds, recall[:-1])\n",
    "plt.grid('On')\n",
    "plt.legend(['precision', 'recall'])"
   ]
  },
  {
   "cell_type": "markdown",
   "metadata": {},
   "source": [
    "From the above figure, we can cleary see the trade off between precision and recall.  \n",
    "Precision will be higher if the model predict as positive when it is strongly confident.  \n",
    "But note that if the model is strongly confident, it may let the positive sample that it doesn't have much confident pass through.  \n",
    "**Next step, we will choose an appropriate threshold of the model such that it has precisions at least 90%**"
   ]
  },
  {
   "cell_type": "code",
   "execution_count": 93,
   "metadata": {},
   "outputs": [],
   "source": [
    "selected_thres = thresholds[np.argmax(precision >= 0.9)]"
   ]
  },
  {
   "cell_type": "code",
   "execution_count": 94,
   "metadata": {},
   "outputs": [
    {
     "name": "stdout",
     "output_type": "stream",
     "text": [
      "7488.9512656140305\n"
     ]
    }
   ],
   "source": [
    "print(selected_thres)"
   ]
  },
  {
   "cell_type": "code",
   "execution_count": 103,
   "metadata": {},
   "outputs": [
    {
     "name": "stdout",
     "output_type": "stream",
     "text": [
      "precision 0.9\n",
      "recall 0.10287443267776097\n"
     ]
    }
   ],
   "source": [
    "desired_p = precision_score(y_train_9, y_score_cv >= selected_thres)\n",
    "desired_r = recall_score(y_train_9, y_score_cv >= selected_thres)\n",
    "\n",
    "print(f'precision {desired_p}')\n",
    "print(f'recall {desired_r}')"
   ]
  },
  {
   "cell_type": "code",
   "execution_count": 98,
   "metadata": {},
   "outputs": [
    {
     "data": {
      "text/plain": [
       "[<matplotlib.lines.Line2D at 0x11ec94d30>]"
      ]
     },
     "execution_count": 98,
     "metadata": {},
     "output_type": "execute_result"
    },
    {
     "data": {
      "image/png": "[encoded data removed]",
      "text/plain": [
       "<Figure size 432x288 with 1 Axes>"
      ]
     },
     "metadata": {
      "needs_background": "light"
     },
     "output_type": "display_data"
    }
   ],
   "source": [
    "# plotting precision vs recall\n",
    "plt.plot(precision, recall)"
   ]
  },
  {
   "cell_type": "code",
   "execution_count": 104,
   "metadata": {},
   "outputs": [
    {
     "data": {
      "text/plain": [
       "array([[53983,    68],\n",
       "       [ 5337,   612]])"
      ]
     },
     "execution_count": 104,
     "metadata": {},
     "output_type": "execute_result"
    }
   ],
   "source": [
    "# confusion matrix\n",
    "confusion_matrix(y_train_9, y_score_cv >= selected_thres)"
   ]
  },
  {
   "cell_type": "markdown",
   "metadata": {},
   "source": [
    "## Now we will explore on ROC curve and RandomForestClassifier"
   ]
  },
  {
   "cell_type": "code",
   "execution_count": 101,
   "metadata": {},
   "outputs": [],
   "source": [
    "from sklearn.metrics import roc_curve, roc_auc_score\n",
    "from sklearn.ensemble import RandomForestClassifier, AdaBoostClassifier"
   ]
  },
  {
   "cell_type": "code",
   "execution_count": 154,
   "metadata": {},
   "outputs": [],
   "source": [
    "def plot_roc(y_train_9, y_score):\n",
    "\n",
    "    fpr, tpr, thresholds = roc_curve(y_train_9, y_score)\n",
    "\n",
    "    plt.plot(fpr, tpr)\n",
    "    plt.plot(fpr, fpr, alpha = 0.5)\n",
    "    plt.xlim([0,1])\n",
    "    plt.ylim([0,1])\n",
    "    auc_score = roc_auc_score(y_train_9, y_score)\n",
    "    plt.xlabel(f'AUC score {auc_score:.5f}')"
   ]
  },
  {
   "cell_type": "code",
   "execution_count": 155,
   "metadata": {},
   "outputs": [
    {
     "data": {
      "image/png": "[encoded data removed]",
      "text/plain": [
       "<Figure size 432x288 with 1 Axes>"
      ]
     },
     "metadata": {
      "needs_background": "light"
     },
     "output_type": "display_data"
    }
   ],
   "source": [
    "plot_roc(y_train_9, y_score_cv)"
   ]
  },
  {
   "cell_type": "markdown",
   "metadata": {},
   "source": [
    "## We will try on Randomforest and adaboost\n",
    "random_forest = RandomForestClassifier()\n",
    "ada_tree = AdaBoostClassifier()\n",
    "\n",
    "pred_prob_random_forest = cross_val_predict(random_forest, X_train, y_train_9, cv = 3, method='predict_proba')\n",
    "pred_prob_ada = cross_val_predict(ada_tree, X_train, y_train_9, cv = 3, method='predict_proba')"
   ]
  },
  {
   "cell_type": "code",
   "execution_count": 156,
   "metadata": {},
   "outputs": [],
   "source": [
    "# save random forest pred_proba and its model\n",
    "pack_name = 'random-forest-and-pred-proba'\n",
    "pack_path = os.path.join(SAVED_MODEL_ROOT, pack_name)\n",
    "\n",
    "with open(pack_path, 'wb') as f:\n",
    "    serialize_obj = pickle.dumps((random_forest, pred_prob_random_forest))\n",
    "    f.write(serialize_obj)\n",
    "\n",
    "# save adaboost\n",
    "pack_name = 'adaboost-and-pred-proba'\n",
    "pack_path = os.path.join(SAVED_MODEL_ROOT, pack_name)\n",
    "\n",
    "with open(pack_path, 'wb') as f:\n",
    "    serialize_obj = pickle.dumps((ada_tree, pred_prob_ada))\n",
    "    f.write(serialize_obj)"
   ]
  },
  {
   "cell_type": "code",
   "execution_count": 157,
   "metadata": {},
   "outputs": [
    {
     "data": {
      "image/png": "[encoded data removed]",
      "text/plain": [
       "<Figure size 432x288 with 1 Axes>"
      ]
     },
     "metadata": {
      "needs_background": "light"
     },
     "output_type": "display_data"
    },
    {
     "name": "stdout",
     "output_type": "stream",
     "text": [
      "0.981324945940633\n",
      "0.8391326273323247\n"
     ]
    },
    {
     "data": {
      "text/plain": [
       "[<matplotlib.lines.Line2D at 0x121e872e0>]"
      ]
     },
     "execution_count": 157,
     "metadata": {},
     "output_type": "execute_result"
    },
    {
     "data": {
      "image/png": "[encoded data removed]",
      "text/plain": [
       "<Figure size 432x288 with 1 Axes>"
      ]
     },
     "metadata": {
      "needs_background": "light"
     },
     "output_type": "display_data"
    }
   ],
   "source": [
    "plot_roc(y_train_9, 1-pred_prob_random_forest[:, 0])\n",
    "plt.title('Random Forest')\n",
    "plt.show()\n",
    "\n",
    "precision_sc = precision_score(y_train_9, np.argmax(pred_prob_random_forest, axis = 1))\n",
    "recall_sc = recall_score(y_train_9, np.argmax(pred_prob_random_forest, axis = 1))\n",
    "print(f'{precision_sc}')\n",
    "print(f'{recall_sc}')\n",
    "\n",
    "precisions, recalls, thresholds = precision_recall_curve(y_train_9, 1-pred_prob_random_forest[:, 0])\n",
    "plt.plot(thresholds, precisions[:-1])\n",
    "plt.plot(thresholds, recalls[:-1])"
   ]
  },
  {
   "cell_type": "code",
   "execution_count": 158,
   "metadata": {},
   "outputs": [
    {
     "data": {
      "image/png": "[encoded data removed]",
      "text/plain": [
       "<Figure size 432x288 with 1 Axes>"
      ]
     },
     "metadata": {
      "needs_background": "light"
     },
     "output_type": "display_data"
    },
    {
     "name": "stdout",
     "output_type": "stream",
     "text": [
      "0.8053655023406554\n",
      "0.7518910741301059\n"
     ]
    },
    {
     "data": {
      "text/plain": [
       "[<matplotlib.lines.Line2D at 0x121f2d790>]"
      ]
     },
     "execution_count": 158,
     "metadata": {},
     "output_type": "execute_result"
    },
    {
     "data": {
      "image/png": "[encoded data removed]",
      "text/plain": [
       "<Figure size 432x288 with 1 Axes>"
      ]
     },
     "metadata": {
      "needs_background": "light"
     },
     "output_type": "display_data"
    }
   ],
   "source": [
    "plot_roc(y_train_9, 1-pred_prob_ada[:, 0])\n",
    "plt.title('Adaboost tree')\n",
    "plt.show()\n",
    "\n",
    "precision_sc = precision_score(y_train_9, np.argmax(pred_prob_ada, axis = 1))\n",
    "recall_sc = recall_score(y_train_9, np.argmax(pred_prob_ada, axis = 1))\n",
    "print(f'{precision_sc}')\n",
    "print(f'{recall_sc}')\n",
    "\n",
    "precisions, recalls, thresholds = precision_recall_curve(y_train_9, 1-pred_prob_ada[:, 0])\n",
    "plt.plot(thresholds, precisions[:-1])\n",
    "plt.plot(thresholds, recalls[:-1])"
   ]
  },
  {
   "cell_type": "markdown",
   "metadata": {},
   "source": [
    "## It's time to play with multiclassification!"
   ]
  },
  {
   "cell_type": "code",
   "execution_count": 174,
   "metadata": {},
   "outputs": [],
   "source": [
    "# one vs one\n",
    "from sklearn.svm import SVC\n",
    "from sklearn.ensemble import RandomForestClassifier\n",
    "from sklearn.multiclass import OneVsOneClassifier, OneVsRestClassifier\n",
    "from sklearn.neighbors import KNeighborsClassifier"
   ]
  },
  {
   "cell_type": "code",
   "execution_count": 161,
   "metadata": {},
   "outputs": [],
   "source": [
    "# SVC using one vs rest classifier\n",
    "\n",
    "model_name = 'multiclass-svm-model'\n",
    "model_path = os.path.join(SAVED_MODEL_ROOT, model_name)\n",
    "\n",
    "with open(model_path, 'rb') as f:\n",
    "    sgd_clf = pickle.load(f)"
   ]
  },
  {
   "cell_type": "markdown",
   "metadata": {},
   "source": [
    "# train svc model using OvO\n",
    "svc_clf = SVC()\n",
    "svc_clf.fit(X_train, y_train)"
   ]
  },
  {
   "cell_type": "markdown",
   "metadata": {},
   "source": [
    "#save svc model\n",
    "model_name = 'multiclass-svc-model'\n",
    "model_path = os.path.join(SAVED_MODEL_ROOT, model_name)\n",
    "\n",
    "with open(model_path, 'wb') as f:\n",
    "    serial = pickle.dumps(svc_clf)\n",
    "    f.write(serial)"
   ]
  },
  {
   "cell_type": "code",
   "execution_count": 168,
   "metadata": {},
   "outputs": [],
   "source": [
    "# load the model\n",
    "model_name = 'multiclass-svc-model'\n",
    "model_path = os.path.join(SAVED_MODEL_ROOT, model_name)\n",
    "\n",
    "with open(model_path, 'rb') as f:\n",
    "    svc_clf = pickle.load(f)"
   ]
  },
  {
   "cell_type": "markdown",
   "metadata": {},
   "source": [
    "svc_clf.score(X_test, y_test)"
   ]
  },
  {
   "cell_type": "code",
   "execution_count": 171,
   "metadata": {},
   "outputs": [
    {
     "data": {
      "text/plain": [
       "(9, 12336)"
      ]
     },
     "execution_count": 171,
     "metadata": {},
     "output_type": "execute_result"
    }
   ],
   "source": [
    "svc_clf.dual_coef_.shape"
   ]
  },
  {
   "cell_type": "code",
   "execution_count": 239,
   "metadata": {},
   "outputs": [],
   "source": [
    "## normalize the image\n",
    "from sklearn.preprocessing import StandardScaler\n",
    "\n",
    "scaler = StandardScaler()\n",
    "X_train_scale = scaler.fit_transform(X_train)\n",
    "X_test_scale = scaler.transform(X_test)"
   ]
  },
  {
   "cell_type": "code",
   "execution_count": 240,
   "metadata": {},
   "outputs": [
    {
     "data": {
      "text/plain": [
       "RandomForestClassifier()"
      ]
     },
     "execution_count": 240,
     "metadata": {},
     "output_type": "execute_result"
    }
   ],
   "source": [
    "#train random forest on normalized model\n",
    "multi_forest_clf_norm = RandomForestClassifier()\n",
    "multi_forest_clf_norm.fit(X_train_scale, y_train)"
   ]
  },
  {
   "cell_type": "code",
   "execution_count": 241,
   "metadata": {},
   "outputs": [],
   "source": [
    "#save\n",
    "model_name = 'multiclass-randomforest-norm-model'\n",
    "model_path = os.path.join(SAVED_MODEL_ROOT, model_name)\n",
    "\n",
    "with open(model_path, 'wb') as f:\n",
    "    serial = pickle.dumps(multi_forest_clf_norm)\n",
    "    f.write(serial)"
   ]
  },
  {
   "cell_type": "code",
   "execution_count": 233,
   "metadata": {},
   "outputs": [],
   "source": [
    "#load model\n",
    "model_name = 'multiclass-randomforest-norm-model'\n",
    "model_path = os.path.join(SAVED_MODEL_ROOT, model_name)\n",
    "\n",
    "with open(model_path, 'rb') as f:\n",
    "    multi_forest_clf_norm = pickle.load(f)"
   ]
  },
  {
   "cell_type": "code",
   "execution_count": 242,
   "metadata": {},
   "outputs": [
    {
     "name": "stdout",
     "output_type": "stream",
     "text": [
      "0.9697\n",
      "1.0\n"
     ]
    }
   ],
   "source": [
    "#print random forest score\n",
    "print(multi_forest_clf_norm.score(X_test_scale, y_test))\n",
    "print(multi_forest_clf_norm.score(X_train_scale, y_train))"
   ]
  },
  {
   "cell_type": "markdown",
   "metadata": {},
   "source": [
    "multi_forest_clf = RandomForestClassifier()\n",
    "multi_forest_clf.fit(X_train, y_train)"
   ]
  },
  {
   "cell_type": "markdown",
   "metadata": {},
   "source": [
    "#save svc model\n",
    "model_name = 'multiclass-randomforest-model'\n",
    "model_path = os.path.join(SAVED_MODEL_ROOT, model_name)\n",
    "\n",
    "with open(model_path, 'wb') as f:\n",
    "    serial = pickle.dumps(multi_forest_clf)\n",
    "    f.write(serial)"
   ]
  },
  {
   "cell_type": "code",
   "execution_count": 173,
   "metadata": {},
   "outputs": [
    {
     "data": {
      "text/plain": [
       "0.9705"
      ]
     },
     "execution_count": 173,
     "metadata": {},
     "output_type": "execute_result"
    }
   ],
   "source": [
    "multi_forest_clf.score(X_test, y_test)"
   ]
  },
  {
   "cell_type": "code",
   "execution_count": 178,
   "metadata": {},
   "outputs": [
    {
     "data": {
      "text/plain": [
       "1.0"
      ]
     },
     "execution_count": 178,
     "metadata": {},
     "output_type": "execute_result"
    }
   ],
   "source": [
    "multi_forest_clf.score(X_train, y_train)"
   ]
  },
  {
   "cell_type": "code",
   "execution_count": 186,
   "metadata": {},
   "outputs": [
    {
     "name": "stdout",
     "output_type": "stream",
     "text": [
      "pred : 5 true : 5\n"
     ]
    }
   ],
   "source": [
    "some_idx = random.randint(0, 9999)\n",
    "\n",
    "pred_class = multi_forest_clf.classes_[multi_forest_clf.predict(X_test[some_idx].reshape(1, -1))]\n",
    "true_class = y_test[some_idx]\n",
    "\n",
    "print(f'pred : {pred_class[0]} true : {true_class}')"
   ]
  },
  {
   "cell_type": "code",
   "execution_count": 175,
   "metadata": {},
   "outputs": [],
   "source": [
    "# load the model\n",
    "model_name = 'multiclass-randomforest-model'\n",
    "model_path = os.path.join(SAVED_MODEL_ROOT, model_name)\n",
    "\n",
    "with open(model_path, 'rb') as f:\n",
    "    multi_forest_clf = pickle.load(f)"
   ]
  },
  {
   "cell_type": "markdown",
   "metadata": {},
   "source": [
    "knn = KNeighborsClassifier()\n",
    "knn.fit(X_train, y_train)"
   ]
  },
  {
   "cell_type": "markdown",
   "metadata": {},
   "source": [
    "knn.score(X_test, y_test)"
   ]
  },
  {
   "cell_type": "code",
   "execution_count": 223,
   "metadata": {},
   "outputs": [
    {
     "name": "stdout",
     "output_type": "stream",
     "text": [
      "[[ 972    1    2    0    0    1    1    1    2    0]\n",
      " [   0 1125    3    1    0    2    2    0    2    0]\n",
      " [   5    1  999    3    3    0    4   10    7    0]\n",
      " [   0    0   10  976    0    4    0    8    8    4]\n",
      " [   1    0    2    0  952    0    4    1    3   19]\n",
      " [   2    0    1   12    2  860    5    2    5    3]\n",
      " [   6    3    1    0    3    2  941    0    2    0]\n",
      " [   2    2   21    1    1    0    0  986    4   11]\n",
      " [   5    1    4    5    5    6    5    4  932    7]\n",
      " [   5    5    2   11   10    3    1    4    6  962]]\n"
     ]
    }
   ],
   "source": [
    "# observe confusion matrix on test set, normally it should be on train set with cross validation\n",
    "# but the training takes to long so I just use test set instead\n",
    "\n",
    "multi_class_confmat = confusion_matrix(y_test, multi_forest_clf.classes_[multi_forest_clf.predict(X_test)])\n",
    "print(multi_class_confmat)"
   ]
  },
  {
   "cell_type": "code",
   "execution_count": 218,
   "metadata": {},
   "outputs": [
    {
     "data": {
      "text/plain": [
       "<matplotlib.image.AxesImage at 0x1219c5a90>"
      ]
     },
     "execution_count": 218,
     "metadata": {},
     "output_type": "execute_result"
    },
    {
     "data": {
      "image/png": "[encoded data removed]",
      "text/plain": [
       "<Figure size 432x288 with 1 Axes>"
      ]
     },
     "metadata": {
      "needs_background": "light"
     },
     "output_type": "display_data"
    }
   ],
   "source": [
    "plt.imshow(multi_class_confmat, cmap='gray')"
   ]
  },
  {
   "cell_type": "code",
   "execution_count": 219,
   "metadata": {},
   "outputs": [],
   "source": [
    "import copy\n",
    "\n",
    "# normalized confusion matrix such that we can see the error more clear\n",
    "multi_class_confmat_norm = np.copy(multi_class_confmat)\n",
    "multi_class_confmat_norm = multi_class_confmat_norm/np.sum(multi_class_confmat, axis = 1)\n",
    "np.fill_diagonal(multi_class_confmat_norm, 0)"
   ]
  },
  {
   "cell_type": "code",
   "execution_count": 222,
   "metadata": {},
   "outputs": [
    {
     "data": {
      "text/plain": [
       "<matplotlib.image.AxesImage at 0x122bf41f0>"
      ]
     },
     "execution_count": 222,
     "metadata": {},
     "output_type": "execute_result"
    },
    {
     "data": {
      "image/png": "[encoded data removed]",
      "text/plain": [
       "<Figure size 432x288 with 1 Axes>"
      ]
     },
     "metadata": {
      "needs_background": "light"
     },
     "output_type": "display_data"
    }
   ],
   "source": [
    "plt.imshow(multi_class_confmat_norm, cmap='gray')"
   ]
  },
  {
   "cell_type": "markdown",
   "metadata": {},
   "source": [
    "## Question 2 data augmentation using shifting image"
   ]
  },
  {
   "cell_type": "code",
   "execution_count": 259,
   "metadata": {},
   "outputs": [],
   "source": [
    "def shift_image(shift_pos: str, shift_dist: int, img):\n",
    "    img_copy = np.copy(img)\n",
    "    img_mat = img_copy.reshape(28, 28)\n",
    "    \n",
    "    if shift_pos == 'up':\n",
    "        img_mat[:-shift_dist, :] = img_mat[shift_dist:, :]\n",
    "        img_mat[-shift_dist:, :] = np.zeros((shift_dist, 28))\n",
    "    \n",
    "    if shift_pos == 'left':\n",
    "        img_mat[:, :-shift_dist] = img_mat[:, shift_dist:]\n",
    "        img_mat[:, -shift_dist:] = np.zeros((28, shift_dist))\n",
    "        \n",
    "    return img_mat.reshape(1, -1)"
   ]
  },
  {
   "cell_type": "code",
   "execution_count": 292,
   "metadata": {},
   "outputs": [],
   "source": [
    "def populate_X(X, y, num_pop, seed):\n",
    "    np.random.seed(seed)\n",
    "    random.seed(seed)\n",
    "    \n",
    "    X_pop = np.zeros((num_pop, 28**2))\n",
    "    y_pop = np.zeros((num_pop, ))\n",
    "    \n",
    "    for i in range(num_pop):\n",
    "        pos = random.choice(['up','left'])\n",
    "        dist = random.randint(1,3)\n",
    "        idx = np.random.randint(0, 59999)\n",
    "        \n",
    "        X_pop[i] = shift_image(pos, dist, X[idx])\n",
    "        y_pop[i] = y[idx]\n",
    "        \n",
    "    return X_pop, y_pop"
   ]
  },
  {
   "cell_type": "code",
   "execution_count": 301,
   "metadata": {},
   "outputs": [
    {
     "name": "stdout",
     "output_type": "stream",
     "text": [
      "(90000, 784)\n",
      "(90000,)\n"
     ]
    }
   ],
   "source": [
    "X_pop, y_pop = populate_X(X_train, y_train, 30000, 42)\n",
    "X_train_pop = np.append(X_train, X_pop, axis = 0)\n",
    "y_train_pop = np.append(y_train, y_pop, axis = 0)\n",
    "print(X_train_pop.shape)\n",
    "print(y_train_pop.shape)"
   ]
  },
  {
   "cell_type": "code",
   "execution_count": 302,
   "metadata": {},
   "outputs": [
    {
     "data": {
      "text/plain": [
       "Text(0.5, 1.0, '8.0')"
      ]
     },
     "execution_count": 302,
     "metadata": {},
     "output_type": "execute_result"
    },
    {
     "data": {
      "image/png": "[encoded data removed]",
      "text/plain": [
       "<Figure size 432x288 with 2 Axes>"
      ]
     },
     "metadata": {
      "needs_background": "light"
     },
     "output_type": "display_data"
    }
   ],
   "source": [
    "plt.subplot(1,2,1)\n",
    "plt.imshow(X_pop[455].reshape(28,28))\n",
    "plt.title(y_pop[455])\n",
    "plt.subplot(1,2,2)\n",
    "plt.imshow(X_pop[234].reshape(28,28))\n",
    "plt.title(y_pop[234])"
   ]
  },
  {
   "cell_type": "code",
   "execution_count": 303,
   "metadata": {},
   "outputs": [
    {
     "data": {
      "text/plain": [
       "RandomForestClassifier()"
      ]
     },
     "execution_count": 303,
     "metadata": {},
     "output_type": "execute_result"
    }
   ],
   "source": [
    "# train again on new data with augmentation\n",
    "## normalize the image\n",
    "from sklearn.preprocessing import StandardScaler\n",
    "\n",
    "scaler = StandardScaler()\n",
    "X_train_pop_scale = scaler.fit_transform(X_train_pop)\n",
    "\n",
    "#train random forest on normalized model\n",
    "multi_forest_clf_norm = RandomForestClassifier()\n",
    "multi_forest_clf_norm.fit(X_train_pop_scale, y_train_pop)"
   ]
  },
  {
   "cell_type": "code",
   "execution_count": 304,
   "metadata": {},
   "outputs": [
    {
     "data": {
      "text/plain": [
       "0.9711"
      ]
     },
     "execution_count": 304,
     "metadata": {},
     "output_type": "execute_result"
    }
   ],
   "source": [
    "X_test_scale = scaler.transform(X_test)\n",
    "\n",
    "multi_forest_clf_norm.score(X_test_scale, y_test)"
   ]
  },
  {
   "cell_type": "code",
   "execution_count": 305,
   "metadata": {},
   "outputs": [],
   "source": [
    "## We can see that, the more number of data augmentation, the more accuracy it becomes!"
   ]
  },
  {
   "cell_type": "code",
   "execution_count": null,
   "metadata": {},
   "outputs": [],
   "source": []
  }
 ],
 "metadata": {
  "kernelspec": {
   "display_name": "Python 3",
   "language": "python",
   "name": "python3"
  },
  "language_info": {
   "codemirror_mode": {
    "name": "ipython",
    "version": 3
   },
   "file_extension": ".py",
   "mimetype": "text/x-python",
   "name": "python",
   "nbconvert_exporter": "python",
   "pygments_lexer": "ipython3",
   "version": "3.8.5"
  }
 },
 "nbformat": 4,
 "nbformat_minor": 2
}
