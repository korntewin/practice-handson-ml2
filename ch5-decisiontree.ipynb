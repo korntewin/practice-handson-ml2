{
 "metadata": {
  "language_info": {
   "codemirror_mode": {
    "name": "ipython",
    "version": 3
   },
   "file_extension": ".py",
   "mimetype": "text/x-python",
   "name": "python",
   "nbconvert_exporter": "python",
   "pygments_lexer": "ipython3",
   "version": 3
  },
  "orig_nbformat": 2
 },
 "nbformat": 4,
 "nbformat_minor": 2,
 "cells": [
  {
   "cell_type": "markdown",
   "metadata": {},
   "source": [
    "# Ch 5 exercise"
   ]
  },
  {
   "cell_type": "markdown",
   "metadata": {},
   "source": [
    "## Question 1  \n",
    "Approximate depth of decision tree w/o any restriction is infinite, or at most is the number of training instances."
   ]
  },
  {
   "cell_type": "markdown",
   "metadata": {},
   "source": [
    "## Question 2 . \n",
    "The Gini impurity will increase at each lower depth."
   ]
  },
  {
   "cell_type": "markdown",
   "metadata": {},
   "source": [
    "## Question 3 . \n",
    "Yes, decrease max_depth will in crease regularization."
   ]
  },
  {
   "cell_type": "markdown",
   "metadata": {},
   "source": [
    "## Question 4 . \n",
    "Scaling input feature will generally not make any difference in decision tree model."
   ]
  },
  {
   "cell_type": "markdown",
   "metadata": {},
   "source": [
    "## Question 5  \n",
    "Decision tree, especially CART (Classification and regression tree) implement greedy algorithm in tree construction. It is O(nm log m) time complexity where n is the number of features and m is the number of samples.  \n",
    "Since, at each level, the model will choose at most n values from n features to compare with m samples, thus nm. The average level of the tree is log(m) assume that in each level, the sample is divided by half.  \n",
    "So, if the m is increased by 10 folds, the training time will be incrased by 10log10 --> 33 folds."
   ]
  },
  {
   "cell_type": "markdown",
   "metadata": {},
   "source": [
    "## Question 6  \n",
    "No, because the sort time complexity is O(m log m) in average, which is alomost equal to O(nm log m) and thus it is time consuming."
   ]
  },
  {
   "cell_type": "code",
   "execution_count": null,
   "metadata": {},
   "outputs": [],
   "source": []
  }
 ]
}