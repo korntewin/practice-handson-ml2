{
 "metadata": {
  "language_info": {
   "codemirror_mode": {
    "name": "ipython",
    "version": 3
   },
   "file_extension": ".py",
   "mimetype": "text/x-python",
   "name": "python",
   "nbconvert_exporter": "python",
   "pygments_lexer": "ipython3",
   "version": "3.7.9-final"
  },
  "orig_nbformat": 2,
  "kernelspec": {
   "name": "python_defaultSpec_1599834642336",
   "display_name": "Python 3.7.9 64-bit ('practice_handson_ml_env': venv)"
  }
 },
 "nbformat": 4,
 "nbformat_minor": 2,
 "cells": [
  {
   "cell_type": "code",
   "execution_count": 1,
   "metadata": {},
   "outputs": [],
   "source": [
    "from sklearn.datasets import make_moons"
   ]
  },
  {
   "cell_type": "code",
   "execution_count": 2,
   "metadata": {},
   "outputs": [],
   "source": [
    "from sklearn.ensemble import RandomForestClassifier\n",
    "from sklearn.svm import SVC\n",
    "from sklearn.linear_model import LogisticRegression"
   ]
  },
  {
   "cell_type": "code",
   "execution_count": 3,
   "metadata": {},
   "outputs": [],
   "source": [
    "import matplotlib.pyplot as plt"
   ]
  },
  {
   "cell_type": "code",
   "execution_count": 4,
   "metadata": {},
   "outputs": [],
   "source": [
    "dataset, datalabel = make_moons(n_samples=1000, noise = 0.5)"
   ]
  },
  {
   "cell_type": "markdown",
   "metadata": {
    "tags": []
   },
   "source": [
    "plt.scatter(dataset[:,0][datalabel == 1], dataset[:,1][datalabel == 1], marker = 'x')\n",
    "plt.scatter(dataset[:,0][datalabel == 0], dataset[:,1][datalabel == 0], marker = 'o')"
   ]
  },
  {
   "cell_type": "code",
   "execution_count": 6,
   "metadata": {},
   "outputs": [],
   "source": [
    "from sklearn.model_selection import train_test_split\n",
    "\n",
    "X_train, X_test, y_train, y_test = train_test_split(dataset, datalabel, test_size = 0.33, random_state = 42)"
   ]
  },
  {
   "cell_type": "code",
   "execution_count": 7,
   "metadata": {
    "tags": []
   },
   "outputs": [
    {
     "output_type": "stream",
     "name": "stdout",
     "text": "(670, 2)\n(330, 2)\n"
    }
   ],
   "source": [
    "print(X_train.shape)\n",
    "print(X_test.shape)"
   ]
  },
  {
   "cell_type": "code",
   "execution_count": 177,
   "metadata": {},
   "outputs": [],
   "source": [
    "from sklearn.ensemble import VotingClassifier\n",
    "\n",
    "forest = RandomForestClassifier()\n",
    "svc = SVC(probability=False)\n",
    "lin = LogisticRegression()\n",
    "\n",
    "voting = VotingClassifier(estimators=[\n",
    "    ('forest', forest),\n",
    "    ('svc', svc),\n",
    "    ('lin', lin)\n",
    "], voting='hard')"
   ]
  },
  {
   "cell_type": "code",
   "execution_count": 178,
   "metadata": {},
   "outputs": [
    {
     "output_type": "execute_result",
     "data": {
      "text/plain": "LogisticRegression()"
     },
     "metadata": {},
     "execution_count": 178
    }
   ],
   "source": [
    "voting.fit(X_train, y_train)\n",
    "forest.fit(X_train, y_train)\n",
    "svc.fit(X_train, y_train)\n",
    "lin.fit(X_train, y_train)"
   ]
  },
  {
   "cell_type": "code",
   "execution_count": 179,
   "metadata": {
    "tags": []
   },
   "outputs": [
    {
     "output_type": "stream",
     "name": "stdout",
     "text": "forest : 0.7909090909090909\nsvc : 0.8181818181818182\nlin : 0.8151515151515152\n"
    }
   ],
   "source": [
    "print(f'forest : {forest.score(X_test, y_test)}')\n",
    "print(f'svc : {svc.score(X_test, y_test)}')\n",
    "print(f'lin : {lin.score(X_test, y_test)}')"
   ]
  },
  {
   "cell_type": "code",
   "execution_count": 180,
   "metadata": {},
   "outputs": [
    {
     "output_type": "execute_result",
     "data": {
      "text/plain": "0.8181818181818182"
     },
     "metadata": {},
     "execution_count": 180
    }
   ],
   "source": [
    "voting.score(X_test, y_test)"
   ]
  },
  {
   "cell_type": "markdown",
   "metadata": {},
   "source": [
    "## Question 1 . \n",
    "It is possible to combine the different models that train on the exact same training data. The point is that these model should independently learning on different parameters."
   ]
  },
  {
   "cell_type": "markdown",
   "metadata": {},
   "source": [
    "## Question 2  \n",
    "1. Hard voting classifiers predict the final results from majority voting, which may be more fluctuate since it is neglect the confindence level (it treat 0.501 as same as 0.999) . \n",
    "2. Soft voting predict the final results from the average of prability of the prediction of each predictors."
   ]
  },
  {
   "cell_type": "markdown",
   "metadata": {},
   "source": [
    "## Question 3 . \n",
    "* For bagging ensemble, it is possible to training on different server, since this method is independently sampling the input features with replacement.  \n",
    "* For pasting ensemble, which require that the sampling of input instances must not be used more than once across multiple predictors, it may possible with the load map reduce method which specify one server to distribute the training data to another server.  \n",
    "* Boostin ensemble requires predictors to predict sequentially, so it is not possible to train on multiple servers.  \n",
    "* RandomForest with bagging ensemble is the same as bagging ensemble . \n",
    "* Stacking ensemble is possible to train on multiple servers by assign one server to distribute the two datasets (first for training first predictor layer and first for create new input features) \n"
   ]
  },
  {
   "cell_type": "markdown",
   "metadata": {},
   "source": [
    "## Question 4 . \n",
    "With out of bag evaluation, we doesn't need to split training set into train and validation set. Thus, the model is utilize the whole training set."
   ]
  },
  {
   "cell_type": "markdown",
   "metadata": {},
   "source": [
    "## Question 5 . \n",
    "Extra-trees key different from Randomforest is that the threshold of the selected feature is randomly chosen (normally, in each split both feature and threshold will be optimally chosen).  \n",
    "This lead to the fact that extra-trees will have higher bias because it cannot fit the training set so well. But it will make each predictors more independently (Even the same features might have different threshold).  \n",
    "And from the fact that threshold is randomly selected, it will speed up the training."
   ]
  },
  {
   "cell_type": "markdown",
   "metadata": {},
   "source": [
    "## Question 6 . \n",
    "Aside from the hyperparameter of the base predictors, hyperparameter of the adaboost is the learning rate. So, we can increase the learning rate to enhance the contribution of the successor predictors and make it more accurate on the training set."
   ]
  },
  {
   "cell_type": "markdown",
   "metadata": {},
   "source": [
    "## Question 7  \n",
    "We should decrease the learning rate to reduce the contribution on the successor predictor to mitigate overfitting problem."
   ]
  },
  {
   "cell_type": "markdown",
   "metadata": {},
   "source": [
    "## Question 8  \n"
   ]
  },
  {
   "cell_type": "code",
   "execution_count": 10,
   "metadata": {},
   "outputs": [],
   "source": [
    "from sklearn.datasets import fetch_openml\n",
    "from sklearn.linear_model import LogisticRegression\n",
    "from sklearn.ensemble import RandomForestClassifier, ExtraTreesClassifier\n",
    "from sklearn.model_selection import cross_val_predict, train_test_split\n",
    "\n",
    "import numpy as np"
   ]
  },
  {
   "cell_type": "code",
   "execution_count": 2,
   "metadata": {},
   "outputs": [],
   "source": [
    "X, y = fetch_openml('mnist_784', version=1, return_X_y=True)"
   ]
  },
  {
   "cell_type": "code",
   "execution_count": 13,
   "metadata": {
    "tags": []
   },
   "outputs": [],
   "source": [
    "X_train, X_test, y_train, y_test = train_test_split(X, y, test_size = 0.2, random_state = 42)\n",
    "\n",
    "X_train = X_train/255\n",
    "X_test = X_test/255"
   ]
  },
  {
   "cell_type": "code",
   "execution_count": 16,
   "metadata": {
    "tags": []
   },
   "outputs": [
    {
     "output_type": "stream",
     "name": "stdout",
     "text": "X_train shape : (56000, 784)\nX_test shape : (14000, 784)\n1.0\n9\n"
    }
   ],
   "source": [
    "print(f'X_train shape : {X_train.shape}')\n",
    "print(f'X_test shape : {X_test.shape}')\n",
    "\n",
    "print(np.max(X_train))\n",
    "print(np.max(y_train))"
   ]
  },
  {
   "cell_type": "code",
   "execution_count": 17,
   "metadata": {},
   "outputs": [
    {
     "output_type": "execute_result",
     "data": {
      "text/plain": "LogisticRegression()"
     },
     "metadata": {},
     "execution_count": 17
    }
   ],
   "source": [
    "log_reg = LogisticRegression()\n",
    "log_reg.fit(X_train, y_train)"
   ]
  },
  {
   "cell_type": "code",
   "execution_count": 18,
   "metadata": {},
   "outputs": [
    {
     "output_type": "execute_result",
     "data": {
      "text/plain": "RandomForestClassifier()"
     },
     "metadata": {},
     "execution_count": 18
    }
   ],
   "source": [
    "forest_clf = RandomForestClassifier()\n",
    "forest_clf.fit(X_train, y_train)"
   ]
  },
  {
   "cell_type": "code",
   "execution_count": 19,
   "metadata": {},
   "outputs": [
    {
     "output_type": "execute_result",
     "data": {
      "text/plain": "ExtraTreesClassifier()"
     },
     "metadata": {},
     "execution_count": 19
    }
   ],
   "source": [
    "ext_clf = ExtraTreesClassifier()\n",
    "ext_clf.fit(X_train, y_train)"
   ]
  },
  {
   "cell_type": "code",
   "execution_count": 1,
   "metadata": {
    "tags": []
   },
   "outputs": [],
   "source": [
    "import pickle\n",
    "import joblib\n",
    "import os\n",
    "import sys\n",
    "\n",
    "os.mkdir('./gg')\n",
    "# !mkdir saved_model\n",
    "# !mkdir ./saved_model/ch7-ensemble\n",
    "\n",
    "# SAVED_ROOT = './saved_model/ch7-ensemble'\n",
    "\n",
    "# # with open(os.path.join(SAVED_ROOT, 'logistic-regression'), 'wb') as f:\n",
    "# #     pickle.dump(log_reg, f)\n",
    "\n",
    "# # with open(SAVED_ROOT + 'randomforest', 'wb') as f:\n",
    "# #     pickle.dump(forest_clf, f)\n",
    "\n",
    "# # with open(SAVED_ROOT + 'extratree', 'wb') as f:\n",
    "# #     pickle.dump(ext_clf, f)\n",
    "\n",
    "# joblib.dump(log_reg, os.path.join(SAVED_ROOT, 'logistic-regression'))"
   ]
  },
  {
   "cell_type": "code",
   "execution_count": 36,
   "metadata": {},
   "outputs": [
    {
     "output_type": "execute_result",
     "data": {
      "text/plain": "0.9202857142857143"
     },
     "metadata": {},
     "execution_count": 36
    }
   ],
   "source": [
    "log_reg.score(X_test, y_test)"
   ]
  },
  {
   "cell_type": "code",
   "execution_count": 56,
   "metadata": {
    "tags": []
   },
   "outputs": [
    {
     "output_type": "stream",
     "name": "stdout",
     "text": "0.9666428571428571\n"
    },
    {
     "output_type": "execute_result",
     "data": {
      "text/plain": "<matplotlib.image.AxesImage at 0x7feefb942e50>"
     },
     "metadata": {},
     "execution_count": 56
    },
    {
     "output_type": "display_data",
     "data": {
      "text/plain": "<Figure size 432x288 with 1 Axes>",
      "image/svg+xml": "<?xml version=\"1.0\" encoding=\"utf-8\" standalone=\"no\"?>\n<!DOCTYPE svg PUBLIC \"-//W3C//DTD SVG 1.1//EN\"\n  \"http://www.w3.org/Graphics/SVG/1.1/DTD/svg11.dtd\">\n<!-- Created with matplotlib (https://matplotlib.org/) -->\n<svg height=\"248.518125pt\" version=\"1.1\" viewBox=\"0 0 251.565 248.518125\" width=\"251.565pt\" xmlns=\"http://www.w3.org/2000/svg\" xmlns:xlink=\"http://www.w3.org/1999/xlink\">\n <metadata>\n  <rdf:RDF xmlns:cc=\"http://creativecommons.org/ns#\" xmlns:dc=\"http://purl.org/dc/elements/1.1/\" xmlns:rdf=\"http://www.w3.org/1999/02/22-rdf-syntax-ns#\">\n   <cc:Work>\n    <dc:type rdf:resource=\"http://purl.org/dc/dcmitype/StillImage\"/>\n    <dc:date>2020-09-09T23:19:07.856370</dc:date>\n    <dc:format>image/svg+xml</dc:format>\n    <dc:creator>\n     <cc:Agent>\n      <dc:title>Matplotlib v3.3.1, https://matplotlib.org/</dc:title>\n     </cc:Agent>\n    </dc:creator>\n   </cc:Work>\n  </rdf:RDF>\n </metadata>\n <defs>\n  <style type=\"text/css\">*{stroke-linecap:butt;stroke-linejoin:round;}</style>\n </defs>\n <g id=\"figure_1\">\n  <g id=\"patch_1\">\n   <path d=\"M 0 248.518125 \nL 251.565 248.518125 \nL 251.565 0 \nL 0 0 \nz\n\" style=\"fill:none;\"/>\n  </g>\n  <g id=\"axes_1\">\n   <g id=\"patch_2\">\n    <path d=\"M 26.925 224.64 \nL 244.365 224.64 \nL 244.365 7.2 \nL 26.925 7.2 \nz\n\" style=\"fill:#ffffff;\"/>\n   </g>\n   <g clip-path=\"url(#p136c9de889)\">\n    <image height=\"218\" id=\"image2ea12e4a6e\" transform=\"scale(1 -1)translate(0 -218)\" width=\"218\" x=\"26.925\" xlink:href=\"data:image/png;base64,\niVBORw0KGgoAAAANSUhEUgAAANoAAADaCAYAAADAHVzbAAALkUlEQVR4nO3dS4wcVxXG8VNd3TM90/PKeDxObCd2LGPhSBEvIZKwMKAowA6JCFYsWMKeHXskJCR2WZMta5AQIgIJJCtRSLIgLxsSHD/H9ow9/Zh+1mXL5n7HcqdPj5P/b3umuqur5+uS6ujcW7xYvJwMwEzV5n0CwOcBQQMCEDQgAEEDAhA0IABBAwIQNCBAfd4nMDdF4dT1b1BR08fXlpezteqgr9971sS5p9FYH5uqT/lk/v+1P7stXe5oQACCBgQgaEAAggYEIGhAAIIGBCBoQIDD3Udzel1FWeZri4v62JWWrtedS+OcW7W5mi828udtZlbudvR7jye67vT4UreXr/UO9GtXuo+WJl5dnbvTo3uE+2zc0YAABA0IQNCAAAQNCEDQgAAEDQgw38f7046qiEfwRdN5vO88vk/Dka4f35L18VozWyv7ehSlWsuP2JiZFV09ZlN4j//FdfXaImnsjdEM9VtbvrWRnNN+lB//c0cDAhA0IABBAwIQNCAAQQMCEDQgAEEDAsy5jzbdkm6mxmScMZjJ5pqs957Sxw/W9KjL7vfz4yZJ9JLMzNIt/d4b72/IeuH0ozbfy59beV/36Gp7+7Keul1d7w9E0RuxkeVDjTsaEICgAQEIGhCAoAEBCBoQgKABAQgaEGCufTSvT+bNjBXHj2Vro23dJ+ueyM+LmZndfEGW7dhFPft08tVGtta4r2e2Ul30msysNtAzYanUv5+1Yf74wtm2KS05c37ecnTi9dXygWZm5s0IjnV9nvNq3NGAAAQNCEDQgAAEDQhA0IAABA0IQNCAALPto3nrNjp9E29tRvX6N57XayOOv9GW9XRTH5+8LaXGop/kXZaOszbiyBnMKh/+3EaPi+2mzKzs6l5VdVT3LxtXxb9cQ/87Vrduy7pnnn027mhAAIIGBCBoQACCBgQgaEAAggYEIGhAgPmu6+hx+mzjIyvZWnNX90R2B/qjv/C1D2T9H0tnZX3z9YVsLdXyNTOz1o6e6ar3dL3s6z5bXfTCvP7gvS/mr7mZ2fKOnmerPf5YvtZx9n1z1uq0jl5T0pNGun85De5oQACCBgQgaEAAggYEIGhAAIIGBJjxmMyUOfZGUSb5x9zjpj526096ubk3n35G1r/+kn78/0Y6k62tfJhfis7MbNTW514b6nrznn5MPthaytaGG/pfYuWafgTeOaFbF82rYtsn7/v2xqa85egGehk/+f5TjtBwRwMCEDQgAEEDAhA0IABBAwIQNCAAQQMCzLaPlvQ4h3v4QPdsBlv5XtjGf3RPZeL02WojfWneuHRa1r907kq29u6dfI/NzGy4rs+tdU2PDy20db9p8XYvW+uc2JDHNjr6vau6Pvf+yfxydEuX78hjTfRNzcz9f/O2AUsTZxm/KXBHAwIQNCAAQQMCEDQgAEEDAhA0IABBAwLMd7k5p29RPHVc1pcv72Zr+89uPdQpPaj6bT13df9kvsd39rn/ymM/vH5M1oft/DyZmdneF/Ss3WPv52erRi3dBxuu6t/mzXfEvJmZpUb++GpZn3fR1svJJafPlma4LZOHOxoQgKABAQgaEICgAQEIGhCAoAEBCBoQYMbzaLpvkSqnr3HtpixXZ5/M1vob+jfkYFv3i3qn9PZDno+vHM3Wvnn+sjz2mZM3ZP3dG6dlvew7n/1Yfl7t/nN6Tci13+t/mcmK7i82dvOzcFY582QLej1Mc7Zdcv/fZog7GhCAoAEBCBoQgKABAQgaEICgAQHmOyYzpVov/zi3PtCPcvvbur5yrCPrg4G+dOO7+VGW1/96Xh771Qt6S6iLP/6NrF945ReyfvP5fGvjie178tj2CT3CszHQj+jHT+aXm2vsO4/nt1dkvfHWv2V9nrijAQEIGhCAoAEBCBoQgKABAQgaEICgAQEOdx/NG2sY5UdZhit6DGb5uq53j+ilzxY+1lsjpa38Unqjo3oE53pnXdZ/8K+fyHrlfKuTtfy5/fzpv8ljfzv4kazXu/qzlZ1BtlYt6hMv9/PHmpkVW5uybp9c1/UZ4o4GBCBoQACCBgQgaEAAggYEIGhAAIIGBJhvHy3p2SVPtZaf+Trynl42bf+U7pM1L+h5tDuDUtZNfLR6ayQP/d4T78r6VqMt67+++11Zr+3ke4C//MsP5bGLp3X/ceOSLFvRz3/21NJL1XXP5mfZzMxW3xZL2T2IGW7rxB0NCEDQgAAEDQhA0IAABA0IQNCAAAQNCHCo59HSUK/zV+7cz9aqhSPy2ImzA9DeXkvWW0d0z+bkxr1s7fI/89tNmZn97qPvyPoHP31F1n/l9PiOvp3vhXWP63+J0ZruNe2dz/c2zcy2+vl5tfGyfu/9J3V99U2nLztl33Ya3NGAAAQNCEDQgAAEDQhA0IAABA0IQNCAAIe7j+bMB6V+fp2/sqvXAFy9qhtp7St6Xu1bL+mZsT+882y21uzo37fmbVm2c6/+TNaX2npmbLCRr5X6spnt69fuO0srdk7n+5ONdn69STOzx/+e75uamVl5eO8bh/fMgM8QggYEIGhAAIIGBCBoQACCBgSY7+P9Que8WNDLj9koP0ZT29djLMW2HoNp3taPsf948cuy3jh6IF5bf65iotsarU8e/vG9mVkS3/pIXxYr9BN4K/VkkyVx6vWefvFyd1+/dqer37x0lgiciPefcik67mhAAIIGBCBoQACCBgQgaEAAggYEIGhAgLn20Yqa7gfZSG9vZHWxtNkov6yZmdloVX/0xT3dNyk+1D2Z/ZQ/t8q56tWyvi7DdX1u9a4+PolTb+jdqmy4ruuFc/y4mf9tLw/0950W9GiT13etrerrUrXzJ58G3vyQxh0NCEDQgAAEDQhA0IAABA0IQNCAAAQNCDDXPlqqnBmfid5mR3ZFavo3ZPWDPVkvT+uG0fKOLFtR5Xs+ZV9/7uG67vecfO6arFdq6MvMdl47ka0t6DE+dzm6pbv6O1u8n6+nuv7O0pIzxzfW82zFojPfeM9Zzm4K3NGAAAQNCEDQgAAEDQhA0IAABA0IQNCAAPNd1zHpnotcBNBMrsOXDvLrKpqZpfUVWffWVqwaTs9HzHy1bul+T/uMnnWbVPq9x069v52/7q0b+pqvXNPfWXNXL+yYivzrFyNn0UhH1RLziWZW29PrQnrrjE6DOxoQgKABAQgaEICgAQEIGhCAoAEBCBoQYM59NN2r8ubVkuijFeasATjUawg22ro+WtWvv/5Rfl3J/VPOmpJ3ZdmuvfWE/gPH4r7olTnfSdnXfbSyo/to1UL+s6dS/+7Xes7ma878Yuo5vVW1P9qUuKMBAQgaEICgAQEIGhCAoAEBCBoQYL6P9z3OGE110M/Was6jWmcAx+pinMPMbLyyIet75/KXduKsejZp6nr9jN4b6dunL8n6n1/7SrbW6OlrPhHbLj2I+t38uRcDZ8Sm09V1p2VTdZ219Coe7wOPNIIGBCBoQACCBgQgaEAAggYEIGhAgOLF4mVn76RHVE0v2VaUul5bcppZXn0zv+1T78yGPLTedXqAzlJ4ozXdHp0s5H9fW1d0j67c0VsbpaEzyjLI7/uk+qJmJpcXNPsUxlycEaFpcEcDAhA0IABBAwIQNCAAQQMCEDQgAEEDAhzuebRpOLNFXsfE7QeN88vJmZkVor48dvo9NWdbpiMtffjI+XRVfuasv70sD11yenhFL98nMzOzu/q6Kd7yg7Psg02LOxoQgKABAQgaEICgAQEIGhCAoAEBCBoQ4LPbR/M4fbaq7/W6nHk30YdLe3qmq9Zc1K99SfeqFpxZu2nmtipv7UNnPczD3OuaJe5oQACCBgQgaEAAggYEIGhAAIIGBPj8Pt6fljeGo3c/0i/dc7YXcqQZbj/kv/nn8/G9hzsaEICgAQEIGhCAoAEBCBoQgKABAQgaEICgAQEIGhCAoAEBCBoQgKABAQgaEICgAQEIGhDgf2TmyL1jeTyuAAAAAElFTkSuQmCC\" y=\"-6.64\"/>\n   </g>\n   <g id=\"matplotlib.axis_1\">\n    <g id=\"xtick_1\">\n     <g id=\"line2d_1\">\n      <defs>\n       <path d=\"M 0 0 \nL 0 3.5 \n\" id=\"m8d3ffe8f84\" style=\"stroke:#000000;stroke-width:0.8;\"/>\n      </defs>\n      <g>\n       <use style=\"stroke:#000000;stroke-width:0.8;\" x=\"30.807857\" xlink:href=\"#m8d3ffe8f84\" y=\"224.64\"/>\n      </g>\n     </g>\n     <g id=\"text_1\">\n      <!-- 0 -->\n      <g transform=\"translate(27.626607 239.238437)scale(0.1 -0.1)\">\n       <defs>\n        <path d=\"M 31.78125 66.40625 \nQ 24.171875 66.40625 20.328125 58.90625 \nQ 16.5 51.421875 16.5 36.375 \nQ 16.5 21.390625 20.328125 13.890625 \nQ 24.171875 6.390625 31.78125 6.390625 \nQ 39.453125 6.390625 43.28125 13.890625 \nQ 47.125 21.390625 47.125 36.375 \nQ 47.125 51.421875 43.28125 58.90625 \nQ 39.453125 66.40625 31.78125 66.40625 \nz\nM 31.78125 74.21875 \nQ 44.046875 74.21875 50.515625 64.515625 \nQ 56.984375 54.828125 56.984375 36.375 \nQ 56.984375 17.96875 50.515625 8.265625 \nQ 44.046875 -1.421875 31.78125 -1.421875 \nQ 19.53125 -1.421875 13.0625 8.265625 \nQ 6.59375 17.96875 6.59375 36.375 \nQ 6.59375 54.828125 13.0625 64.515625 \nQ 19.53125 74.21875 31.78125 74.21875 \nz\n\" id=\"DejaVuSans-48\"/>\n       </defs>\n       <use xlink:href=\"#DejaVuSans-48\"/>\n      </g>\n     </g>\n    </g>\n    <g id=\"xtick_2\">\n     <g id=\"line2d_2\">\n      <g>\n       <use style=\"stroke:#000000;stroke-width:0.8;\" x=\"69.636429\" xlink:href=\"#m8d3ffe8f84\" y=\"224.64\"/>\n      </g>\n     </g>\n     <g id=\"text_2\">\n      <!-- 5 -->\n      <g transform=\"translate(66.455179 239.238437)scale(0.1 -0.1)\">\n       <defs>\n        <path d=\"M 10.796875 72.90625 \nL 49.515625 72.90625 \nL 49.515625 64.59375 \nL 19.828125 64.59375 \nL 19.828125 46.734375 \nQ 21.96875 47.46875 24.109375 47.828125 \nQ 26.265625 48.1875 28.421875 48.1875 \nQ 40.625 48.1875 47.75 41.5 \nQ 54.890625 34.8125 54.890625 23.390625 \nQ 54.890625 11.625 47.5625 5.09375 \nQ 40.234375 -1.421875 26.90625 -1.421875 \nQ 22.3125 -1.421875 17.546875 -0.640625 \nQ 12.796875 0.140625 7.71875 1.703125 \nL 7.71875 11.625 \nQ 12.109375 9.234375 16.796875 8.0625 \nQ 21.484375 6.890625 26.703125 6.890625 \nQ 35.15625 6.890625 40.078125 11.328125 \nQ 45.015625 15.765625 45.015625 23.390625 \nQ 45.015625 31 40.078125 35.4375 \nQ 35.15625 39.890625 26.703125 39.890625 \nQ 22.75 39.890625 18.8125 39.015625 \nQ 14.890625 38.140625 10.796875 36.28125 \nz\n\" id=\"DejaVuSans-53\"/>\n       </defs>\n       <use xlink:href=\"#DejaVuSans-53\"/>\n      </g>\n     </g>\n    </g>\n    <g id=\"xtick_3\">\n     <g id=\"line2d_3\">\n      <g>\n       <use style=\"stroke:#000000;stroke-width:0.8;\" x=\"108.465\" xlink:href=\"#m8d3ffe8f84\" y=\"224.64\"/>\n      </g>\n     </g>\n     <g id=\"text_3\">\n      <!-- 10 -->\n      <g transform=\"translate(102.1025 239.238437)scale(0.1 -0.1)\">\n       <defs>\n        <path d=\"M 12.40625 8.296875 \nL 28.515625 8.296875 \nL 28.515625 63.921875 \nL 10.984375 60.40625 \nL 10.984375 69.390625 \nL 28.421875 72.90625 \nL 38.28125 72.90625 \nL 38.28125 8.296875 \nL 54.390625 8.296875 \nL 54.390625 0 \nL 12.40625 0 \nz\n\" id=\"DejaVuSans-49\"/>\n       </defs>\n       <use xlink:href=\"#DejaVuSans-49\"/>\n       <use x=\"63.623047\" xlink:href=\"#DejaVuSans-48\"/>\n      </g>\n     </g>\n    </g>\n    <g id=\"xtick_4\">\n     <g id=\"line2d_4\">\n      <g>\n       <use style=\"stroke:#000000;stroke-width:0.8;\" x=\"147.293571\" xlink:href=\"#m8d3ffe8f84\" y=\"224.64\"/>\n      </g>\n     </g>\n     <g id=\"text_4\">\n      <!-- 15 -->\n      <g transform=\"translate(140.931071 239.238437)scale(0.1 -0.1)\">\n       <use xlink:href=\"#DejaVuSans-49\"/>\n       <use x=\"63.623047\" xlink:href=\"#DejaVuSans-53\"/>\n      </g>\n     </g>\n    </g>\n    <g id=\"xtick_5\">\n     <g id=\"line2d_5\">\n      <g>\n       <use style=\"stroke:#000000;stroke-width:0.8;\" x=\"186.122143\" xlink:href=\"#m8d3ffe8f84\" y=\"224.64\"/>\n      </g>\n     </g>\n     <g id=\"text_5\">\n      <!-- 20 -->\n      <g transform=\"translate(179.759643 239.238437)scale(0.1 -0.1)\">\n       <defs>\n        <path d=\"M 19.1875 8.296875 \nL 53.609375 8.296875 \nL 53.609375 0 \nL 7.328125 0 \nL 7.328125 8.296875 \nQ 12.9375 14.109375 22.625 23.890625 \nQ 32.328125 33.6875 34.8125 36.53125 \nQ 39.546875 41.84375 41.421875 45.53125 \nQ 43.3125 49.21875 43.3125 52.78125 \nQ 43.3125 58.59375 39.234375 62.25 \nQ 35.15625 65.921875 28.609375 65.921875 \nQ 23.96875 65.921875 18.8125 64.3125 \nQ 13.671875 62.703125 7.8125 59.421875 \nL 7.8125 69.390625 \nQ 13.765625 71.78125 18.9375 73 \nQ 24.125 74.21875 28.421875 74.21875 \nQ 39.75 74.21875 46.484375 68.546875 \nQ 53.21875 62.890625 53.21875 53.421875 \nQ 53.21875 48.921875 51.53125 44.890625 \nQ 49.859375 40.875 45.40625 35.40625 \nQ 44.1875 33.984375 37.640625 27.21875 \nQ 31.109375 20.453125 19.1875 8.296875 \nz\n\" id=\"DejaVuSans-50\"/>\n       </defs>\n       <use xlink:href=\"#DejaVuSans-50\"/>\n       <use x=\"63.623047\" xlink:href=\"#DejaVuSans-48\"/>\n      </g>\n     </g>\n    </g>\n    <g id=\"xtick_6\">\n     <g id=\"line2d_6\">\n      <g>\n       <use style=\"stroke:#000000;stroke-width:0.8;\" x=\"224.950714\" xlink:href=\"#m8d3ffe8f84\" y=\"224.64\"/>\n      </g>\n     </g>\n     <g id=\"text_6\">\n      <!-- 25 -->\n      <g transform=\"translate(218.588214 239.238437)scale(0.1 -0.1)\">\n       <use xlink:href=\"#DejaVuSans-50\"/>\n       <use x=\"63.623047\" xlink:href=\"#DejaVuSans-53\"/>\n      </g>\n     </g>\n    </g>\n   </g>\n   <g id=\"matplotlib.axis_2\">\n    <g id=\"ytick_1\">\n     <g id=\"line2d_7\">\n      <defs>\n       <path d=\"M 0 0 \nL -3.5 0 \n\" id=\"m53b6b5b978\" style=\"stroke:#000000;stroke-width:0.8;\"/>\n      </defs>\n      <g>\n       <use style=\"stroke:#000000;stroke-width:0.8;\" x=\"26.925\" xlink:href=\"#m53b6b5b978\" y=\"11.082857\"/>\n      </g>\n     </g>\n     <g id=\"text_7\">\n      <!-- 0 -->\n      <g transform=\"translate(13.5625 14.882076)scale(0.1 -0.1)\">\n       <use xlink:href=\"#DejaVuSans-48\"/>\n      </g>\n     </g>\n    </g>\n    <g id=\"ytick_2\">\n     <g id=\"line2d_8\">\n      <g>\n       <use style=\"stroke:#000000;stroke-width:0.8;\" x=\"26.925\" xlink:href=\"#m53b6b5b978\" y=\"49.911429\"/>\n      </g>\n     </g>\n     <g id=\"text_8\">\n      <!-- 5 -->\n      <g transform=\"translate(13.5625 53.710647)scale(0.1 -0.1)\">\n       <use xlink:href=\"#DejaVuSans-53\"/>\n      </g>\n     </g>\n    </g>\n    <g id=\"ytick_3\">\n     <g id=\"line2d_9\">\n      <g>\n       <use style=\"stroke:#000000;stroke-width:0.8;\" x=\"26.925\" xlink:href=\"#m53b6b5b978\" y=\"88.74\"/>\n      </g>\n     </g>\n     <g id=\"text_9\">\n      <!-- 10 -->\n      <g transform=\"translate(7.2 92.539219)scale(0.1 -0.1)\">\n       <use xlink:href=\"#DejaVuSans-49\"/>\n       <use x=\"63.623047\" xlink:href=\"#DejaVuSans-48\"/>\n      </g>\n     </g>\n    </g>\n    <g id=\"ytick_4\">\n     <g id=\"line2d_10\">\n      <g>\n       <use style=\"stroke:#000000;stroke-width:0.8;\" x=\"26.925\" xlink:href=\"#m53b6b5b978\" y=\"127.568571\"/>\n      </g>\n     </g>\n     <g id=\"text_10\">\n      <!-- 15 -->\n      <g transform=\"translate(7.2 131.36779)scale(0.1 -0.1)\">\n       <use xlink:href=\"#DejaVuSans-49\"/>\n       <use x=\"63.623047\" xlink:href=\"#DejaVuSans-53\"/>\n      </g>\n     </g>\n    </g>\n    <g id=\"ytick_5\">\n     <g id=\"line2d_11\">\n      <g>\n       <use style=\"stroke:#000000;stroke-width:0.8;\" x=\"26.925\" xlink:href=\"#m53b6b5b978\" y=\"166.397143\"/>\n      </g>\n     </g>\n     <g id=\"text_11\">\n      <!-- 20 -->\n      <g transform=\"translate(7.2 170.196362)scale(0.1 -0.1)\">\n       <use xlink:href=\"#DejaVuSans-50\"/>\n       <use x=\"63.623047\" xlink:href=\"#DejaVuSans-48\"/>\n      </g>\n     </g>\n    </g>\n    <g id=\"ytick_6\">\n     <g id=\"line2d_12\">\n      <g>\n       <use style=\"stroke:#000000;stroke-width:0.8;\" x=\"26.925\" xlink:href=\"#m53b6b5b978\" y=\"205.225714\"/>\n      </g>\n     </g>\n     <g id=\"text_12\">\n      <!-- 25 -->\n      <g transform=\"translate(7.2 209.024933)scale(0.1 -0.1)\">\n       <use xlink:href=\"#DejaVuSans-50\"/>\n       <use x=\"63.623047\" xlink:href=\"#DejaVuSans-53\"/>\n      </g>\n     </g>\n    </g>\n   </g>\n   <g id=\"patch_3\">\n    <path d=\"M 26.925 224.64 \nL 26.925 7.2 \n\" style=\"fill:none;stroke:#000000;stroke-linecap:square;stroke-linejoin:miter;stroke-width:0.8;\"/>\n   </g>\n   <g id=\"patch_4\">\n    <path d=\"M 244.365 224.64 \nL 244.365 7.2 \n\" style=\"fill:none;stroke:#000000;stroke-linecap:square;stroke-linejoin:miter;stroke-width:0.8;\"/>\n   </g>\n   <g id=\"patch_5\">\n    <path d=\"M 26.925 224.64 \nL 244.365 224.64 \n\" style=\"fill:none;stroke:#000000;stroke-linecap:square;stroke-linejoin:miter;stroke-width:0.8;\"/>\n   </g>\n   <g id=\"patch_6\">\n    <path d=\"M 26.925 7.2 \nL 244.365 7.2 \n\" style=\"fill:none;stroke:#000000;stroke-linecap:square;stroke-linejoin:miter;stroke-width:0.8;\"/>\n   </g>\n  </g>\n </g>\n <defs>\n  <clipPath id=\"p136c9de889\">\n   <rect height=\"217.44\" width=\"217.44\" x=\"26.925\" y=\"7.2\"/>\n  </clipPath>\n </defs>\n</svg>\n",
      "image/png": "[encoded data removed]"
     },
     "metadata": {
      "needs_background": "light"
     }
    }
   ],
   "source": [
    "import matplotlib.pyplot as plt\n",
    "print(forest_clf.score(X_test, y_test))\n",
    "feature_importances = forest_clf.feature_importances_\n",
    "\n",
    "plt.imshow(feature_importances.reshape(28,28))"
   ]
  },
  {
   "cell_type": "code",
   "execution_count": 58,
   "metadata": {
    "tags": []
   },
   "outputs": [
    {
     "output_type": "stream",
     "name": "stdout",
     "text": "0.9695\n"
    },
    {
     "output_type": "execute_result",
     "data": {
      "text/plain": "<matplotlib.image.AxesImage at 0x7feefd588a50>"
     },
     "metadata": {},
     "execution_count": 58
    },
    {
     "output_type": "display_data",
     "data": {
      "text/plain": "<Figure size 432x288 with 1 Axes>",
      "image/svg+xml": "<?xml version=\"1.0\" encoding=\"utf-8\" standalone=\"no\"?>\n<!DOCTYPE svg PUBLIC \"-//W3C//DTD SVG 1.1//EN\"\n  \"http://www.w3.org/Graphics/SVG/1.1/DTD/svg11.dtd\">\n<!-- Created with matplotlib (https://matplotlib.org/) -->\n<svg height=\"248.518125pt\" version=\"1.1\" viewBox=\"0 0 251.565 248.518125\" width=\"251.565pt\" xmlns=\"http://www.w3.org/2000/svg\" xmlns:xlink=\"http://www.w3.org/1999/xlink\">\n <metadata>\n  <rdf:RDF xmlns:cc=\"http://creativecommons.org/ns#\" xmlns:dc=\"http://purl.org/dc/elements/1.1/\" xmlns:rdf=\"http://www.w3.org/1999/02/22-rdf-syntax-ns#\">\n   <cc:Work>\n    <dc:type rdf:resource=\"http://purl.org/dc/dcmitype/StillImage\"/>\n    <dc:date>2020-09-09T23:19:50.287087</dc:date>\n    <dc:format>image/svg+xml</dc:format>\n    <dc:creator>\n     <cc:Agent>\n      <dc:title>Matplotlib v3.3.1, https://matplotlib.org/</dc:title>\n     </cc:Agent>\n    </dc:creator>\n   </cc:Work>\n  </rdf:RDF>\n </metadata>\n <defs>\n  <style type=\"text/css\">*{stroke-linecap:butt;stroke-linejoin:round;}</style>\n </defs>\n <g id=\"figure_1\">\n  <g id=\"patch_1\">\n   <path d=\"M 0 248.518125 \nL 251.565 248.518125 \nL 251.565 0 \nL 0 0 \nz\n\" style=\"fill:none;\"/>\n  </g>\n  <g id=\"axes_1\">\n   <g id=\"patch_2\">\n    <path d=\"M 26.925 224.64 \nL 244.365 224.64 \nL 244.365 7.2 \nL 26.925 7.2 \nz\n\" style=\"fill:#ffffff;\"/>\n   </g>\n   <g clip-path=\"url(#p6275a25653)\">\n    <image height=\"218\" id=\"image4befe91fd7\" transform=\"scale(1 -1)translate(0 -218)\" width=\"218\" x=\"26.925\" xlink:href=\"data:image/png;base64,\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\" y=\"-6.64\"/>\n   </g>\n   <g id=\"matplotlib.axis_1\">\n    <g id=\"xtick_1\">\n     <g id=\"line2d_1\">\n      <defs>\n       <path d=\"M 0 0 \nL 0 3.5 \n\" id=\"mb0bf9a65ef\" style=\"stroke:#000000;stroke-width:0.8;\"/>\n      </defs>\n      <g>\n       <use style=\"stroke:#000000;stroke-width:0.8;\" x=\"30.807857\" xlink:href=\"#mb0bf9a65ef\" y=\"224.64\"/>\n      </g>\n     </g>\n     <g id=\"text_1\">\n      <!-- 0 -->\n      <g transform=\"translate(27.626607 239.238437)scale(0.1 -0.1)\">\n       <defs>\n        <path d=\"M 31.78125 66.40625 \nQ 24.171875 66.40625 20.328125 58.90625 \nQ 16.5 51.421875 16.5 36.375 \nQ 16.5 21.390625 20.328125 13.890625 \nQ 24.171875 6.390625 31.78125 6.390625 \nQ 39.453125 6.390625 43.28125 13.890625 \nQ 47.125 21.390625 47.125 36.375 \nQ 47.125 51.421875 43.28125 58.90625 \nQ 39.453125 66.40625 31.78125 66.40625 \nz\nM 31.78125 74.21875 \nQ 44.046875 74.21875 50.515625 64.515625 \nQ 56.984375 54.828125 56.984375 36.375 \nQ 56.984375 17.96875 50.515625 8.265625 \nQ 44.046875 -1.421875 31.78125 -1.421875 \nQ 19.53125 -1.421875 13.0625 8.265625 \nQ 6.59375 17.96875 6.59375 36.375 \nQ 6.59375 54.828125 13.0625 64.515625 \nQ 19.53125 74.21875 31.78125 74.21875 \nz\n\" id=\"DejaVuSans-48\"/>\n       </defs>\n       <use xlink:href=\"#DejaVuSans-48\"/>\n      </g>\n     </g>\n    </g>\n    <g id=\"xtick_2\">\n     <g id=\"line2d_2\">\n      <g>\n       <use style=\"stroke:#000000;stroke-width:0.8;\" x=\"69.636429\" xlink:href=\"#mb0bf9a65ef\" y=\"224.64\"/>\n      </g>\n     </g>\n     <g id=\"text_2\">\n      <!-- 5 -->\n      <g transform=\"translate(66.455179 239.238437)scale(0.1 -0.1)\">\n       <defs>\n        <path d=\"M 10.796875 72.90625 \nL 49.515625 72.90625 \nL 49.515625 64.59375 \nL 19.828125 64.59375 \nL 19.828125 46.734375 \nQ 21.96875 47.46875 24.109375 47.828125 \nQ 26.265625 48.1875 28.421875 48.1875 \nQ 40.625 48.1875 47.75 41.5 \nQ 54.890625 34.8125 54.890625 23.390625 \nQ 54.890625 11.625 47.5625 5.09375 \nQ 40.234375 -1.421875 26.90625 -1.421875 \nQ 22.3125 -1.421875 17.546875 -0.640625 \nQ 12.796875 0.140625 7.71875 1.703125 \nL 7.71875 11.625 \nQ 12.109375 9.234375 16.796875 8.0625 \nQ 21.484375 6.890625 26.703125 6.890625 \nQ 35.15625 6.890625 40.078125 11.328125 \nQ 45.015625 15.765625 45.015625 23.390625 \nQ 45.015625 31 40.078125 35.4375 \nQ 35.15625 39.890625 26.703125 39.890625 \nQ 22.75 39.890625 18.8125 39.015625 \nQ 14.890625 38.140625 10.796875 36.28125 \nz\n\" id=\"DejaVuSans-53\"/>\n       </defs>\n       <use xlink:href=\"#DejaVuSans-53\"/>\n      </g>\n     </g>\n    </g>\n    <g id=\"xtick_3\">\n     <g id=\"line2d_3\">\n      <g>\n       <use style=\"stroke:#000000;stroke-width:0.8;\" x=\"108.465\" xlink:href=\"#mb0bf9a65ef\" y=\"224.64\"/>\n      </g>\n     </g>\n     <g id=\"text_3\">\n      <!-- 10 -->\n      <g transform=\"translate(102.1025 239.238437)scale(0.1 -0.1)\">\n       <defs>\n        <path d=\"M 12.40625 8.296875 \nL 28.515625 8.296875 \nL 28.515625 63.921875 \nL 10.984375 60.40625 \nL 10.984375 69.390625 \nL 28.421875 72.90625 \nL 38.28125 72.90625 \nL 38.28125 8.296875 \nL 54.390625 8.296875 \nL 54.390625 0 \nL 12.40625 0 \nz\n\" id=\"DejaVuSans-49\"/>\n       </defs>\n       <use xlink:href=\"#DejaVuSans-49\"/>\n       <use x=\"63.623047\" xlink:href=\"#DejaVuSans-48\"/>\n      </g>\n     </g>\n    </g>\n    <g id=\"xtick_4\">\n     <g id=\"line2d_4\">\n      <g>\n       <use style=\"stroke:#000000;stroke-width:0.8;\" x=\"147.293571\" xlink:href=\"#mb0bf9a65ef\" y=\"224.64\"/>\n      </g>\n     </g>\n     <g id=\"text_4\">\n      <!-- 15 -->\n      <g transform=\"translate(140.931071 239.238437)scale(0.1 -0.1)\">\n       <use xlink:href=\"#DejaVuSans-49\"/>\n       <use x=\"63.623047\" xlink:href=\"#DejaVuSans-53\"/>\n      </g>\n     </g>\n    </g>\n    <g id=\"xtick_5\">\n     <g id=\"line2d_5\">\n      <g>\n       <use style=\"stroke:#000000;stroke-width:0.8;\" x=\"186.122143\" xlink:href=\"#mb0bf9a65ef\" y=\"224.64\"/>\n      </g>\n     </g>\n     <g id=\"text_5\">\n      <!-- 20 -->\n      <g transform=\"translate(179.759643 239.238437)scale(0.1 -0.1)\">\n       <defs>\n        <path d=\"M 19.1875 8.296875 \nL 53.609375 8.296875 \nL 53.609375 0 \nL 7.328125 0 \nL 7.328125 8.296875 \nQ 12.9375 14.109375 22.625 23.890625 \nQ 32.328125 33.6875 34.8125 36.53125 \nQ 39.546875 41.84375 41.421875 45.53125 \nQ 43.3125 49.21875 43.3125 52.78125 \nQ 43.3125 58.59375 39.234375 62.25 \nQ 35.15625 65.921875 28.609375 65.921875 \nQ 23.96875 65.921875 18.8125 64.3125 \nQ 13.671875 62.703125 7.8125 59.421875 \nL 7.8125 69.390625 \nQ 13.765625 71.78125 18.9375 73 \nQ 24.125 74.21875 28.421875 74.21875 \nQ 39.75 74.21875 46.484375 68.546875 \nQ 53.21875 62.890625 53.21875 53.421875 \nQ 53.21875 48.921875 51.53125 44.890625 \nQ 49.859375 40.875 45.40625 35.40625 \nQ 44.1875 33.984375 37.640625 27.21875 \nQ 31.109375 20.453125 19.1875 8.296875 \nz\n\" id=\"DejaVuSans-50\"/>\n       </defs>\n       <use xlink:href=\"#DejaVuSans-50\"/>\n       <use x=\"63.623047\" xlink:href=\"#DejaVuSans-48\"/>\n      </g>\n     </g>\n    </g>\n    <g id=\"xtick_6\">\n     <g id=\"line2d_6\">\n      <g>\n       <use style=\"stroke:#000000;stroke-width:0.8;\" x=\"224.950714\" xlink:href=\"#mb0bf9a65ef\" y=\"224.64\"/>\n      </g>\n     </g>\n     <g id=\"text_6\">\n      <!-- 25 -->\n      <g transform=\"translate(218.588214 239.238437)scale(0.1 -0.1)\">\n       <use xlink:href=\"#DejaVuSans-50\"/>\n       <use x=\"63.623047\" xlink:href=\"#DejaVuSans-53\"/>\n      </g>\n     </g>\n    </g>\n   </g>\n   <g id=\"matplotlib.axis_2\">\n    <g id=\"ytick_1\">\n     <g id=\"line2d_7\">\n      <defs>\n       <path d=\"M 0 0 \nL -3.5 0 \n\" id=\"mcfd3070335\" style=\"stroke:#000000;stroke-width:0.8;\"/>\n      </defs>\n      <g>\n       <use style=\"stroke:#000000;stroke-width:0.8;\" x=\"26.925\" xlink:href=\"#mcfd3070335\" y=\"11.082857\"/>\n      </g>\n     </g>\n     <g id=\"text_7\">\n      <!-- 0 -->\n      <g transform=\"translate(13.5625 14.882076)scale(0.1 -0.1)\">\n       <use xlink:href=\"#DejaVuSans-48\"/>\n      </g>\n     </g>\n    </g>\n    <g id=\"ytick_2\">\n     <g id=\"line2d_8\">\n      <g>\n       <use style=\"stroke:#000000;stroke-width:0.8;\" x=\"26.925\" xlink:href=\"#mcfd3070335\" y=\"49.911429\"/>\n      </g>\n     </g>\n     <g id=\"text_8\">\n      <!-- 5 -->\n      <g transform=\"translate(13.5625 53.710647)scale(0.1 -0.1)\">\n       <use xlink:href=\"#DejaVuSans-53\"/>\n      </g>\n     </g>\n    </g>\n    <g id=\"ytick_3\">\n     <g id=\"line2d_9\">\n      <g>\n       <use style=\"stroke:#000000;stroke-width:0.8;\" x=\"26.925\" xlink:href=\"#mcfd3070335\" y=\"88.74\"/>\n      </g>\n     </g>\n     <g id=\"text_9\">\n      <!-- 10 -->\n      <g transform=\"translate(7.2 92.539219)scale(0.1 -0.1)\">\n       <use xlink:href=\"#DejaVuSans-49\"/>\n       <use x=\"63.623047\" xlink:href=\"#DejaVuSans-48\"/>\n      </g>\n     </g>\n    </g>\n    <g id=\"ytick_4\">\n     <g id=\"line2d_10\">\n      <g>\n       <use style=\"stroke:#000000;stroke-width:0.8;\" x=\"26.925\" xlink:href=\"#mcfd3070335\" y=\"127.568571\"/>\n      </g>\n     </g>\n     <g id=\"text_10\">\n      <!-- 15 -->\n      <g transform=\"translate(7.2 131.36779)scale(0.1 -0.1)\">\n       <use xlink:href=\"#DejaVuSans-49\"/>\n       <use x=\"63.623047\" xlink:href=\"#DejaVuSans-53\"/>\n      </g>\n     </g>\n    </g>\n    <g id=\"ytick_5\">\n     <g id=\"line2d_11\">\n      <g>\n       <use style=\"stroke:#000000;stroke-width:0.8;\" x=\"26.925\" xlink:href=\"#mcfd3070335\" y=\"166.397143\"/>\n      </g>\n     </g>\n     <g id=\"text_11\">\n      <!-- 20 -->\n      <g transform=\"translate(7.2 170.196362)scale(0.1 -0.1)\">\n       <use xlink:href=\"#DejaVuSans-50\"/>\n       <use x=\"63.623047\" xlink:href=\"#DejaVuSans-48\"/>\n      </g>\n     </g>\n    </g>\n    <g id=\"ytick_6\">\n     <g id=\"line2d_12\">\n      <g>\n       <use style=\"stroke:#000000;stroke-width:0.8;\" x=\"26.925\" xlink:href=\"#mcfd3070335\" y=\"205.225714\"/>\n      </g>\n     </g>\n     <g id=\"text_12\">\n      <!-- 25 -->\n      <g transform=\"translate(7.2 209.024933)scale(0.1 -0.1)\">\n       <use xlink:href=\"#DejaVuSans-50\"/>\n       <use x=\"63.623047\" xlink:href=\"#DejaVuSans-53\"/>\n      </g>\n     </g>\n    </g>\n   </g>\n   <g id=\"patch_3\">\n    <path d=\"M 26.925 224.64 \nL 26.925 7.2 \n\" style=\"fill:none;stroke:#000000;stroke-linecap:square;stroke-linejoin:miter;stroke-width:0.8;\"/>\n   </g>\n   <g id=\"patch_4\">\n    <path d=\"M 244.365 224.64 \nL 244.365 7.2 \n\" style=\"fill:none;stroke:#000000;stroke-linecap:square;stroke-linejoin:miter;stroke-width:0.8;\"/>\n   </g>\n   <g id=\"patch_5\">\n    <path d=\"M 26.925 224.64 \nL 244.365 224.64 \n\" style=\"fill:none;stroke:#000000;stroke-linecap:square;stroke-linejoin:miter;stroke-width:0.8;\"/>\n   </g>\n   <g id=\"patch_6\">\n    <path d=\"M 26.925 7.2 \nL 244.365 7.2 \n\" style=\"fill:none;stroke:#000000;stroke-linecap:square;stroke-linejoin:miter;stroke-width:0.8;\"/>\n   </g>\n  </g>\n </g>\n <defs>\n  <clipPath id=\"p6275a25653\">\n   <rect height=\"217.44\" width=\"217.44\" x=\"26.925\" y=\"7.2\"/>\n  </clipPath>\n </defs>\n</svg>\n",
      "image/png": "[encoded data removed]"
     },
     "metadata": {
      "needs_background": "light"
     }
    }
   ],
   "source": [
    "print(ext_clf.score(X_test, y_test))\n",
    "\n",
    "feature_importances = ext_clf.feature_importances_\n",
    "\n",
    "plt.imshow(feature_importances.reshape(28,28))"
   ]
  },
  {
   "cell_type": "code",
   "execution_count": 92,
   "metadata": {
    "tags": []
   },
   "outputs": [],
   "source": [
    "## soft_voting\n",
    "def soft_voting(estimators, X):\n",
    "    \n",
    "    y = np.zeros((X.shape[0], 10))\n",
    "\n",
    "    for estimator in estimators:\n",
    "        y = y + estimator.predict_proba(X)\n",
    "\n",
    "    y = y/len(estimators)\n",
    "    y = np.argmax(y, axis = 1)\n",
    "    \n",
    "    return y.astype('int')\n",
    "\n",
    "y_test_pred = soft_voting([log_reg, forest_clf, ext_clf], X_test)\n",
    "\n",
    "def hard_voting(estimators, X):\n",
    "    \n",
    "    y = np.zeros((X.shape[0], len(estimators)))\n",
    "\n",
    "    for ind, estimator in enumerate(estimators):\n",
    "        y[:, ind] = estimator.predict(X).astype('int')\n",
    "    \n",
    "    return y\n",
    "\n",
    "y_test_pred_hard = hard_voting([log_reg, forest_clf, ext_clf], X_test)"
   ]
  },
  {
   "cell_type": "code",
   "execution_count": 89,
   "metadata": {
    "tags": []
   },
   "outputs": [
    {
     "output_type": "stream",
     "name": "stdout",
     "text": "[['8.0' '8.0' '8.0']\n ['4.0' '4.0' '4.0']\n ['5.0' '8.0' '8.0']\n ...\n ['2.0' '2.0' '2.0']\n ['7.0' '7.0' '7.0']\n ['1.0' '1.0' '1.0']]\n"
    }
   ],
   "source": [
    "print(y_test_pred_hard.astype('str'))"
   ]
  },
  {
   "cell_type": "code",
   "execution_count": 61,
   "metadata": {},
   "outputs": [],
   "source": [
    "from scipy import stats\n",
    "\n",
    "y_test_predclass_hard = stats.mode(y_test_pred_hard, axis = 1)"
   ]
  },
  {
   "cell_type": "code",
   "execution_count": 102,
   "metadata": {
    "tags": []
   },
   "outputs": [
    {
     "output_type": "execute_result",
     "data": {
      "text/plain": "0.9556428571428571"
     },
     "metadata": {},
     "execution_count": 102
    }
   ],
   "source": [
    "from sklearn.metrics import accuracy_score\n",
    "\n",
    "accuracy_score(y_test, y_test_predclass.astype('str'))"
   ]
  },
  {
   "cell_type": "code",
   "execution_count": 80,
   "metadata": {
    "tags": []
   },
   "outputs": [
    {
     "output_type": "stream",
     "name": "stdout",
     "text": "(14000, 1)\n0.9667857142857142\n"
    }
   ],
   "source": [
    "print(np.array(y_test_predclass_hard)[0].shape)\n",
    "print(accuracy_score(np.array(y_test_predclass_hard)[0].astype('int').astype('str'), y_test))"
   ]
  },
  {
   "cell_type": "code",
   "execution_count": 78,
   "metadata": {
    "tags": []
   },
   "outputs": [
    {
     "output_type": "stream",
     "name": "stdout",
     "text": "[['8']\n ['4']\n ['8']\n ...\n ['2']\n ['7']\n ['1']]\n['8' '4' '8' ... '2' '7' '1']\n"
    }
   ],
   "source": [
    "print(np.array(y_test_predclass_hard)[0].astype('int').astype('str'))\n",
    "print(y_test)"
   ]
  },
  {
   "cell_type": "markdown",
   "metadata": {},
   "source": [
    "## Question 9"
   ]
  },
  {
   "cell_type": "code",
   "execution_count": 86,
   "metadata": {},
   "outputs": [],
   "source": [
    "# further divide the test set into validation set\n",
    "\n",
    "X_valid, X_test2, y_valid, y_test2 = train_test_split(X_test, y_test, test_size = 0.5)"
   ]
  },
  {
   "cell_type": "code",
   "execution_count": 94,
   "metadata": {
    "tags": []
   },
   "outputs": [
    {
     "output_type": "stream",
     "name": "stdout",
     "text": "(7000, 3)\n"
    }
   ],
   "source": [
    "y_valid_pred_hard = hard_voting([log_reg, forest_clf, ext_clf], X_valid)\n",
    "print(y_valid_pred_hard.shape)"
   ]
  },
  {
   "cell_type": "code",
   "execution_count": 95,
   "metadata": {
    "tags": []
   },
   "outputs": [
    {
     "output_type": "execute_result",
     "data": {
      "text/plain": "LogisticRegression()"
     },
     "metadata": {},
     "execution_count": 95
    }
   ],
   "source": [
    "blender = LogisticRegression()\n",
    "blender.fit(y_valid_pred_hard, y_valid)"
   ]
  },
  {
   "cell_type": "code",
   "execution_count": 96,
   "metadata": {},
   "outputs": [
    {
     "output_type": "execute_result",
     "data": {
      "text/plain": "0.9525714285714286"
     },
     "metadata": {},
     "execution_count": 96
    }
   ],
   "source": [
    "blender.score(y_valid_pred_hard, y_valid)"
   ]
  },
  {
   "cell_type": "code",
   "execution_count": 97,
   "metadata": {},
   "outputs": [],
   "source": [
    "def stacking_ensemble(first_predictors, blender, X):\n",
    "    new_X = hard_voting(first_predictors, X)\n",
    "    y = blender.predict(new_X)\n",
    "    return y"
   ]
  },
  {
   "cell_type": "code",
   "execution_count": 98,
   "metadata": {},
   "outputs": [],
   "source": [
    "y_test2_pred = stacking_ensemble([log_reg, forest_clf, ext_clf], blender, X_test2)"
   ]
  },
  {
   "cell_type": "code",
   "execution_count": 100,
   "metadata": {
    "tags": []
   },
   "outputs": [
    {
     "output_type": "stream",
     "name": "stdout",
     "text": "['5' '5' '7' ... '8' '0' '2']\n['5' '5' '7' ... '9' '0' '2']\n"
    }
   ],
   "source": [
    "print(y_test2_pred)\n",
    "print(y_test2)"
   ]
  },
  {
   "cell_type": "code",
   "execution_count": 101,
   "metadata": {},
   "outputs": [
    {
     "output_type": "execute_result",
     "data": {
      "text/plain": "0.9488571428571428"
     },
     "metadata": {},
     "execution_count": 101
    }
   ],
   "source": [
    "accuracy_score(y_test2, y_test2_pred)"
   ]
  },
  {
   "cell_type": "code",
   "execution_count": null,
   "metadata": {},
   "outputs": [],
   "source": []
  }
 ]
}